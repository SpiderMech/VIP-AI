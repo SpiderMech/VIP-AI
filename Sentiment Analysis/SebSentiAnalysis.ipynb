{
 "cells": [
  {
   "cell_type": "markdown",
   "id": "7d82a440",
   "metadata": {},
   "source": [
    "# Sentiment analysis IMDb"
   ]
  },
  {
   "cell_type": "markdown",
   "id": "c2bc498d",
   "metadata": {},
   "source": [
    "Want to load in the txt files and create a database with the star rating and unique id."
   ]
  },
  {
   "cell_type": "code",
   "execution_count": 1,
   "id": "8d1b73ca",
   "metadata": {},
   "outputs": [],
   "source": [
    "import glob\n",
    "import os\n",
    "import re\n",
    "import pandas as pd\n",
    "import nltk\n",
    "from nltk.corpus import stopwords\n",
    "from nltk.stem import WordNetLemmatizer\n",
    "import matplotlib.pyplot as plt\n",
    "import numpy as np\n",
    "from wordcloud import WordCloud, STOPWORDS, ImageColorGenerator\n"
   ]
  },
  {
   "cell_type": "markdown",
   "id": "fa106769",
   "metadata": {},
   "source": [
    "The dataset has directories with txt files for positive and negative reviews. We combine these to make one dataset. yay"
   ]
  },
  {
   "cell_type": "code",
   "execution_count": 2,
   "id": "794f0c4d",
   "metadata": {},
   "outputs": [],
   "source": [
    "neg_file_list = glob.glob(os.path.join(os.getcwd(), \n",
    "                                       \"C:\\\\Users\\\\sebsj\\\\Desktop\\\\Python_VIP\\\\VIP-AI\\\\Sentiment Analysis\\\\data\\\\neg\",\"*.txt\"))\n",
    "\n",
    "corpus = []\n",
    "ids = []\n",
    "ratings = []\n",
    "\n",
    "for file in neg_file_list:\n",
    "    # get head and tail of txt file name\n",
    "    head, file_name = os.path.split(file)\n",
    "    \n",
    "    id = file_name.split(\"_\")[0]\n",
    "    rating = (file_name.split(\"_\")[1].split(\".\")[0])\n",
    "    \n",
    "    with open(file, encoding=\"utf8\") as f_input:\n",
    "        corpus.append(f_input.read())\n",
    "        ids.append(id)\n",
    "        ratings.append(rating)\n",
    "        \n",
    "dict = {'id': ids, 'text': corpus, 'rating': ratings} \n",
    "df_neg = pd.DataFrame(dict)"
   ]
  },
  {
   "cell_type": "code",
   "execution_count": 3,
   "id": "c1159681",
   "metadata": {},
   "outputs": [],
   "source": [
    "pos_file_list = glob.glob(os.path.join(os.getcwd(), \n",
    "                                       \"C:\\\\Users\\\\sebsj\\\\Desktop\\\\Python_VIP\\\\VIP-AI\\\\Sentiment Analysis\\\\data\\\\pos\",\"*.txt\"))\n",
    "\n",
    "corpus = []\n",
    "ids = []\n",
    "ratings = []\n",
    "\n",
    "for file in pos_file_list:\n",
    "    # get head and tail of txt file name\n",
    "    head, file_name = os.path.split(file)\n",
    "    \n",
    "    # id is a keyword baka\n",
    "    id = file_name.split(\"_\")[0]\n",
    "    rating = (file_name.split(\"_\")[1].split(\".\")[0])\n",
    "    \n",
    "    with open(file, encoding=\"utf8\") as f_input:\n",
    "        corpus.append(f_input.read())\n",
    "        ids.append(id)\n",
    "        ratings.append(rating)\n",
    "        \n",
    "dict = {'id': ids, 'text': corpus, 'rating': ratings} \n",
    "df_pos = pd.DataFrame(dict)"
   ]
  },
  {
   "cell_type": "code",
   "execution_count": 4,
   "id": "ee39202a",
   "metadata": {},
   "outputs": [],
   "source": [
    "neg_file_list = glob.glob(os.path.join(os.getcwd(), \n",
    "                                       \"C:\\\\Users\\\\sebsj\\\\Desktop\\\\Python_VIP\\\\VIP-AI\\\\Sentiment Analysis\\\\data\\\\neg\",\"*.txt\"))\n",
    "pos_file_list = glob.glob(os.path.join(os.getcwd(), \n",
    "                                       \"C:\\\\Users\\\\sebsj\\\\Desktop\\\\Python_VIP\\\\VIP-AI\\\\Sentiment Analysis\\\\data\\\\pos\",\"*.txt\"))\n",
    "file_list = pos_file_list + neg_file_list\n",
    "\n",
    "corpus = []\n",
    "ids = []\n",
    "ratings = []\n",
    "\n",
    "for file in file_list:\n",
    "    # get head and tail of txt file name\n",
    "    head, file_name = os.path.split(file)\n",
    "    \n",
    "    id = file_name.split(\"_\")[0]\n",
    "    rating = (file_name.split(\"_\")[1].split(\".\")[0])\n",
    "    \n",
    "    with open(file, encoding=\"utf8\") as f_input:\n",
    "        corpus.append(f_input.read())\n",
    "        ids.append(id)\n",
    "        ratings.append(rating)\n",
    "    "
   ]
  },
  {
   "cell_type": "code",
   "execution_count": 5,
   "id": "f0f2bcce",
   "metadata": {},
   "outputs": [],
   "source": [
    "dict = {'id': ids, 'text': corpus, 'rating': ratings} "
   ]
  },
  {
   "cell_type": "code",
   "execution_count": 6,
   "id": "fa3b803b",
   "metadata": {},
   "outputs": [],
   "source": [
    "df = pd.DataFrame(dict)"
   ]
  },
  {
   "cell_type": "code",
   "execution_count": 7,
   "id": "774bce2a",
   "metadata": {},
   "outputs": [
    {
     "data": {
      "text/html": [
       "<div>\n",
       "<style scoped>\n",
       "    .dataframe tbody tr th:only-of-type {\n",
       "        vertical-align: middle;\n",
       "    }\n",
       "\n",
       "    .dataframe tbody tr th {\n",
       "        vertical-align: top;\n",
       "    }\n",
       "\n",
       "    .dataframe thead th {\n",
       "        text-align: right;\n",
       "    }\n",
       "</style>\n",
       "<table border=\"1\" class=\"dataframe\">\n",
       "  <thead>\n",
       "    <tr style=\"text-align: right;\">\n",
       "      <th></th>\n",
       "      <th>id</th>\n",
       "      <th>text</th>\n",
       "      <th>rating</th>\n",
       "    </tr>\n",
       "  </thead>\n",
       "  <tbody>\n",
       "    <tr>\n",
       "      <th>0</th>\n",
       "      <td>10000</td>\n",
       "      <td>Homelessness (or Houselessness as George Carli...</td>\n",
       "      <td>8</td>\n",
       "    </tr>\n",
       "    <tr>\n",
       "      <th>1</th>\n",
       "      <td>10008</td>\n",
       "      <td>You know, Robin Williams, God bless him, is co...</td>\n",
       "      <td>7</td>\n",
       "    </tr>\n",
       "    <tr>\n",
       "      <th>2</th>\n",
       "      <td>10013</td>\n",
       "      <td>Like one of the previous commenters said, this...</td>\n",
       "      <td>7</td>\n",
       "    </tr>\n",
       "    <tr>\n",
       "      <th>3</th>\n",
       "      <td>10019</td>\n",
       "      <td>When it comes to movies I can be pretty picky,...</td>\n",
       "      <td>8</td>\n",
       "    </tr>\n",
       "    <tr>\n",
       "      <th>4</th>\n",
       "      <td>10020</td>\n",
       "      <td>The legendary Boris Karloff ended his illustri...</td>\n",
       "      <td>8</td>\n",
       "    </tr>\n",
       "  </tbody>\n",
       "</table>\n",
       "</div>"
      ],
      "text/plain": [
       "      id                                               text rating\n",
       "0  10000  Homelessness (or Houselessness as George Carli...      8\n",
       "1  10008  You know, Robin Williams, God bless him, is co...      7\n",
       "2  10013  Like one of the previous commenters said, this...      7\n",
       "3  10019  When it comes to movies I can be pretty picky,...      8\n",
       "4  10020  The legendary Boris Karloff ended his illustri...      8"
      ]
     },
     "execution_count": 7,
     "metadata": {},
     "output_type": "execute_result"
    }
   ],
   "source": [
    "df.head()"
   ]
  },
  {
   "cell_type": "markdown",
   "id": "13f3fa69",
   "metadata": {},
   "source": [
    "Check for duplicates."
   ]
  },
  {
   "cell_type": "code",
   "execution_count": 8,
   "id": "e5b3dc5b",
   "metadata": {},
   "outputs": [
    {
     "data": {
      "text/html": [
       "<div>\n",
       "<style scoped>\n",
       "    .dataframe tbody tr th:only-of-type {\n",
       "        vertical-align: middle;\n",
       "    }\n",
       "\n",
       "    .dataframe tbody tr th {\n",
       "        vertical-align: top;\n",
       "    }\n",
       "\n",
       "    .dataframe thead th {\n",
       "        text-align: right;\n",
       "    }\n",
       "</style>\n",
       "<table border=\"1\" class=\"dataframe\">\n",
       "  <thead>\n",
       "    <tr style=\"text-align: right;\">\n",
       "      <th></th>\n",
       "      <th>id</th>\n",
       "      <th>text</th>\n",
       "      <th>rating</th>\n",
       "    </tr>\n",
       "  </thead>\n",
       "  <tbody>\n",
       "  </tbody>\n",
       "</table>\n",
       "</div>"
      ],
      "text/plain": [
       "Empty DataFrame\n",
       "Columns: [id, text, rating]\n",
       "Index: []"
      ]
     },
     "execution_count": 8,
     "metadata": {},
     "output_type": "execute_result"
    }
   ],
   "source": [
    "duplicateRows = df[df.duplicated()]\n",
    "duplicateRows"
   ]
  },
  {
   "cell_type": "markdown",
   "id": "6792c1b5",
   "metadata": {},
   "source": [
    "Check for null values - no null values or misssing data."
   ]
  },
  {
   "cell_type": "code",
   "execution_count": 9,
   "id": "d41b3d54",
   "metadata": {},
   "outputs": [
    {
     "data": {
      "text/plain": [
       "False"
      ]
     },
     "execution_count": 9,
     "metadata": {},
     "output_type": "execute_result"
    }
   ],
   "source": [
    "check_nan = df['rating'].isnull().values.any()\n",
    "check_nan"
   ]
  },
  {
   "cell_type": "markdown",
   "id": "a241849a",
   "metadata": {},
   "source": [
    "## Data analysis"
   ]
  },
  {
   "cell_type": "markdown",
   "id": "3ae1a0a8",
   "metadata": {},
   "source": [
    "The dataset uses the Large Movie Review Dataset: https://ai.stanford.edu/~amaas/data/sentiment/ <br>\n",
    "\n",
    "Movies are rated on a scale of 1-10 [inclusive]. All ratings below or equal to 6 are considered negative, vice versa for ratings larger than 6. We assign 1 to ratings above 6 as they are considered positive in sentiment."
   ]
  },
  {
   "cell_type": "code",
   "execution_count": 10,
   "id": "767536f6",
   "metadata": {},
   "outputs": [],
   "source": [
    "def map_score(rating):\n",
    "    if int(rating) < 5:\n",
    "        return 0\n",
    "    else:\n",
    "        return 1\n",
    "\n",
    "df[\"sentiment\"] = df[\"rating\"].apply(lambda rating: map_score(rating))"
   ]
  },
  {
   "cell_type": "code",
   "execution_count": 16,
   "id": "b3b9ade0",
   "metadata": {},
   "outputs": [
    {
     "data": {
      "text/html": [
       "<div>\n",
       "<style scoped>\n",
       "    .dataframe tbody tr th:only-of-type {\n",
       "        vertical-align: middle;\n",
       "    }\n",
       "\n",
       "    .dataframe tbody tr th {\n",
       "        vertical-align: top;\n",
       "    }\n",
       "\n",
       "    .dataframe thead th {\n",
       "        text-align: right;\n",
       "    }\n",
       "</style>\n",
       "<table border=\"1\" class=\"dataframe\">\n",
       "  <thead>\n",
       "    <tr style=\"text-align: right;\">\n",
       "      <th></th>\n",
       "      <th>id</th>\n",
       "      <th>text</th>\n",
       "      <th>rating</th>\n",
       "      <th>sentiment</th>\n",
       "    </tr>\n",
       "  </thead>\n",
       "  <tbody>\n",
       "    <tr>\n",
       "      <th>2823</th>\n",
       "      <td>344</td>\n",
       "      <td>Let me be really clear about this movie. I did...</td>\n",
       "      <td>2</td>\n",
       "      <td>0</td>\n",
       "    </tr>\n",
       "  </tbody>\n",
       "</table>\n",
       "</div>"
      ],
      "text/plain": [
       "       id                                               text rating  sentiment\n",
       "2823  344  Let me be really clear about this movie. I did...      2          0"
      ]
     },
     "execution_count": 16,
     "metadata": {},
     "output_type": "execute_result"
    }
   ],
   "source": [
    "df.sample()"
   ]
  },
  {
   "cell_type": "markdown",
   "id": "5ea56ac5",
   "metadata": {},
   "source": [
    "Don't have any ratings of 5 and 6 - ambiguous ratings."
   ]
  },
  {
   "cell_type": "code",
   "execution_count": 17,
   "id": "6059415c",
   "metadata": {},
   "outputs": [
    {
     "data": {
      "text/html": [
       "<div>\n",
       "<style scoped>\n",
       "    .dataframe tbody tr th:only-of-type {\n",
       "        vertical-align: middle;\n",
       "    }\n",
       "\n",
       "    .dataframe tbody tr th {\n",
       "        vertical-align: top;\n",
       "    }\n",
       "\n",
       "    .dataframe thead th {\n",
       "        text-align: right;\n",
       "    }\n",
       "</style>\n",
       "<table border=\"1\" class=\"dataframe\">\n",
       "  <thead>\n",
       "    <tr style=\"text-align: right;\">\n",
       "      <th></th>\n",
       "      <th>id</th>\n",
       "      <th>text</th>\n",
       "      <th>rating</th>\n",
       "      <th>sentiment</th>\n",
       "    </tr>\n",
       "  </thead>\n",
       "  <tbody>\n",
       "  </tbody>\n",
       "</table>\n",
       "</div>"
      ],
      "text/plain": [
       "Empty DataFrame\n",
       "Columns: [id, text, rating, sentiment]\n",
       "Index: []"
      ]
     },
     "execution_count": 17,
     "metadata": {},
     "output_type": "execute_result"
    }
   ],
   "source": [
    "df.loc[df['rating'] == \"5\"]\n",
    "df.loc[df['rating'] == \"6\"]"
   ]
  },
  {
   "cell_type": "markdown",
   "id": "7f34e990",
   "metadata": {},
   "source": [
    "Question: Do people who write reveiws have strong opinions on the movie? <br>\n",
    "Probably, does the data show this? <br>\n",
    "Let's look at average length of the reviews - this may indicate whether reviewers write in detail or not."
   ]
  },
  {
   "cell_type": "code",
   "execution_count": 40,
   "id": "2a112c52",
   "metadata": {},
   "outputs": [],
   "source": [
    "def plot_word_length_histogram(text):\n",
    "    text.str.split().apply(lambda x : [len(i) for i in x]).map(lambda x: np.mean(x)).hist()"
   ]
  },
  {
   "cell_type": "code",
   "execution_count": 51,
   "id": "b6ea3d04",
   "metadata": {},
   "outputs": [
    {
     "data": {
      "text/plain": [
       "(0.0, 900.0)"
      ]
     },
     "execution_count": 51,
     "metadata": {},
     "output_type": "execute_result"
    },
    {
     "data": {
      "image/png": "[encoded data removed]",
      "text/plain": [
       "<Figure size 432x288 with 2 Axes>"
      ]
     },
     "metadata": {
      "needs_background": "light"
     },
     "output_type": "display_data"
    }
   ],
   "source": [
    "plt.figure(layout='tight')\n",
    "\n",
    "plt.subplot(1,2,1)\n",
    "plt.title(\"Negative\")\n",
    "plot_word_length_histogram(df_neg['text'])\n",
    "plt.xlim([0,8])\n",
    "plt.ylim([0, 900])\n",
    "\n",
    "\n",
    "plt.subplot(1,2,2)\n",
    "plt.title(\"Positive\")\n",
    "plot_word_length_histogram(df_pos['text'])\n",
    "plt.xlim([0,8])\n",
    "plt.ylim([0, 900])"
   ]
  },
  {
   "cell_type": "code",
   "execution_count": 62,
   "id": "46f9f950",
   "metadata": {},
   "outputs": [
    {
     "data": {
      "image/png": "[encoded data removed]",
      "text/plain": [
       "<Figure size 432x288 with 1 Axes>"
      ]
     },
     "metadata": {
      "needs_background": "light"
     },
     "output_type": "display_data"
    }
   ],
   "source": [
    "df['ratingInt'] = [int(x) for x in df['rating']]\n",
    "\n",
    "fig, ax = plt.subplots()\n",
    "df['ratingInt'].plot.kde(ax=ax, legend=False, title='Histogram: Positive Vs. Negative')\n",
    "df['ratingInt'].plot.hist(density=True, ax=ax)\n",
    "ax.set_ylabel('Probability')\n",
    "ax.grid(axis='y')\n",
    "ax.set_facecolor('#d8dcd6')"
   ]
  },
  {
   "cell_type": "code",
   "execution_count": 92,
   "id": "644dec65",
   "metadata": {},
   "outputs": [
    {
     "name": "stdout",
     "output_type": "stream",
     "text": [
      "Sample text: After 'Aakrosh' , this was the second film for Govind Nihalani as a director.Till this movie was made there was no audience for documentaries in India.This movie proved a point that a documentary can fulfil the requirements of a commercial film without diluting its essence. It was one of the successful movies in the year in which it was released. This movie contested against the big banners of the bollywood like'COOLIE', 'BETAAB','HERO' in 1983.<br /><br />SmithaPatel, in this movie acted more like a conscience of the hero whenever he drifted away or lost his composure she was there to remind him. She was not like an usual heroine to do the usual stuff of running around the trees and shrubs.At one time,she even gave up her love when the hero's ruthlessness touched the roof top.<br /><br />There was another character in this movie, which was played by Om Puri contemporary, Naseeruddin Shah.He played as an inspector-turned-alcoholic character.The role conveyed the message of the end result of a honest cop who rubbed the wrong side of the system which also gave the viewers a chance to forecast the hero's ending.<br /><br />In his debut film,Sadashiv Amrapurkar captivated the audience with his cameo role which ultimately won him the best supporting actor by the filmfare.The cop in the movie was not a complete straight forward personality he was able to adjust to the system to an extent. The anger which left half handedly continued in Govind Nihalani's other film \"Drohkaal\". Even after two decades, this movie is remembered just because of the director and the entire crew. Each one played their part par excellence. \n",
      "\n",
      "value of text_length: 1636\n"
     ]
    }
   ],
   "source": [
    "df['text_length'] = df['text'].map(lambda x: len(x.strip()))\n",
    "df['nwords'] = df['text'].map(lambda x: x.strip().count(' ') + 1)\n",
    "print(f'Sample text: {df.loc[20,\"text\"]} \\n\\nvalue of text_length: {df.loc[20,\"text_length\"]}')"
   ]
  },
  {
   "cell_type": "markdown",
   "id": "ba16a06d",
   "metadata": {},
   "source": [
    "Average number of words per review is 240. This indicates that each reviewer tends to write descriptive reviews. Also, all the reviews in the dataset rate movies in the range [0,4] and [7, 10]. These are quite polarised movie reviews to begin with."
   ]
  },
  {
   "cell_type": "code",
   "execution_count": 82,
   "id": "8e13e7bd",
   "metadata": {},
   "outputs": [
    {
     "name": "stdout",
     "output_type": "stream",
     "text": [
      "1377.6395\n",
      "242.55225\n"
     ]
    }
   ],
   "source": [
    "print(df['text_length'].mean())\n",
    "print(df['nwords'].mean())"
   ]
  },
  {
   "cell_type": "code",
   "execution_count": 93,
   "id": "f95c9d18",
   "metadata": {},
   "outputs": [
    {
     "data": {
      "text/plain": [
       "<AxesSubplot:title={'center':'Words in review'}>"
      ]
     },
     "execution_count": 93,
     "metadata": {},
     "output_type": "execute_result"
    },
    {
     "data": {
      "image/png": "[encoded data removed]",
      "text/plain": [
       "<Figure size 432x288 with 1 Axes>"
      ]
     },
     "metadata": {
      "needs_background": "light"
     },
     "output_type": "display_data"
    }
   ],
   "source": [
    "plt.figure(layout='tight')\n",
    "\n",
    "plt.title(\"Words in review\")\n",
    "df['nwords'].hist()\n",
    "# plt.xlim([0,8])\n",
    "# plt.ylim([0, 900])"
   ]
  },
  {
   "cell_type": "markdown",
   "id": "36fa6a77",
   "metadata": {},
   "source": [
    "## Text Cleaning"
   ]
  },
  {
   "cell_type": "markdown",
   "id": "c1016b51",
   "metadata": {},
   "source": [
    "Each review consists of text, similar to the one below."
   ]
  },
  {
   "cell_type": "code",
   "execution_count": 39,
   "id": "1ae85e31",
   "metadata": {},
   "outputs": [
    {
     "data": {
      "text/plain": [
       "'After \\'Aakrosh\\' , this was the second film for Govind Nihalani as a director.Till this movie was made there was no audience for documentaries in India.This movie proved a point that a documentary can fulfil the requirements of a commercial film without diluting its essence. It was one of the successful movies in the year in which it was released. This movie contested against the big banners of the bollywood like\\'COOLIE\\', \\'BETAAB\\',\\'HERO\\' in 1983.<br /><br />SmithaPatel, in this movie acted more like a conscience of the hero whenever he drifted away or lost his composure she was there to remind him. She was not like an usual heroine to do the usual stuff of running around the trees and shrubs.At one time,she even gave up her love when the hero\\'s ruthlessness touched the roof top.<br /><br />There was another character in this movie, which was played by Om Puri contemporary, Naseeruddin Shah.He played as an inspector-turned-alcoholic character.The role conveyed the message of the end result of a honest cop who rubbed the wrong side of the system which also gave the viewers a chance to forecast the hero\\'s ending.<br /><br />In his debut film,Sadashiv Amrapurkar captivated the audience with his cameo role which ultimately won him the best supporting actor by the filmfare.The cop in the movie was not a complete straight forward personality he was able to adjust to the system to an extent. The anger which left half handedly continued in Govind Nihalani\\'s other film \"Drohkaal\". Even after two decades, this movie is remembered just because of the director and the entire crew. Each one played their part par excellence.'"
      ]
     },
     "execution_count": 39,
     "metadata": {},
     "output_type": "execute_result"
    }
   ],
   "source": [
    "row1 = df['text'][20]\n",
    "row1"
   ]
  },
  {
   "cell_type": "markdown",
   "id": "333ca8ce",
   "metadata": {},
   "source": [
    "We can remove:<br>\n",
    "- punctuation <br> \n",
    "- numbers <br>\n",
    "- english stop words <br>\n",
    "- \\<br> html comments \n",
    "- Capitalisation - to compare word occurrences across reviews\n",
    "- remove punctuation - movie reviews are informal, so people's use may differ and not provide much insight."
   ]
  },
  {
   "cell_type": "code",
   "execution_count": 18,
   "id": "58125469",
   "metadata": {},
   "outputs": [],
   "source": [
    "#Defining stop_words and lemmatizer\n",
    "stop_words = set(stopwords.words(\"english\")) \n",
    "lemmatizer = WordNetLemmatizer()\n",
    "\n",
    "#Removing the html tags\n",
    "def remove_html(text):\n",
    "    my_list = text.split()\n",
    "    my_list = [i.replace('<br', '').replace('/><br', '').replace('/>', '') for i in my_list]\n",
    "#     return \" \".join(my_list)\n",
    "    return my_list\n",
    "    \n",
    "\n",
    "#Defining clean_text function\n",
    "def clean_text(text):\n",
    "    text = remove_html(text)\n",
    "    text = re.sub(r'[^A-Za-z0-9]+',' ',str(text))\n",
    "    text = text.lower()\n",
    "    text = [lemmatizer.lemmatize(token) for token in text.split(\" \")]\n",
    "    text = [lemmatizer.lemmatize(token, \"v\") for token in text]\n",
    "    text = [word for word in text if not word in stop_words]\n",
    "    text = \" \".join(text)\n",
    "    return text\n",
    "\n",
    "#Creating new column for processed reviews\n",
    "df['Processed_text'] = df.text.apply(lambda x: clean_text(x))"
   ]
  },
  {
   "cell_type": "code",
   "execution_count": 19,
   "id": "0e50743d",
   "metadata": {},
   "outputs": [
    {
     "data": {
      "text/html": [
       "<div>\n",
       "<style scoped>\n",
       "    .dataframe tbody tr th:only-of-type {\n",
       "        vertical-align: middle;\n",
       "    }\n",
       "\n",
       "    .dataframe tbody tr th {\n",
       "        vertical-align: top;\n",
       "    }\n",
       "\n",
       "    .dataframe thead th {\n",
       "        text-align: right;\n",
       "    }\n",
       "</style>\n",
       "<table border=\"1\" class=\"dataframe\">\n",
       "  <thead>\n",
       "    <tr style=\"text-align: right;\">\n",
       "      <th></th>\n",
       "      <th>id</th>\n",
       "      <th>text</th>\n",
       "      <th>rating</th>\n",
       "      <th>sentiment</th>\n",
       "      <th>Processed_text</th>\n",
       "    </tr>\n",
       "  </thead>\n",
       "  <tbody>\n",
       "    <tr>\n",
       "      <th>0</th>\n",
       "      <td>10000</td>\n",
       "      <td>Homelessness (or Houselessness as George Carli...</td>\n",
       "      <td>8</td>\n",
       "      <td>1</td>\n",
       "      <td>homelessness houselessness george carlin stat...</td>\n",
       "    </tr>\n",
       "    <tr>\n",
       "      <th>1</th>\n",
       "      <td>10008</td>\n",
       "      <td>You know, Robin Williams, God bless him, is co...</td>\n",
       "      <td>7</td>\n",
       "      <td>1</td>\n",
       "      <td>know robin williams god bless constantly shoo...</td>\n",
       "    </tr>\n",
       "    <tr>\n",
       "      <th>2</th>\n",
       "      <td>10013</td>\n",
       "      <td>Like one of the previous commenters said, this...</td>\n",
       "      <td>7</td>\n",
       "      <td>1</td>\n",
       "      <td>like one previous commenters say foundation g...</td>\n",
       "    </tr>\n",
       "    <tr>\n",
       "      <th>3</th>\n",
       "      <td>10019</td>\n",
       "      <td>When it comes to movies I can be pretty picky,...</td>\n",
       "      <td>8</td>\n",
       "      <td>1</td>\n",
       "      <td>come movie pretty picky complain anything eve...</td>\n",
       "    </tr>\n",
       "    <tr>\n",
       "      <th>4</th>\n",
       "      <td>10020</td>\n",
       "      <td>The legendary Boris Karloff ended his illustri...</td>\n",
       "      <td>8</td>\n",
       "      <td>1</td>\n",
       "      <td>legendary boris karloff end illustrious caree...</td>\n",
       "    </tr>\n",
       "  </tbody>\n",
       "</table>\n",
       "</div>"
      ],
      "text/plain": [
       "      id                                               text rating  sentiment  \\\n",
       "0  10000  Homelessness (or Houselessness as George Carli...      8          1   \n",
       "1  10008  You know, Robin Williams, God bless him, is co...      7          1   \n",
       "2  10013  Like one of the previous commenters said, this...      7          1   \n",
       "3  10019  When it comes to movies I can be pretty picky,...      8          1   \n",
       "4  10020  The legendary Boris Karloff ended his illustri...      8          1   \n",
       "\n",
       "                                      Processed_text  \n",
       "0   homelessness houselessness george carlin stat...  \n",
       "1   know robin williams god bless constantly shoo...  \n",
       "2   like one previous commenters say foundation g...  \n",
       "3   come movie pretty picky complain anything eve...  \n",
       "4   legendary boris karloff end illustrious caree...  "
      ]
     },
     "execution_count": 19,
     "metadata": {},
     "output_type": "execute_result"
    }
   ],
   "source": [
    "df.head()"
   ]
  },
  {
   "cell_type": "markdown",
   "id": "a6b031fe",
   "metadata": {},
   "source": [
    "# Split data into train and test"
   ]
  },
  {
   "cell_type": "code",
   "execution_count": 100,
   "id": "f31fe3f3",
   "metadata": {},
   "outputs": [],
   "source": [
    "# Let's seperate x and y for training data: \n",
    "x = df['Processed_text']\n",
    "y = df['sentiment']\n",
    "\n",
    "# xtrain, ytrain -- do i need to do this if I have test and train already??\n",
    "from sklearn.model_selection import train_test_split \n",
    "xtrain, xtest, ytrain, ytest = train_test_split(x, y, test_size = 0.3, random_state = 1)"
   ]
  },
  {
   "cell_type": "markdown",
   "id": "efeeb985",
   "metadata": {},
   "source": [
    "# Bag of words vectorisation"
   ]
  },
  {
   "cell_type": "code",
   "execution_count": 101,
   "id": "0876b708",
   "metadata": {},
   "outputs": [],
   "source": [
    "from sklearn.feature_extraction.text import CountVectorizer\n",
    "\n",
    "countVec = CountVectorizer(stop_words='english')\n",
    "train_bag_of_words = countVec.fit_transform(xtrain)  # fit train\n",
    "test_bag_of_words = countVec.fit_transform(xtest)  # fit test\n",
    "\n",
    "# bow = pd.DataFrame(data=bag_of_words.todense(),index=df['Processed_text'],columns = countVec.get_feature_names_out())"
   ]
  },
  {
   "cell_type": "code",
   "execution_count": 102,
   "id": "6c09a47b",
   "metadata": {},
   "outputs": [
    {
     "name": "stdout",
     "output_type": "stream",
     "text": [
      "(2800, 23271)\n",
      "(1200, 15198)\n"
     ]
    }
   ],
   "source": [
    "# train_bag_of_words = train_bag_of_words[:1200]\n",
    "print(train_bag_of_words.shape)\n",
    "print(test_bag_of_words.shape)"
   ]
  },
  {
   "cell_type": "markdown",
   "id": "7d656a60",
   "metadata": {},
   "source": [
    "# TF-IDF vectorisation"
   ]
  },
  {
   "cell_type": "code",
   "execution_count": 132,
   "id": "11fb10b1",
   "metadata": {},
   "outputs": [],
   "source": [
    "# Let's convert words to numbers using TF-IDF \n",
    "from sklearn.feature_extraction.text import TfidfVectorizer\n",
    "\n",
    "vectorizer = TfidfVectorizer(stop_words='english')\n",
    "\n",
    "xtrain_tfidf = vectorizer.fit_transform(xtrain).toarray()  # converting words to numbers for train data \n",
    "xtest_tfidf = vectorizer.transform(xtest).toarray()        # converting words to numbers for test data "
   ]
  },
  {
   "cell_type": "code",
   "execution_count": 133,
   "id": "e8fb51f7",
   "metadata": {},
   "outputs": [
    {
     "name": "stdout",
     "output_type": "stream",
     "text": [
      "(2800, 23271)\n",
      "(1200, 23271)\n"
     ]
    }
   ],
   "source": [
    "# xtrain_tfidf = xtrain_tfidf[:]\n",
    "print(xtrain_tfidf.shape)\n",
    "print(xtest_tfidf.shape)"
   ]
  },
  {
   "cell_type": "markdown",
   "id": "7a792309",
   "metadata": {},
   "source": [
    "# SVM model"
   ]
  },
  {
   "cell_type": "code",
   "execution_count": 103,
   "id": "99991830",
   "metadata": {},
   "outputs": [
    {
     "data": {
      "text/plain": [
       "SVC(C=8.0, kernel='linear')"
      ]
     },
     "execution_count": 103,
     "metadata": {},
     "output_type": "execute_result"
    }
   ],
   "source": [
    "from sklearn import svm\n",
    "\n",
    "model_svm = svm.SVC(C=8.0, kernel='linear')\n",
    "model_svm.fit(train_bag_of_words, ytrain)"
   ]
  },
  {
   "cell_type": "code",
   "execution_count": 104,
   "id": "0992f86a",
   "metadata": {},
   "outputs": [
    {
     "data": {
      "text/plain": [
       "array([0.7875    , 0.825     , 0.83214286, 0.83035714, 0.77142857])"
      ]
     },
     "execution_count": 104,
     "metadata": {},
     "output_type": "execute_result"
    }
   ],
   "source": [
    "from sklearn.model_selection import cross_val_score\n",
    "model_svm_acc = cross_val_score(estimator=model_svm, X=train_bag_of_words, y=ytrain, cv=5, n_jobs=-1)\n",
    "model_svm_acc"
   ]
  },
  {
   "cell_type": "markdown",
   "id": "66e68d7d",
   "metadata": {},
   "source": [
    "# Decision Tree"
   ]
  },
  {
   "cell_type": "code",
   "execution_count": 105,
   "id": "5fc3c112",
   "metadata": {},
   "outputs": [
    {
     "data": {
      "text/plain": [
       "DecisionTreeClassifier(max_depth=10, random_state=0)"
      ]
     },
     "execution_count": 105,
     "metadata": {},
     "output_type": "execute_result"
    }
   ],
   "source": [
    "from sklearn.tree import DecisionTreeClassifier\n",
    "\n",
    "model_dec = DecisionTreeClassifier(max_depth=10, random_state=0)\n",
    "model_dec.fit(train_bag_of_words, ytrain)"
   ]
  },
  {
   "cell_type": "code",
   "execution_count": 106,
   "id": "cc1ed297",
   "metadata": {},
   "outputs": [
    {
     "data": {
      "text/plain": [
       "array([0.66964286, 0.72142857, 0.68928571, 0.70357143, 0.67321429])"
      ]
     },
     "execution_count": 106,
     "metadata": {},
     "output_type": "execute_result"
    }
   ],
   "source": [
    "model_dec_acc = cross_val_score(estimator=model_dec, X=train_bag_of_words, y=ytrain, cv=5, n_jobs=-1)\n",
    "model_dec_acc"
   ]
  },
  {
   "cell_type": "code",
   "execution_count": 107,
   "id": "4c8ea9f7",
   "metadata": {},
   "outputs": [
    {
     "data": {
      "text/plain": [
       "array([1, 0, 1, 0, 1, 1, 1, 1, 1, 1], dtype=int64)"
      ]
     },
     "execution_count": 107,
     "metadata": {},
     "output_type": "execute_result"
    }
   ],
   "source": [
    "model_dec.predict(train_bag_of_words[:10])"
   ]
  },
  {
   "cell_type": "markdown",
   "id": "90e50d02",
   "metadata": {},
   "source": [
    "# Naive Bayes"
   ]
  },
  {
   "cell_type": "code",
   "execution_count": 108,
   "id": "4abd54d6",
   "metadata": {},
   "outputs": [
    {
     "data": {
      "text/plain": [
       "GaussianNB()"
      ]
     },
     "execution_count": 108,
     "metadata": {},
     "output_type": "execute_result"
    }
   ],
   "source": [
    "from sklearn.naive_bayes import GaussianNB\n",
    "\n",
    "model_gnb = GaussianNB()\n",
    "model_gnb.fit(train_bag_of_words.toarray(), ytrain)"
   ]
  },
  {
   "cell_type": "code",
   "execution_count": 109,
   "id": "6b04d637",
   "metadata": {},
   "outputs": [
    {
     "data": {
      "text/plain": [
       "array([0.63392857, 0.66071429, 0.65178571, 0.6625    , 0.63571429])"
      ]
     },
     "execution_count": 109,
     "metadata": {},
     "output_type": "execute_result"
    }
   ],
   "source": [
    "model_gnb_acc = cross_val_score(estimator=model_gnb, X=train_bag_of_words.toarray(), y=ytrain, cv=5, n_jobs=-1)\n",
    "model_gnb_acc"
   ]
  },
  {
   "cell_type": "code",
   "execution_count": 110,
   "id": "92c8f3da",
   "metadata": {},
   "outputs": [
    {
     "data": {
      "text/plain": [
       "array([1, 0, 1, 0, 1, 0, 1, 1, 1, 1], dtype=int64)"
      ]
     },
     "execution_count": 110,
     "metadata": {},
     "output_type": "execute_result"
    }
   ],
   "source": [
    "model_gnb.predict(train_bag_of_words[:10].toarray())"
   ]
  },
  {
   "cell_type": "markdown",
   "id": "500315fd",
   "metadata": {},
   "source": [
    "# Logistic Regression"
   ]
  },
  {
   "cell_type": "code",
   "execution_count": 115,
   "id": "d00942fe",
   "metadata": {},
   "outputs": [
    {
     "data": {
      "text/plain": [
       "LogisticRegression(max_iter=500)"
      ]
     },
     "execution_count": 115,
     "metadata": {},
     "output_type": "execute_result"
    }
   ],
   "source": [
    "from sklearn.linear_model import LogisticRegression\n",
    "\n",
    "model_lg = LogisticRegression(max_iter=500)  # had to increase max iterations - not enough repetitions to decide categories\n",
    "model_lg.fit(train_bag_of_words, ytrain)"
   ]
  },
  {
   "cell_type": "code",
   "execution_count": 116,
   "id": "38a5cbef",
   "metadata": {},
   "outputs": [
    {
     "data": {
      "text/plain": [
       "array([0.81785714, 0.83392857, 0.83571429, 0.84285714, 0.79285714])"
      ]
     },
     "execution_count": 116,
     "metadata": {},
     "output_type": "execute_result"
    }
   ],
   "source": [
    "model_lg_acc = cross_val_score(estimator=model_lg, X=train_bag_of_words, y=ytrain, cv=5, n_jobs=-1)\n",
    "model_lg_acc"
   ]
  },
  {
   "cell_type": "code",
   "execution_count": 117,
   "id": "5a125133",
   "metadata": {},
   "outputs": [
    {
     "data": {
      "text/plain": [
       "array([1, 0, 1, 0, 1, 0, 1, 1, 1, 1], dtype=int64)"
      ]
     },
     "execution_count": 117,
     "metadata": {},
     "output_type": "execute_result"
    }
   ],
   "source": [
    "model_gnb.predict(train_bag_of_words[:10].toarray())"
   ]
  },
  {
   "cell_type": "markdown",
   "id": "61e3aaf2",
   "metadata": {},
   "source": [
    "# XGBoost"
   ]
  },
  {
   "cell_type": "code",
   "execution_count": 156,
   "id": "23c46a0e",
   "metadata": {},
   "outputs": [],
   "source": [
    "import xgboost as xgb\n",
    "from sklearn.pipeline import Pipeline\n",
    "from sklearn.feature_extraction.text import TfidfTransformer\n",
    "from sklearn import metrics\n",
    "\n",
    "\n",
    "pipe = Pipeline([\n",
    "    ('bow', CountVectorizer()), \n",
    "    ('tfid', TfidfTransformer()),  \n",
    "    ('model', xgb.XGBClassifier(\n",
    "        learning_rate=0.1,\n",
    "        max_depth=7,\n",
    "        n_estimators=80,\n",
    "        eval_metric='auc',\n",
    "        # colsample_bytree=0.8,\n",
    "        # subsample=0.7,\n",
    "        # min_child_weight=5,\n",
    "    ))\n",
    "])"
   ]
  },
  {
   "cell_type": "code",
   "execution_count": 157,
   "id": "49233888",
   "metadata": {},
   "outputs": [
    {
     "name": "stdout",
     "output_type": "stream",
     "text": [
      "Train: 0.9746428571428571\n",
      "Test: 0.7891666666666667\n"
     ]
    }
   ],
   "source": [
    "# Fit the pipeline with the data\n",
    "pipe.fit(xtrain, ytrain)\n",
    "\n",
    "y_pred_class = pipe.predict(xtest)\n",
    "y_pred_train = pipe.predict(xtrain)\n",
    "\n",
    "print('Train: {}'.format(metrics.accuracy_score(ytrain, y_pred_train)))\n",
    "print('Test: {}'.format(metrics.accuracy_score(ytest, y_pred_class)))"
   ]
  },
  {
   "cell_type": "markdown",
   "id": "90b0e040",
   "metadata": {},
   "source": [
    "# LSTM model"
   ]
  },
  {
   "cell_type": "code",
   "execution_count": null,
   "id": "cc4fa217",
   "metadata": {},
   "outputs": [],
   "source": [
    "# Split data into train and test sets\n",
    "X_train, X_test, y_train, y_test = train_test_split(\n",
    "    train_padded_sentences, \n",
    "    target, \n",
    "    test_size=0.25\n",
    ")"
   ]
  },
  {
   "cell_type": "code",
   "execution_count": 174,
   "id": "39380ffe",
   "metadata": {},
   "outputs": [
    {
     "ename": "ModuleNotFoundError",
     "evalue": "No module named 'tensorflow'",
     "output_type": "error",
     "traceback": [
      "\u001b[1;31m---------------------------------------------------------------------------\u001b[0m",
      "\u001b[1;31mModuleNotFoundError\u001b[0m                       Traceback (most recent call last)",
      "Input \u001b[1;32mIn [174]\u001b[0m, in \u001b[0;36m<cell line: 2>\u001b[1;34m()\u001b[0m\n\u001b[0;32m      1\u001b[0m \u001b[38;5;66;03m# Model from https://www.kaggle.com/mariapushkareva/nlp-disaster-tweets-with-glove-and-lstm/data\u001b[39;00m\n\u001b[1;32m----> 2\u001b[0m \u001b[38;5;28;01mimport\u001b[39;00m \u001b[38;5;21;01mkeras\u001b[39;00m\n",
      "File \u001b[1;32m~\\anaconda3\\envs\\myvenv\\lib\\site-packages\\keras\\__init__.py:21\u001b[0m, in \u001b[0;36m<module>\u001b[1;34m\u001b[0m\n\u001b[0;32m     15\u001b[0m \u001b[38;5;124;03m\"\"\"Implementation of the Keras API, the high-level API of TensorFlow.\u001b[39;00m\n\u001b[0;32m     16\u001b[0m \n\u001b[0;32m     17\u001b[0m \u001b[38;5;124;03mDetailed documentation and user guides are available at\u001b[39;00m\n\u001b[0;32m     18\u001b[0m \u001b[38;5;124;03m[keras.io](https://keras.io).\u001b[39;00m\n\u001b[0;32m     19\u001b[0m \u001b[38;5;124;03m\"\"\"\u001b[39;00m\n\u001b[0;32m     20\u001b[0m \u001b[38;5;28;01mfrom\u001b[39;00m \u001b[38;5;21;01mkeras\u001b[39;00m \u001b[38;5;28;01mimport\u001b[39;00m distribute\n\u001b[1;32m---> 21\u001b[0m \u001b[38;5;28;01mfrom\u001b[39;00m \u001b[38;5;21;01mkeras\u001b[39;00m \u001b[38;5;28;01mimport\u001b[39;00m models\n\u001b[0;32m     22\u001b[0m \u001b[38;5;28;01mfrom\u001b[39;00m \u001b[38;5;21;01mkeras\u001b[39;00m\u001b[38;5;21;01m.\u001b[39;00m\u001b[38;5;21;01mengine\u001b[39;00m\u001b[38;5;21;01m.\u001b[39;00m\u001b[38;5;21;01minput_layer\u001b[39;00m \u001b[38;5;28;01mimport\u001b[39;00m Input\n\u001b[0;32m     23\u001b[0m \u001b[38;5;28;01mfrom\u001b[39;00m \u001b[38;5;21;01mkeras\u001b[39;00m\u001b[38;5;21;01m.\u001b[39;00m\u001b[38;5;21;01mengine\u001b[39;00m\u001b[38;5;21;01m.\u001b[39;00m\u001b[38;5;21;01msequential\u001b[39;00m \u001b[38;5;28;01mimport\u001b[39;00m Sequential\n",
      "\u001b[1;31mModuleNotFoundError\u001b[0m: No module named 'tensorflow'"
     ]
    }
   ],
   "source": [
    "# Model from https://www.kaggle.com/mariapushkareva/nlp-disaster-tweets-with-glove-and-lstm/data\n",
    "import keras\n",
    "# from keras.models import Sequential\n",
    "# from keras.initializers import Constant\n",
    "# from keras.layers import (LSTM, \n",
    "#                           Embedding, \n",
    "#                           BatchNormalization,\n",
    "#                           Dense, \n",
    "#                           TimeDistributed, \n",
    "#                           Dropout, \n",
    "#                           Bidirectional,\n",
    "#                           Flatten, \n",
    "#                           GlobalMaxPool1D)\n",
    "# from keras.preprocessing.text import Tokenizer\n",
    "# from keras.preprocessing.sequence import pad_sequences\n",
    "# from keras.layers.embeddings import Embedding\n",
    "# from keras.callbacks import ModelCheckpoint, ReduceLROnPlateau\n",
    "# from keras.optimizers import Adam"
   ]
  },
  {
   "cell_type": "code",
   "execution_count": null,
   "id": "a631d007",
   "metadata": {},
   "outputs": [],
   "source": [
    "def glove_lstm():\n",
    "    model = Sequential()\n",
    "    \n",
    "    model.add(Embedding(\n",
    "        input_dim=embedding_matrix.shape[0], \n",
    "        output_dim=embedding_matrix.shape[1], \n",
    "        weights = [embedding_matrix], \n",
    "        input_length=length_long_sentence\n",
    "    ))\n",
    "    \n",
    "    model.add(Bidirectional(LSTM(\n",
    "        length_long_sentence, \n",
    "        return_sequences = True, \n",
    "        recurrent_dropout=0.2\n",
    "    )))\n",
    "    \n",
    "    model.add(GlobalMaxPool1D())\n",
    "    model.add(BatchNormalization())\n",
    "    model.add(Dropout(0.5))\n",
    "    model.add(Dense(length_long_sentence, activation = \"relu\"))\n",
    "    model.add(Dropout(0.5))\n",
    "    model.add(Dense(length_long_sentence, activation = \"relu\"))\n",
    "    model.add(Dropout(0.5))\n",
    "    model.add(Dense(1, activation = 'sigmoid'))\n",
    "    model.compile(optimizer='rmsprop', loss='binary_crossentropy', metrics=['accuracy'])\n",
    "    \n",
    "    return model\n",
    "\n",
    "model = glove_lstm()\n",
    "model.summary()"
   ]
  },
  {
   "cell_type": "markdown",
   "id": "3b653568",
   "metadata": {},
   "source": [
    "# Evaluation"
   ]
  },
  {
   "cell_type": "code",
   "execution_count": 155,
   "id": "b5486a46",
   "metadata": {},
   "outputs": [
    {
     "name": "stdout",
     "output_type": "stream",
     "text": [
      "SVM BoW: 0.5116666666666667\n",
      "SVM tf-ifd: 0.5125\n",
      "--------------------------------------------------\n",
      "Decision tree BoW: 0.51\n",
      "Decision tree tf-idf: 0.5133333333333333\n",
      "--------------------------------------------------\n",
      "Naive Bayes: 0.5091666666666667\n",
      "--------------------------------------------------\n",
      "Logistic Regression: 0.5116666666666667\n",
      "Logistic Regression tf_idf: 0.5133333333333333\n"
     ]
    }
   ],
   "source": [
    "# Mean Accuracy\n",
    "\n",
    "print(\"SVM BoW: \" + str(model_svm.score(train_bag_of_words[:1200], ytest)))\n",
    "print(\"SVM tf-ifd: \" + str(model_svm.score(xtrain_tfidf[:1200], ytest)))\n",
    "print(\"-\" * 50)\n",
    "print(\"Decision tree BoW: \" + str(model_dec.score(train_bag_of_words[:1200], ytest)))\n",
    "print(\"Decision tree tf-idf: \" + str(model_dec.score(xtrain_tfidf[:1200], ytest)))\n",
    "print(\"-\" * 50)\n",
    "print(\"Naive Bayes: \" + str(model_gnb.score(train_bag_of_words[:1200].toarray(), ytest)))\n",
    "# print(\"Naive Bayes tf-idf: \" + str(model_gnb.score(xtrain_tfidf.toarray(), ytest)))\n",
    "print(\"-\" * 50)\n",
    "print(\"Logistic Regression BoW: \" + str(model_lg.score(train_bag_of_words[:1200], ytest)))\n",
    "print(\"Logistic Regression tf_idf: \" + str(model_lg.score(xtrain_tfidf[:1200], ytest)))"
   ]
  }
 ],
 "metadata": {
  "kernelspec": {
   "display_name": "Python 3 (ipykernel)",
   "language": "python",
   "name": "python3"
  },
  "language_info": {
   "codemirror_mode": {
    "name": "ipython",
    "version": 3
   },
   "file_extension": ".py",
   "mimetype": "text/x-python",
   "name": "python",
   "nbconvert_exporter": "python",
   "pygments_lexer": "ipython3",
   "version": "3.9.12"
  }
 },
 "nbformat": 4,
 "nbformat_minor": 5
}

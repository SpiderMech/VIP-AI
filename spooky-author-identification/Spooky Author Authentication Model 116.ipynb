{
 "cells": [
  {
   "cell_type": "markdown",
   "id": "27985dfa",
   "metadata": {},
   "source": [
    "## Import data"
   ]
  },
  {
   "cell_type": "code",
   "execution_count": 1,
   "id": "1a423dc9",
   "metadata": {},
   "outputs": [],
   "source": [
    "import pandas as pd\n",
    "import numpy as np\n",
    "%config InlineBackend.figure_format = 'svg'\n",
    "%matplotlib inline"
   ]
  },
  {
   "cell_type": "code",
   "execution_count": 2,
   "id": "1fce7fa2",
   "metadata": {
    "scrolled": false
   },
   "outputs": [
    {
     "data": {
      "text/html": [
       "<div>\n",
       "<style scoped>\n",
       "    .dataframe tbody tr th:only-of-type {\n",
       "        vertical-align: middle;\n",
       "    }\n",
       "\n",
       "    .dataframe tbody tr th {\n",
       "        vertical-align: top;\n",
       "    }\n",
       "\n",
       "    .dataframe thead th {\n",
       "        text-align: right;\n",
       "    }\n",
       "</style>\n",
       "<table border=\"1\" class=\"dataframe\">\n",
       "  <thead>\n",
       "    <tr style=\"text-align: right;\">\n",
       "      <th></th>\n",
       "      <th>id</th>\n",
       "      <th>text</th>\n",
       "      <th>author</th>\n",
       "    </tr>\n",
       "  </thead>\n",
       "  <tbody>\n",
       "    <tr>\n",
       "      <th>0</th>\n",
       "      <td>id26305</td>\n",
       "      <td>This process, however, afforded me no means of...</td>\n",
       "      <td>EAP</td>\n",
       "    </tr>\n",
       "    <tr>\n",
       "      <th>1</th>\n",
       "      <td>id17569</td>\n",
       "      <td>It never once occurred to me that the fumbling...</td>\n",
       "      <td>HPL</td>\n",
       "    </tr>\n",
       "    <tr>\n",
       "      <th>2</th>\n",
       "      <td>id11008</td>\n",
       "      <td>In his left hand was a gold snuff box, from wh...</td>\n",
       "      <td>EAP</td>\n",
       "    </tr>\n",
       "    <tr>\n",
       "      <th>3</th>\n",
       "      <td>id27763</td>\n",
       "      <td>How lovely is spring As we looked from Windsor...</td>\n",
       "      <td>MWS</td>\n",
       "    </tr>\n",
       "    <tr>\n",
       "      <th>4</th>\n",
       "      <td>id12958</td>\n",
       "      <td>Finding nothing else, not even gold, the Super...</td>\n",
       "      <td>HPL</td>\n",
       "    </tr>\n",
       "  </tbody>\n",
       "</table>\n",
       "</div>"
      ],
      "text/plain": [
       "        id                                               text author\n",
       "0  id26305  This process, however, afforded me no means of...    EAP\n",
       "1  id17569  It never once occurred to me that the fumbling...    HPL\n",
       "2  id11008  In his left hand was a gold snuff box, from wh...    EAP\n",
       "3  id27763  How lovely is spring As we looked from Windsor...    MWS\n",
       "4  id12958  Finding nothing else, not even gold, the Super...    HPL"
      ]
     },
     "execution_count": 2,
     "metadata": {},
     "output_type": "execute_result"
    }
   ],
   "source": [
    "train_df = pd.read_csv('./data/train.csv')\n",
    "test_df = pd.read_csv('./data/test.csv')\n",
    "train_df.head()"
   ]
  },
  {
   "cell_type": "code",
   "execution_count": 3,
   "id": "91dc216c",
   "metadata": {
    "scrolled": true
   },
   "outputs": [
    {
     "data": {
      "text/plain": [
       "EAP    7900\n",
       "MWS    6044\n",
       "HPL    5635\n",
       "Name: author, dtype: int64"
      ]
     },
     "execution_count": 3,
     "metadata": {},
     "output_type": "execute_result"
    }
   ],
   "source": [
    "train_df['author'].value_counts()"
   ]
  },
  {
   "cell_type": "code",
   "execution_count": 4,
   "id": "52e923dd",
   "metadata": {
    "scrolled": true
   },
   "outputs": [
    {
     "data": {
      "text/plain": [
       "EAP    0.403494\n",
       "MWS    0.308698\n",
       "HPL    0.287808\n",
       "Name: author, dtype: float64"
      ]
     },
     "execution_count": 4,
     "metadata": {},
     "output_type": "execute_result"
    }
   ],
   "source": [
    "train_df['author'].value_counts() / len(train_df)"
   ]
  },
  {
   "cell_type": "markdown",
   "id": "4e29ea4f",
   "metadata": {},
   "source": [
    "## Preprocessing\n",
    "Credit: https://www.kaggle.com/code/sandpiturtle/eda-fe-nb-xgb/notebook"
   ]
  },
  {
   "cell_type": "code",
   "execution_count": 5,
   "id": "f4d588aa",
   "metadata": {},
   "outputs": [],
   "source": [
    "import spacy\n",
    "import nltk"
   ]
  },
  {
   "cell_type": "code",
   "execution_count": 6,
   "id": "842b914c",
   "metadata": {},
   "outputs": [],
   "source": [
    "nlp = spacy.load(\"en_core_web_sm\")"
   ]
  },
  {
   "cell_type": "code",
   "execution_count": 7,
   "id": "64188578",
   "metadata": {},
   "outputs": [],
   "source": [
    "# Define function used to replace named entities with ent__ORG\n",
    "def replace_ents(doc):\n",
    "    prefix = 'ent__'\n",
    "    text = str(doc.doc)\n",
    "    for ent in doc.ents:\n",
    "        text = text.replace(ent.orth_, prefix + ent.label_)\n",
    "    return text"
   ]
  },
  {
   "cell_type": "markdown",
   "id": "6c82cc47",
   "metadata": {},
   "source": [
    "Define func to preprocess text data. Here I am doing the following:\n",
    "\n",
    "- Parsing text with spaCy\n",
    "- Handcrafting new features identifying number of:\n",
    "    - characters\n",
    "    - words\n",
    "    - punctuation characters\n",
    "    - named entities\n",
    "    - noun chunks\n",
    "    - unique words\n",
    "    - stop words\n",
    "    - characters by word\n",
    "- Replace named entities with tags like 'ent_ORG'\n",
    "- Lemmatize\n",
    "- Delete stopwords\n",
    "- Calculating a general sentiment score\n",
    "\n",
    "I leave 3 different versions (untouched, cleaned, entities replaced) of text in order to try which fits best with CV.\n",
    "\n",
    "British-American-ness only has 32 training examples where their values were greater than 0, so this was ignored.\n"
   ]
  },
  {
   "cell_type": "code",
   "execution_count": 8,
   "id": "ae74c1ef",
   "metadata": {},
   "outputs": [],
   "source": [
    "def preprocess(df):\n",
    "    print('Started parsing...')\n",
    "    doc = df.text.apply(nlp)\n",
    "    print('Text parsed')\n",
    "    \n",
    "    df['n_char']   = df.text.apply(len)\n",
    "    df['n_words']  = doc.apply(lambda x: len([t for t in x if not t.is_punct]))\n",
    "    df['n_punct']  = doc.apply(lambda x: len([t for t in x if t.is_punct]))\n",
    "    df['n_ents']   = doc.apply(lambda x: len(x.ents))\n",
    "    df['n_chunks'] = doc.apply(lambda x: len(list(x.noun_chunks)))\n",
    "    df['n_unique_words'] = doc.apply(lambda x: len(set([t.lower_ for t in x if not t.is_punct])))\n",
    "    df['n_stop_words']   = doc.apply(lambda x: len([t for t in x if t.is_stop]))\n",
    "    df['char_by_word']   = doc.apply(lambda x: np.mean([len(t.orth_) for t in x if not t.is_punct]))    \n",
    "    print('Features created')\n",
    "    \n",
    "    df['text_ent_repl'] = doc.apply(replace_ents)\n",
    "    print('Entities replaced')\n",
    "    \n",
    "    clean_and_lemmatize = lambda x: ' '.join([t.lemma_ for t in x if not t.is_punct and not t.is_stop])\n",
    "    df['text_cleaned'] = doc.apply(clean_and_lemmatize)\n",
    "    print('Text cleaned')"
   ]
  },
  {
   "cell_type": "code",
   "execution_count": 9,
   "id": "a353fe62",
   "metadata": {
    "scrolled": true
   },
   "outputs": [
    {
     "name": "stdout",
     "output_type": "stream",
     "text": [
      "Started parsing...\n",
      "Text parsed\n",
      "Features created\n",
      "Entities replaced\n",
      "Text cleaned\n",
      "CPU times: user 2min 15s, sys: 2.43 s, total: 2min 17s\n",
      "Wall time: 2min 19s\n"
     ]
    }
   ],
   "source": [
    "%%time\n",
    "preprocess(train_df)"
   ]
  },
  {
   "cell_type": "code",
   "execution_count": 10,
   "id": "52216dc7",
   "metadata": {
    "scrolled": true
   },
   "outputs": [
    {
     "name": "stdout",
     "output_type": "stream",
     "text": [
      "Started parsing...\n",
      "Text parsed\n",
      "Features created\n",
      "Entities replaced\n",
      "Text cleaned\n",
      "CPU times: user 54 s, sys: 726 ms, total: 54.7 s\n",
      "Wall time: 55.1 s\n"
     ]
    }
   ],
   "source": [
    "%%time\n",
    "preprocess(test_df)"
   ]
  },
  {
   "cell_type": "code",
   "execution_count": 11,
   "id": "9a8ef5dc",
   "metadata": {},
   "outputs": [
    {
     "name": "stderr",
     "output_type": "stream",
     "text": [
      "Warming up PyWSD (takes ~10 secs)... took 4.808192014694214 secs.\n"
     ]
    }
   ],
   "source": [
    "from nltk.corpus import sentiwordnet as swn\n",
    "from pywsd import disambiguate\n",
    "# nltk.download('sentiwordnet')"
   ]
  },
  {
   "cell_type": "code",
   "execution_count": 12,
   "id": "9933e072",
   "metadata": {},
   "outputs": [
    {
     "name": "stdout",
     "output_type": "stream",
     "text": [
      "CPU times: user 2min 49s, sys: 16.9 s, total: 3min 6s\n",
      "Wall time: 3min 9s\n"
     ]
    }
   ],
   "source": [
    "%%time\n",
    "sentiments = []\n",
    "docs = nlp.pipe(train_df['text'], disable=['ner'])\n",
    "\n",
    "for doc in docs:\n",
    "    sentiment = 0\n",
    "    for sentence in doc.sents:\n",
    "        for word, sysnet in disambiguate(sentence.text):\n",
    "            if sysnet is not None:\n",
    "                sysnet_senti = swn.senti_synset(sysnet.name())\n",
    "                sentiment += sysnet_senti.pos_score()\n",
    "                sentiment -= sysnet_senti.neg_score()\n",
    "    sentiments.append(sentiment)\n",
    "train_df['sentiment'] = pd.Series(sentiments)"
   ]
  },
  {
   "cell_type": "code",
   "execution_count": 13,
   "id": "702d5c90",
   "metadata": {},
   "outputs": [],
   "source": [
    "from sklearn.base import BaseEstimator, TransformerMixin\n",
    "import re\n",
    "import string\n",
    "from nltk import word_tokenize\n",
    "\n",
    "class CurrentWordsTransformer(BaseEstimator, TransformerMixin):\n",
    "    def fit(self, X, y=None):\n",
    "        nlp = spacy.load(\"en_core_web_sm\")\n",
    "        self.words = {word: 1 for word in nlp.vocab.strings}\n",
    "        return self\n",
    "\n",
    "    def transform(self, X, y=None):\n",
    "        count = []\n",
    "\n",
    "        for sentence in X:\n",
    "            current_count = 0\n",
    "            words = word_tokenize(re.sub('[%s]' % re.escape(string.punctuation), '', sentence.lower()))\n",
    "\n",
    "            for word in words:\n",
    "                if self.words.get(word, 0) == 1:\n",
    "                    current_count += 1/len(words)\n",
    "\n",
    "            count.append(current_count)\n",
    "\n",
    "        return pd.DataFrame(count)"
   ]
  },
  {
   "cell_type": "code",
   "execution_count": 14,
   "id": "4b907d5b",
   "metadata": {},
   "outputs": [],
   "source": [
    "current_words = CurrentWordsTransformer()\n",
    "current_words_features = current_words.fit_transform(train_df['text'])\n",
    "train_df['how_current'] = current_words_features.iloc[:, 0]"
   ]
  },
  {
   "cell_type": "code",
   "execution_count": 15,
   "id": "3fa702c0",
   "metadata": {},
   "outputs": [
    {
     "data": {
      "text/html": [
       "<div>\n",
       "<style scoped>\n",
       "    .dataframe tbody tr th:only-of-type {\n",
       "        vertical-align: middle;\n",
       "    }\n",
       "\n",
       "    .dataframe tbody tr th {\n",
       "        vertical-align: top;\n",
       "    }\n",
       "\n",
       "    .dataframe thead th {\n",
       "        text-align: right;\n",
       "    }\n",
       "</style>\n",
       "<table border=\"1\" class=\"dataframe\">\n",
       "  <thead>\n",
       "    <tr style=\"text-align: right;\">\n",
       "      <th></th>\n",
       "      <th>id</th>\n",
       "      <th>text</th>\n",
       "      <th>author</th>\n",
       "      <th>n_char</th>\n",
       "      <th>n_words</th>\n",
       "      <th>n_punct</th>\n",
       "      <th>n_ents</th>\n",
       "      <th>n_chunks</th>\n",
       "      <th>n_unique_words</th>\n",
       "      <th>n_stop_words</th>\n",
       "      <th>char_by_word</th>\n",
       "      <th>text_ent_repl</th>\n",
       "      <th>text_cleaned</th>\n",
       "      <th>sentiment</th>\n",
       "      <th>how_current</th>\n",
       "    </tr>\n",
       "  </thead>\n",
       "  <tbody>\n",
       "    <tr>\n",
       "      <th>0</th>\n",
       "      <td>id26305</td>\n",
       "      <td>This process, however, afforded me no means of...</td>\n",
       "      <td>EAP</td>\n",
       "      <td>231</td>\n",
       "      <td>41</td>\n",
       "      <td>7</td>\n",
       "      <td>0</td>\n",
       "      <td>11</td>\n",
       "      <td>35</td>\n",
       "      <td>26</td>\n",
       "      <td>4.487805</td>\n",
       "      <td>This process, however, afforded me no means of...</td>\n",
       "      <td>process afford means ascertain dimension dunge...</td>\n",
       "      <td>1.375</td>\n",
       "      <td>0.975610</td>\n",
       "    </tr>\n",
       "    <tr>\n",
       "      <th>1</th>\n",
       "      <td>id17569</td>\n",
       "      <td>It never once occurred to me that the fumbling...</td>\n",
       "      <td>HPL</td>\n",
       "      <td>71</td>\n",
       "      <td>14</td>\n",
       "      <td>1</td>\n",
       "      <td>0</td>\n",
       "      <td>4</td>\n",
       "      <td>14</td>\n",
       "      <td>10</td>\n",
       "      <td>4.071429</td>\n",
       "      <td>It never once occurred to me that the fumbling...</td>\n",
       "      <td>occur fumbling mere mistake</td>\n",
       "      <td>-0.875</td>\n",
       "      <td>0.928571</td>\n",
       "    </tr>\n",
       "    <tr>\n",
       "      <th>2</th>\n",
       "      <td>id11008</td>\n",
       "      <td>In his left hand was a gold snuff box, from wh...</td>\n",
       "      <td>EAP</td>\n",
       "      <td>200</td>\n",
       "      <td>36</td>\n",
       "      <td>5</td>\n",
       "      <td>0</td>\n",
       "      <td>11</td>\n",
       "      <td>32</td>\n",
       "      <td>17</td>\n",
       "      <td>4.444444</td>\n",
       "      <td>In his left hand was a gold snuff box, from wh...</td>\n",
       "      <td>left hand gold snuff box caper hill cut manner...</td>\n",
       "      <td>0.625</td>\n",
       "      <td>0.916667</td>\n",
       "    </tr>\n",
       "    <tr>\n",
       "      <th>3</th>\n",
       "      <td>id27763</td>\n",
       "      <td>How lovely is spring As we looked from Windsor...</td>\n",
       "      <td>MWS</td>\n",
       "      <td>206</td>\n",
       "      <td>34</td>\n",
       "      <td>4</td>\n",
       "      <td>3</td>\n",
       "      <td>9</td>\n",
       "      <td>31</td>\n",
       "      <td>14</td>\n",
       "      <td>4.970588</td>\n",
       "      <td>How lovely is spring As we looked from ent__OR...</td>\n",
       "      <td>lovely spring look Windsor Terrace sixteen fer...</td>\n",
       "      <td>0.375</td>\n",
       "      <td>1.000000</td>\n",
       "    </tr>\n",
       "    <tr>\n",
       "      <th>4</th>\n",
       "      <td>id12958</td>\n",
       "      <td>Finding nothing else, not even gold, the Super...</td>\n",
       "      <td>HPL</td>\n",
       "      <td>174</td>\n",
       "      <td>27</td>\n",
       "      <td>4</td>\n",
       "      <td>0</td>\n",
       "      <td>7</td>\n",
       "      <td>25</td>\n",
       "      <td>14</td>\n",
       "      <td>5.333333</td>\n",
       "      <td>Finding nothing else, not even gold, the Super...</td>\n",
       "      <td>find gold Superintendent abandon attempt perpl...</td>\n",
       "      <td>-0.500</td>\n",
       "      <td>1.000000</td>\n",
       "    </tr>\n",
       "  </tbody>\n",
       "</table>\n",
       "</div>"
      ],
      "text/plain": [
       "        id                                               text author  n_char  \\\n",
       "0  id26305  This process, however, afforded me no means of...    EAP     231   \n",
       "1  id17569  It never once occurred to me that the fumbling...    HPL      71   \n",
       "2  id11008  In his left hand was a gold snuff box, from wh...    EAP     200   \n",
       "3  id27763  How lovely is spring As we looked from Windsor...    MWS     206   \n",
       "4  id12958  Finding nothing else, not even gold, the Super...    HPL     174   \n",
       "\n",
       "   n_words  n_punct  n_ents  n_chunks  n_unique_words  n_stop_words  \\\n",
       "0       41        7       0        11              35            26   \n",
       "1       14        1       0         4              14            10   \n",
       "2       36        5       0        11              32            17   \n",
       "3       34        4       3         9              31            14   \n",
       "4       27        4       0         7              25            14   \n",
       "\n",
       "   char_by_word                                      text_ent_repl  \\\n",
       "0      4.487805  This process, however, afforded me no means of...   \n",
       "1      4.071429  It never once occurred to me that the fumbling...   \n",
       "2      4.444444  In his left hand was a gold snuff box, from wh...   \n",
       "3      4.970588  How lovely is spring As we looked from ent__OR...   \n",
       "4      5.333333  Finding nothing else, not even gold, the Super...   \n",
       "\n",
       "                                        text_cleaned  sentiment  how_current  \n",
       "0  process afford means ascertain dimension dunge...      1.375     0.975610  \n",
       "1                        occur fumbling mere mistake     -0.875     0.928571  \n",
       "2  left hand gold snuff box caper hill cut manner...      0.625     0.916667  \n",
       "3  lovely spring look Windsor Terrace sixteen fer...      0.375     1.000000  \n",
       "4  find gold Superintendent abandon attempt perpl...     -0.500     1.000000  "
      ]
     },
     "execution_count": 15,
     "metadata": {},
     "output_type": "execute_result"
    }
   ],
   "source": [
    "train_df.head()"
   ]
  },
  {
   "cell_type": "markdown",
   "id": "02edd8a9",
   "metadata": {},
   "source": [
    "## Exploratory Data Analysis\n",
    "Credit: https://www.kaggle.com/code/sandpiturtle/eda-fe-nb-xgb/notebook\n",
    "\n",
    "Note: Sample size is likely not large enough to truly represent the characteristics of our authors' writings. I.e., below we might find in this dataset that MWS generally write longer sentences than the rest of the authors, always think: is that true in the real world? Or in other words if we were able to collect everything all three authors have ever written and do the same comparison, will we still observe the same phenomenon of MWS writing longer sentences? If eventually we decide to use sentence length as a feature, this will affect our model's ability to predict with real world data."
   ]
  },
  {
   "cell_type": "code",
   "execution_count": 16,
   "id": "1f4efbe3",
   "metadata": {},
   "outputs": [],
   "source": [
    "import seaborn as sns\n",
    "from matplotlib import pyplot as plt"
   ]
  },
  {
   "cell_type": "code",
   "execution_count": 17,
   "id": "c96d984c",
   "metadata": {},
   "outputs": [],
   "source": [
    "eap = train_df[train_df['author'] == 'EAP']\n",
    "mws = train_df[train_df['author'] == 'MWS']\n",
    "hpl = train_df[train_df['author'] == 'HPL']"
   ]
  },
  {
   "cell_type": "markdown",
   "id": "586b2c29",
   "metadata": {},
   "source": [
    "### Sentence Length\n",
    "Is there a difference in sentence length amongst the authors?"
   ]
  },
  {
   "cell_type": "code",
   "execution_count": 18,
   "id": "21f87430",
   "metadata": {},
   "outputs": [],
   "source": [
    "sns.set()"
   ]
  },
  {
   "cell_type": "code",
   "execution_count": 19,
   "id": "dc5215d0",
   "metadata": {},
   "outputs": [],
   "source": [
    "def drop_outliers(s):\n",
    "    med = s.mean()\n",
    "    std = s.std()\n",
    "    return s[(med - 3*std <= s) & (s <= med + 3*std)]"
   ]
  },
  {
   "cell_type": "code",
   "execution_count": 20,
   "id": "04a8f3af",
   "metadata": {
    "scrolled": true
   },
   "outputs": [
    {
     "data": {
      "image/svg+xml": "<?xml version=\"1.0\" encoding=\"utf-8\" standalone=\"no\"?>\n<!DOCTYPE svg PUBLIC \"-//W3C//DTD SVG 1.1//EN\"\n  \"http://www.w3.org/Graphics/SVG/1.1/DTD/svg11.dtd\">\n<svg xmlns:xlink=\"http://www.w3.org/1999/xlink\" width=\"464.080784pt\" height=\"266.374219pt\" viewBox=\"0 0 464.080784 266.374219\" xmlns=\"http://www.w3.org/2000/svg\" version=\"1.1\">\n <metadata>\n  <rdf:RDF xmlns:dc=\"http://purl.org/dc/elements/1.1/\" xmlns:cc=\"http://creativecommons.org/ns#\" xmlns:rdf=\"http://www.w3.org/1999/02/22-rdf-syntax-ns#\">\n   <cc:Work>\n    <dc:type rdf:resource=\"http://purl.org/dc/dcmitype/StillImage\"/>\n    <dc:date>2022-12-26T20:37:00.924475</dc:date>\n    <dc:format>image/svg+xml</dc:format>\n    <dc:creator>\n     <cc:Agent>\n      <dc:title>Matplotlib v3.5.1, https://matplotlib.org/</dc:title>\n     </cc:Agent>\n    </dc:creator>\n   </cc:Work>\n  </rdf:RDF>\n </metadata>\n <defs>\n  <style type=\"text/css\">*{stroke-linejoin: round; stroke-linecap: butt}</style>\n </defs>\n <g id=\"figure_1\">\n  <g id=\"patch_1\">\n   <path d=\"M 0 266.374219 \nL 464.080784 266.374219 \nL 464.080784 0 \nL 0 0 \nz\n\" style=\"fill: #ffffff\"/>\n  </g>\n  <g id=\"axes_1\">\n   <g id=\"patch_2\">\n    <path d=\"M 59.339063 224.64 \nL 449.939063 224.64 \nL 449.939063 7.2 \nL 59.339063 7.2 \nz\n\" style=\"fill: #eaeaf2\"/>\n   </g>\n   <g id=\"matplotlib.axis_1\">\n    <g id=\"xtick_1\">\n     <g id=\"line2d_1\">\n      <path d=\"M 91.822887 224.64 \nL 91.822887 7.2 \n\" clip-path=\"url(#p74397dc860)\" style=\"fill: none; stroke: #ffffff; stroke-linecap: round\"/>\n     </g>\n     <g id=\"text_1\">\n      <!-- 0 -->\n      <g style=\"fill: #262626\" transform=\"translate(88.764372 242.013594)scale(0.11 -0.11)\">\n       <defs>\n        <path id=\"ArialMT-30\" d=\"M 266 2259 \nQ 266 3072 433 3567 \nQ 600 4063 929 4331 \nQ 1259 4600 1759 4600 \nQ 2128 4600 2406 4451 \nQ 2684 4303 2865 4023 \nQ 3047 3744 3150 3342 \nQ 3253 2941 3253 2259 \nQ 3253 1453 3087 958 \nQ 2922 463 2592 192 \nQ 2263 -78 1759 -78 \nQ 1097 -78 719 397 \nQ 266 969 266 2259 \nz\nM 844 2259 \nQ 844 1131 1108 757 \nQ 1372 384 1759 384 \nQ 2147 384 2411 759 \nQ 2675 1134 2675 2259 \nQ 2675 3391 2411 3762 \nQ 2147 4134 1753 4134 \nQ 1366 4134 1134 3806 \nQ 844 3388 844 2259 \nz\n\" transform=\"scale(0.015625)\"/>\n       </defs>\n       <use xlink:href=\"#ArialMT-30\"/>\n      </g>\n     </g>\n    </g>\n    <g id=\"xtick_2\">\n     <g id=\"line2d_2\">\n      <path d=\"M 151.136612 224.64 \nL 151.136612 7.2 \n\" clip-path=\"url(#p74397dc860)\" style=\"fill: none; stroke: #ffffff; stroke-linecap: round\"/>\n     </g>\n     <g id=\"text_2\">\n      <!-- 100 -->\n      <g style=\"fill: #262626\" transform=\"translate(141.961066 242.013594)scale(0.11 -0.11)\">\n       <defs>\n        <path id=\"ArialMT-31\" d=\"M 2384 0 \nL 1822 0 \nL 1822 3584 \nQ 1619 3391 1289 3197 \nQ 959 3003 697 2906 \nL 697 3450 \nQ 1169 3672 1522 3987 \nQ 1875 4303 2022 4600 \nL 2384 4600 \nL 2384 0 \nz\n\" transform=\"scale(0.015625)\"/>\n       </defs>\n       <use xlink:href=\"#ArialMT-31\"/>\n       <use xlink:href=\"#ArialMT-30\" x=\"55.615234\"/>\n       <use xlink:href=\"#ArialMT-30\" x=\"111.230469\"/>\n      </g>\n     </g>\n    </g>\n    <g id=\"xtick_3\">\n     <g id=\"line2d_3\">\n      <path d=\"M 210.450337 224.64 \nL 210.450337 7.2 \n\" clip-path=\"url(#p74397dc860)\" style=\"fill: none; stroke: #ffffff; stroke-linecap: round\"/>\n     </g>\n     <g id=\"text_3\">\n      <!-- 200 -->\n      <g style=\"fill: #262626\" transform=\"translate(201.274791 242.013594)scale(0.11 -0.11)\">\n       <defs>\n        <path id=\"ArialMT-32\" d=\"M 3222 541 \nL 3222 0 \nL 194 0 \nQ 188 203 259 391 \nQ 375 700 629 1000 \nQ 884 1300 1366 1694 \nQ 2113 2306 2375 2664 \nQ 2638 3022 2638 3341 \nQ 2638 3675 2398 3904 \nQ 2159 4134 1775 4134 \nQ 1369 4134 1125 3890 \nQ 881 3647 878 3216 \nL 300 3275 \nQ 359 3922 746 4261 \nQ 1134 4600 1788 4600 \nQ 2447 4600 2831 4234 \nQ 3216 3869 3216 3328 \nQ 3216 3053 3103 2787 \nQ 2991 2522 2730 2228 \nQ 2469 1934 1863 1422 \nQ 1356 997 1212 845 \nQ 1069 694 975 541 \nL 3222 541 \nz\n\" transform=\"scale(0.015625)\"/>\n       </defs>\n       <use xlink:href=\"#ArialMT-32\"/>\n       <use xlink:href=\"#ArialMT-30\" x=\"55.615234\"/>\n       <use xlink:href=\"#ArialMT-30\" x=\"111.230469\"/>\n      </g>\n     </g>\n    </g>\n    <g id=\"xtick_4\">\n     <g id=\"line2d_4\">\n      <path d=\"M 269.764062 224.64 \nL 269.764062 7.2 \n\" clip-path=\"url(#p74397dc860)\" style=\"fill: none; stroke: #ffffff; stroke-linecap: round\"/>\n     </g>\n     <g id=\"text_4\">\n      <!-- 300 -->\n      <g style=\"fill: #262626\" transform=\"translate(260.588515 242.013594)scale(0.11 -0.11)\">\n       <defs>\n        <path id=\"ArialMT-33\" d=\"M 269 1209 \nL 831 1284 \nQ 928 806 1161 595 \nQ 1394 384 1728 384 \nQ 2125 384 2398 659 \nQ 2672 934 2672 1341 \nQ 2672 1728 2419 1979 \nQ 2166 2231 1775 2231 \nQ 1616 2231 1378 2169 \nL 1441 2663 \nQ 1497 2656 1531 2656 \nQ 1891 2656 2178 2843 \nQ 2466 3031 2466 3422 \nQ 2466 3731 2256 3934 \nQ 2047 4138 1716 4138 \nQ 1388 4138 1169 3931 \nQ 950 3725 888 3313 \nL 325 3413 \nQ 428 3978 793 4289 \nQ 1159 4600 1703 4600 \nQ 2078 4600 2393 4439 \nQ 2709 4278 2876 4000 \nQ 3044 3722 3044 3409 \nQ 3044 3113 2884 2869 \nQ 2725 2625 2413 2481 \nQ 2819 2388 3044 2092 \nQ 3269 1797 3269 1353 \nQ 3269 753 2831 336 \nQ 2394 -81 1725 -81 \nQ 1122 -81 723 278 \nQ 325 638 269 1209 \nz\n\" transform=\"scale(0.015625)\"/>\n       </defs>\n       <use xlink:href=\"#ArialMT-33\"/>\n       <use xlink:href=\"#ArialMT-30\" x=\"55.615234\"/>\n       <use xlink:href=\"#ArialMT-30\" x=\"111.230469\"/>\n      </g>\n     </g>\n    </g>\n    <g id=\"xtick_5\">\n     <g id=\"line2d_5\">\n      <path d=\"M 329.077787 224.64 \nL 329.077787 7.2 \n\" clip-path=\"url(#p74397dc860)\" style=\"fill: none; stroke: #ffffff; stroke-linecap: round\"/>\n     </g>\n     <g id=\"text_5\">\n      <!-- 400 -->\n      <g style=\"fill: #262626\" transform=\"translate(319.90224 242.013594)scale(0.11 -0.11)\">\n       <defs>\n        <path id=\"ArialMT-34\" d=\"M 2069 0 \nL 2069 1097 \nL 81 1097 \nL 81 1613 \nL 2172 4581 \nL 2631 4581 \nL 2631 1613 \nL 3250 1613 \nL 3250 1097 \nL 2631 1097 \nL 2631 0 \nL 2069 0 \nz\nM 2069 1613 \nL 2069 3678 \nL 634 1613 \nL 2069 1613 \nz\n\" transform=\"scale(0.015625)\"/>\n       </defs>\n       <use xlink:href=\"#ArialMT-34\"/>\n       <use xlink:href=\"#ArialMT-30\" x=\"55.615234\"/>\n       <use xlink:href=\"#ArialMT-30\" x=\"111.230469\"/>\n      </g>\n     </g>\n    </g>\n    <g id=\"xtick_6\">\n     <g id=\"line2d_6\">\n      <path d=\"M 388.391512 224.64 \nL 388.391512 7.2 \n\" clip-path=\"url(#p74397dc860)\" style=\"fill: none; stroke: #ffffff; stroke-linecap: round\"/>\n     </g>\n     <g id=\"text_6\">\n      <!-- 500 -->\n      <g style=\"fill: #262626\" transform=\"translate(379.215965 242.013594)scale(0.11 -0.11)\">\n       <defs>\n        <path id=\"ArialMT-35\" d=\"M 266 1200 \nL 856 1250 \nQ 922 819 1161 601 \nQ 1400 384 1738 384 \nQ 2144 384 2425 690 \nQ 2706 997 2706 1503 \nQ 2706 1984 2436 2262 \nQ 2166 2541 1728 2541 \nQ 1456 2541 1237 2417 \nQ 1019 2294 894 2097 \nL 366 2166 \nL 809 4519 \nL 3088 4519 \nL 3088 3981 \nL 1259 3981 \nL 1013 2750 \nQ 1425 3038 1878 3038 \nQ 2478 3038 2890 2622 \nQ 3303 2206 3303 1553 \nQ 3303 931 2941 478 \nQ 2500 -78 1738 -78 \nQ 1113 -78 717 272 \nQ 322 622 266 1200 \nz\n\" transform=\"scale(0.015625)\"/>\n       </defs>\n       <use xlink:href=\"#ArialMT-35\"/>\n       <use xlink:href=\"#ArialMT-30\" x=\"55.615234\"/>\n       <use xlink:href=\"#ArialMT-30\" x=\"111.230469\"/>\n      </g>\n     </g>\n    </g>\n    <g id=\"xtick_7\">\n     <g id=\"line2d_7\">\n      <path d=\"M 447.705237 224.64 \nL 447.705237 7.2 \n\" clip-path=\"url(#p74397dc860)\" style=\"fill: none; stroke: #ffffff; stroke-linecap: round\"/>\n     </g>\n     <g id=\"text_7\">\n      <!-- 600 -->\n      <g style=\"fill: #262626\" transform=\"translate(438.52969 242.013594)scale(0.11 -0.11)\">\n       <defs>\n        <path id=\"ArialMT-36\" d=\"M 3184 3459 \nL 2625 3416 \nQ 2550 3747 2413 3897 \nQ 2184 4138 1850 4138 \nQ 1581 4138 1378 3988 \nQ 1113 3794 959 3422 \nQ 806 3050 800 2363 \nQ 1003 2672 1297 2822 \nQ 1591 2972 1913 2972 \nQ 2475 2972 2870 2558 \nQ 3266 2144 3266 1488 \nQ 3266 1056 3080 686 \nQ 2894 316 2569 119 \nQ 2244 -78 1831 -78 \nQ 1128 -78 684 439 \nQ 241 956 241 2144 \nQ 241 3472 731 4075 \nQ 1159 4600 1884 4600 \nQ 2425 4600 2770 4297 \nQ 3116 3994 3184 3459 \nz\nM 888 1484 \nQ 888 1194 1011 928 \nQ 1134 663 1356 523 \nQ 1578 384 1822 384 \nQ 2178 384 2434 671 \nQ 2691 959 2691 1453 \nQ 2691 1928 2437 2201 \nQ 2184 2475 1800 2475 \nQ 1419 2475 1153 2201 \nQ 888 1928 888 1484 \nz\n\" transform=\"scale(0.015625)\"/>\n       </defs>\n       <use xlink:href=\"#ArialMT-36\"/>\n       <use xlink:href=\"#ArialMT-30\" x=\"55.615234\"/>\n       <use xlink:href=\"#ArialMT-30\" x=\"111.230469\"/>\n      </g>\n     </g>\n    </g>\n    <g id=\"text_8\">\n     <!-- n_char -->\n     <g style=\"fill: #262626\" transform=\"translate(236.295 256.789219)scale(0.12 -0.12)\">\n      <defs>\n       <path id=\"ArialMT-6e\" d=\"M 422 0 \nL 422 3319 \nL 928 3319 \nL 928 2847 \nQ 1294 3394 1984 3394 \nQ 2284 3394 2536 3286 \nQ 2788 3178 2913 3003 \nQ 3038 2828 3088 2588 \nQ 3119 2431 3119 2041 \nL 3119 0 \nL 2556 0 \nL 2556 2019 \nQ 2556 2363 2490 2533 \nQ 2425 2703 2258 2804 \nQ 2091 2906 1866 2906 \nQ 1506 2906 1245 2678 \nQ 984 2450 984 1813 \nL 984 0 \nL 422 0 \nz\n\" transform=\"scale(0.015625)\"/>\n       <path id=\"ArialMT-5f\" d=\"M -97 -1272 \nL -97 -866 \nL 3631 -866 \nL 3631 -1272 \nL -97 -1272 \nz\n\" transform=\"scale(0.015625)\"/>\n       <path id=\"ArialMT-63\" d=\"M 2588 1216 \nL 3141 1144 \nQ 3050 572 2676 248 \nQ 2303 -75 1759 -75 \nQ 1078 -75 664 370 \nQ 250 816 250 1647 \nQ 250 2184 428 2587 \nQ 606 2991 970 3192 \nQ 1334 3394 1763 3394 \nQ 2303 3394 2647 3120 \nQ 2991 2847 3088 2344 \nL 2541 2259 \nQ 2463 2594 2264 2762 \nQ 2066 2931 1784 2931 \nQ 1359 2931 1093 2626 \nQ 828 2322 828 1663 \nQ 828 994 1084 691 \nQ 1341 388 1753 388 \nQ 2084 388 2306 591 \nQ 2528 794 2588 1216 \nz\n\" transform=\"scale(0.015625)\"/>\n       <path id=\"ArialMT-68\" d=\"M 422 0 \nL 422 4581 \nL 984 4581 \nL 984 2938 \nQ 1378 3394 1978 3394 \nQ 2347 3394 2619 3248 \nQ 2891 3103 3008 2847 \nQ 3125 2591 3125 2103 \nL 3125 0 \nL 2563 0 \nL 2563 2103 \nQ 2563 2525 2380 2717 \nQ 2197 2909 1863 2909 \nQ 1613 2909 1392 2779 \nQ 1172 2650 1078 2428 \nQ 984 2206 984 1816 \nL 984 0 \nL 422 0 \nz\n\" transform=\"scale(0.015625)\"/>\n       <path id=\"ArialMT-61\" d=\"M 2588 409 \nQ 2275 144 1986 34 \nQ 1697 -75 1366 -75 \nQ 819 -75 525 192 \nQ 231 459 231 875 \nQ 231 1119 342 1320 \nQ 453 1522 633 1644 \nQ 813 1766 1038 1828 \nQ 1203 1872 1538 1913 \nQ 2219 1994 2541 2106 \nQ 2544 2222 2544 2253 \nQ 2544 2597 2384 2738 \nQ 2169 2928 1744 2928 \nQ 1347 2928 1158 2789 \nQ 969 2650 878 2297 \nL 328 2372 \nQ 403 2725 575 2942 \nQ 747 3159 1072 3276 \nQ 1397 3394 1825 3394 \nQ 2250 3394 2515 3294 \nQ 2781 3194 2906 3042 \nQ 3031 2891 3081 2659 \nQ 3109 2516 3109 2141 \nL 3109 1391 \nQ 3109 606 3145 398 \nQ 3181 191 3288 0 \nL 2700 0 \nQ 2613 175 2588 409 \nz\nM 2541 1666 \nQ 2234 1541 1622 1453 \nQ 1275 1403 1131 1340 \nQ 988 1278 909 1158 \nQ 831 1038 831 891 \nQ 831 666 1001 516 \nQ 1172 366 1500 366 \nQ 1825 366 2078 508 \nQ 2331 650 2450 897 \nQ 2541 1088 2541 1459 \nL 2541 1666 \nz\n\" transform=\"scale(0.015625)\"/>\n       <path id=\"ArialMT-72\" d=\"M 416 0 \nL 416 3319 \nL 922 3319 \nL 922 2816 \nQ 1116 3169 1280 3281 \nQ 1444 3394 1641 3394 \nQ 1925 3394 2219 3213 \nL 2025 2691 \nQ 1819 2813 1613 2813 \nQ 1428 2813 1281 2702 \nQ 1134 2591 1072 2394 \nQ 978 2094 978 1738 \nL 978 0 \nL 416 0 \nz\n\" transform=\"scale(0.015625)\"/>\n      </defs>\n      <use xlink:href=\"#ArialMT-6e\"/>\n      <use xlink:href=\"#ArialMT-5f\" x=\"55.615234\"/>\n      <use xlink:href=\"#ArialMT-63\" x=\"111.230469\"/>\n      <use xlink:href=\"#ArialMT-68\" x=\"161.230469\"/>\n      <use xlink:href=\"#ArialMT-61\" x=\"216.845703\"/>\n      <use xlink:href=\"#ArialMT-72\" x=\"272.460938\"/>\n     </g>\n    </g>\n   </g>\n   <g id=\"matplotlib.axis_2\">\n    <g id=\"ytick_1\">\n     <g id=\"line2d_8\">\n      <path d=\"M 59.339063 224.64 \nL 449.939063 224.64 \n\" clip-path=\"url(#p74397dc860)\" style=\"fill: none; stroke: #ffffff; stroke-linecap: round\"/>\n     </g>\n     <g id=\"text_9\">\n      <!-- 0.000 -->\n      <g style=\"fill: #262626\" transform=\"translate(22.315 228.576797)scale(0.11 -0.11)\">\n       <defs>\n        <path id=\"ArialMT-2e\" d=\"M 581 0 \nL 581 641 \nL 1222 641 \nL 1222 0 \nL 581 0 \nz\n\" transform=\"scale(0.015625)\"/>\n       </defs>\n       <use xlink:href=\"#ArialMT-30\"/>\n       <use xlink:href=\"#ArialMT-2e\" x=\"55.615234\"/>\n       <use xlink:href=\"#ArialMT-30\" x=\"83.398438\"/>\n       <use xlink:href=\"#ArialMT-30\" x=\"139.013672\"/>\n       <use xlink:href=\"#ArialMT-30\" x=\"194.628906\"/>\n      </g>\n     </g>\n    </g>\n    <g id=\"ytick_2\">\n     <g id=\"line2d_9\">\n      <path d=\"M 59.339063 189.332628 \nL 449.939063 189.332628 \n\" clip-path=\"url(#p74397dc860)\" style=\"fill: none; stroke: #ffffff; stroke-linecap: round\"/>\n     </g>\n     <g id=\"text_10\">\n      <!-- 0.001 -->\n      <g style=\"fill: #262626\" transform=\"translate(22.315 193.269425)scale(0.11 -0.11)\">\n       <use xlink:href=\"#ArialMT-30\"/>\n       <use xlink:href=\"#ArialMT-2e\" x=\"55.615234\"/>\n       <use xlink:href=\"#ArialMT-30\" x=\"83.398438\"/>\n       <use xlink:href=\"#ArialMT-30\" x=\"139.013672\"/>\n       <use xlink:href=\"#ArialMT-31\" x=\"194.628906\"/>\n      </g>\n     </g>\n    </g>\n    <g id=\"ytick_3\">\n     <g id=\"line2d_10\">\n      <path d=\"M 59.339063 154.025256 \nL 449.939063 154.025256 \n\" clip-path=\"url(#p74397dc860)\" style=\"fill: none; stroke: #ffffff; stroke-linecap: round\"/>\n     </g>\n     <g id=\"text_11\">\n      <!-- 0.002 -->\n      <g style=\"fill: #262626\" transform=\"translate(22.315 157.962053)scale(0.11 -0.11)\">\n       <use xlink:href=\"#ArialMT-30\"/>\n       <use xlink:href=\"#ArialMT-2e\" x=\"55.615234\"/>\n       <use xlink:href=\"#ArialMT-30\" x=\"83.398438\"/>\n       <use xlink:href=\"#ArialMT-30\" x=\"139.013672\"/>\n       <use xlink:href=\"#ArialMT-32\" x=\"194.628906\"/>\n      </g>\n     </g>\n    </g>\n    <g id=\"ytick_4\">\n     <g id=\"line2d_11\">\n      <path d=\"M 59.339063 118.717884 \nL 449.939063 118.717884 \n\" clip-path=\"url(#p74397dc860)\" style=\"fill: none; stroke: #ffffff; stroke-linecap: round\"/>\n     </g>\n     <g id=\"text_12\">\n      <!-- 0.003 -->\n      <g style=\"fill: #262626\" transform=\"translate(22.315 122.654681)scale(0.11 -0.11)\">\n       <use xlink:href=\"#ArialMT-30\"/>\n       <use xlink:href=\"#ArialMT-2e\" x=\"55.615234\"/>\n       <use xlink:href=\"#ArialMT-30\" x=\"83.398438\"/>\n       <use xlink:href=\"#ArialMT-30\" x=\"139.013672\"/>\n       <use xlink:href=\"#ArialMT-33\" x=\"194.628906\"/>\n      </g>\n     </g>\n    </g>\n    <g id=\"ytick_5\">\n     <g id=\"line2d_12\">\n      <path d=\"M 59.339063 83.410512 \nL 449.939063 83.410512 \n\" clip-path=\"url(#p74397dc860)\" style=\"fill: none; stroke: #ffffff; stroke-linecap: round\"/>\n     </g>\n     <g id=\"text_13\">\n      <!-- 0.004 -->\n      <g style=\"fill: #262626\" transform=\"translate(22.315 87.347309)scale(0.11 -0.11)\">\n       <use xlink:href=\"#ArialMT-30\"/>\n       <use xlink:href=\"#ArialMT-2e\" x=\"55.615234\"/>\n       <use xlink:href=\"#ArialMT-30\" x=\"83.398438\"/>\n       <use xlink:href=\"#ArialMT-30\" x=\"139.013672\"/>\n       <use xlink:href=\"#ArialMT-34\" x=\"194.628906\"/>\n      </g>\n     </g>\n    </g>\n    <g id=\"ytick_6\">\n     <g id=\"line2d_13\">\n      <path d=\"M 59.339063 48.10314 \nL 449.939063 48.10314 \n\" clip-path=\"url(#p74397dc860)\" style=\"fill: none; stroke: #ffffff; stroke-linecap: round\"/>\n     </g>\n     <g id=\"text_14\">\n      <!-- 0.005 -->\n      <g style=\"fill: #262626\" transform=\"translate(22.315 52.039937)scale(0.11 -0.11)\">\n       <use xlink:href=\"#ArialMT-30\"/>\n       <use xlink:href=\"#ArialMT-2e\" x=\"55.615234\"/>\n       <use xlink:href=\"#ArialMT-30\" x=\"83.398438\"/>\n       <use xlink:href=\"#ArialMT-30\" x=\"139.013672\"/>\n       <use xlink:href=\"#ArialMT-35\" x=\"194.628906\"/>\n      </g>\n     </g>\n    </g>\n    <g id=\"ytick_7\">\n     <g id=\"line2d_14\">\n      <path d=\"M 59.339063 12.795768 \nL 449.939063 12.795768 \n\" clip-path=\"url(#p74397dc860)\" style=\"fill: none; stroke: #ffffff; stroke-linecap: round\"/>\n     </g>\n     <g id=\"text_15\">\n      <!-- 0.006 -->\n      <g style=\"fill: #262626\" transform=\"translate(22.315 16.732565)scale(0.11 -0.11)\">\n       <use xlink:href=\"#ArialMT-30\"/>\n       <use xlink:href=\"#ArialMT-2e\" x=\"55.615234\"/>\n       <use xlink:href=\"#ArialMT-30\" x=\"83.398438\"/>\n       <use xlink:href=\"#ArialMT-30\" x=\"139.013672\"/>\n       <use xlink:href=\"#ArialMT-36\" x=\"194.628906\"/>\n      </g>\n     </g>\n    </g>\n    <g id=\"text_16\">\n     <!-- Density -->\n     <g style=\"fill: #262626\" transform=\"translate(15.789375 135.92625)rotate(-90)scale(0.12 -0.12)\">\n      <defs>\n       <path id=\"ArialMT-44\" d=\"M 494 0 \nL 494 4581 \nL 2072 4581 \nQ 2606 4581 2888 4516 \nQ 3281 4425 3559 4188 \nQ 3922 3881 4101 3404 \nQ 4281 2928 4281 2316 \nQ 4281 1794 4159 1391 \nQ 4038 988 3847 723 \nQ 3656 459 3429 307 \nQ 3203 156 2883 78 \nQ 2563 0 2147 0 \nL 494 0 \nz\nM 1100 541 \nL 2078 541 \nQ 2531 541 2789 625 \nQ 3047 709 3200 863 \nQ 3416 1078 3536 1442 \nQ 3656 1806 3656 2325 \nQ 3656 3044 3420 3430 \nQ 3184 3816 2847 3947 \nQ 2603 4041 2063 4041 \nL 1100 4041 \nL 1100 541 \nz\n\" transform=\"scale(0.015625)\"/>\n       <path id=\"ArialMT-65\" d=\"M 2694 1069 \nL 3275 997 \nQ 3138 488 2766 206 \nQ 2394 -75 1816 -75 \nQ 1088 -75 661 373 \nQ 234 822 234 1631 \nQ 234 2469 665 2931 \nQ 1097 3394 1784 3394 \nQ 2450 3394 2872 2941 \nQ 3294 2488 3294 1666 \nQ 3294 1616 3291 1516 \nL 816 1516 \nQ 847 969 1125 678 \nQ 1403 388 1819 388 \nQ 2128 388 2347 550 \nQ 2566 713 2694 1069 \nz\nM 847 1978 \nL 2700 1978 \nQ 2663 2397 2488 2606 \nQ 2219 2931 1791 2931 \nQ 1403 2931 1139 2672 \nQ 875 2413 847 1978 \nz\n\" transform=\"scale(0.015625)\"/>\n       <path id=\"ArialMT-73\" d=\"M 197 991 \nL 753 1078 \nQ 800 744 1014 566 \nQ 1228 388 1613 388 \nQ 2000 388 2187 545 \nQ 2375 703 2375 916 \nQ 2375 1106 2209 1216 \nQ 2094 1291 1634 1406 \nQ 1016 1563 777 1677 \nQ 538 1791 414 1992 \nQ 291 2194 291 2438 \nQ 291 2659 392 2848 \nQ 494 3038 669 3163 \nQ 800 3259 1026 3326 \nQ 1253 3394 1513 3394 \nQ 1903 3394 2198 3281 \nQ 2494 3169 2634 2976 \nQ 2775 2784 2828 2463 \nL 2278 2388 \nQ 2241 2644 2061 2787 \nQ 1881 2931 1553 2931 \nQ 1166 2931 1000 2803 \nQ 834 2675 834 2503 \nQ 834 2394 903 2306 \nQ 972 2216 1119 2156 \nQ 1203 2125 1616 2013 \nQ 2213 1853 2448 1751 \nQ 2684 1650 2818 1456 \nQ 2953 1263 2953 975 \nQ 2953 694 2789 445 \nQ 2625 197 2315 61 \nQ 2006 -75 1616 -75 \nQ 969 -75 630 194 \nQ 291 463 197 991 \nz\n\" transform=\"scale(0.015625)\"/>\n       <path id=\"ArialMT-69\" d=\"M 425 3934 \nL 425 4581 \nL 988 4581 \nL 988 3934 \nL 425 3934 \nz\nM 425 0 \nL 425 3319 \nL 988 3319 \nL 988 0 \nL 425 0 \nz\n\" transform=\"scale(0.015625)\"/>\n       <path id=\"ArialMT-74\" d=\"M 1650 503 \nL 1731 6 \nQ 1494 -44 1306 -44 \nQ 1000 -44 831 53 \nQ 663 150 594 308 \nQ 525 466 525 972 \nL 525 2881 \nL 113 2881 \nL 113 3319 \nL 525 3319 \nL 525 4141 \nL 1084 4478 \nL 1084 3319 \nL 1650 3319 \nL 1650 2881 \nL 1084 2881 \nL 1084 941 \nQ 1084 700 1114 631 \nQ 1144 563 1211 522 \nQ 1278 481 1403 481 \nQ 1497 481 1650 503 \nz\n\" transform=\"scale(0.015625)\"/>\n       <path id=\"ArialMT-79\" d=\"M 397 -1278 \nL 334 -750 \nQ 519 -800 656 -800 \nQ 844 -800 956 -737 \nQ 1069 -675 1141 -563 \nQ 1194 -478 1313 -144 \nQ 1328 -97 1363 -6 \nL 103 3319 \nL 709 3319 \nL 1400 1397 \nQ 1534 1031 1641 628 \nQ 1738 1016 1872 1384 \nL 2581 3319 \nL 3144 3319 \nL 1881 -56 \nQ 1678 -603 1566 -809 \nQ 1416 -1088 1222 -1217 \nQ 1028 -1347 759 -1347 \nQ 597 -1347 397 -1278 \nz\n\" transform=\"scale(0.015625)\"/>\n      </defs>\n      <use xlink:href=\"#ArialMT-44\"/>\n      <use xlink:href=\"#ArialMT-65\" x=\"72.216797\"/>\n      <use xlink:href=\"#ArialMT-6e\" x=\"127.832031\"/>\n      <use xlink:href=\"#ArialMT-73\" x=\"183.447266\"/>\n      <use xlink:href=\"#ArialMT-69\" x=\"233.447266\"/>\n      <use xlink:href=\"#ArialMT-74\" x=\"255.664062\"/>\n      <use xlink:href=\"#ArialMT-79\" x=\"283.447266\"/>\n     </g>\n    </g>\n   </g>\n   <g id=\"PolyCollection_1\">\n    <defs>\n     <path id=\"m89803e1c4a\" d=\"M 78.099608 -41.937947 \nL 78.099608 -41.734219 \nL 79.662252 -41.734219 \nL 81.224896 -41.734219 \nL 82.787541 -41.734219 \nL 84.350185 -41.734219 \nL 85.912829 -41.734219 \nL 87.475473 -41.734219 \nL 89.038117 -41.734219 \nL 90.600761 -41.734219 \nL 92.163405 -41.734219 \nL 93.726049 -41.734219 \nL 95.288693 -41.734219 \nL 96.851337 -41.734219 \nL 98.413981 -41.734219 \nL 99.976625 -41.734219 \nL 101.539269 -41.734219 \nL 103.101913 -41.734219 \nL 104.664557 -41.734219 \nL 106.227201 -41.734219 \nL 107.789845 -41.734219 \nL 109.352489 -41.734219 \nL 110.915133 -41.734219 \nL 112.477777 -41.734219 \nL 114.040421 -41.734219 \nL 115.603065 -41.734219 \nL 117.165709 -41.734219 \nL 118.728353 -41.734219 \nL 120.290997 -41.734219 \nL 121.853641 -41.734219 \nL 123.416285 -41.734219 \nL 124.97893 -41.734219 \nL 126.541574 -41.734219 \nL 128.104218 -41.734219 \nL 129.666862 -41.734219 \nL 131.229506 -41.734219 \nL 132.79215 -41.734219 \nL 134.354794 -41.734219 \nL 135.917438 -41.734219 \nL 137.480082 -41.734219 \nL 139.042726 -41.734219 \nL 140.60537 -41.734219 \nL 142.168014 -41.734219 \nL 143.730658 -41.734219 \nL 145.293302 -41.734219 \nL 146.855946 -41.734219 \nL 148.41859 -41.734219 \nL 149.981234 -41.734219 \nL 151.543878 -41.734219 \nL 153.106522 -41.734219 \nL 154.669166 -41.734219 \nL 156.23181 -41.734219 \nL 157.794454 -41.734219 \nL 159.357098 -41.734219 \nL 160.919742 -41.734219 \nL 162.482386 -41.734219 \nL 164.04503 -41.734219 \nL 165.607674 -41.734219 \nL 167.170319 -41.734219 \nL 168.732963 -41.734219 \nL 170.295607 -41.734219 \nL 171.858251 -41.734219 \nL 173.420895 -41.734219 \nL 174.983539 -41.734219 \nL 176.546183 -41.734219 \nL 178.108827 -41.734219 \nL 179.671471 -41.734219 \nL 181.234115 -41.734219 \nL 182.796759 -41.734219 \nL 184.359403 -41.734219 \nL 185.922047 -41.734219 \nL 187.484691 -41.734219 \nL 189.047335 -41.734219 \nL 190.609979 -41.734219 \nL 192.172623 -41.734219 \nL 193.735267 -41.734219 \nL 195.297911 -41.734219 \nL 196.860555 -41.734219 \nL 198.423199 -41.734219 \nL 199.985843 -41.734219 \nL 201.548487 -41.734219 \nL 203.111131 -41.734219 \nL 204.673775 -41.734219 \nL 206.236419 -41.734219 \nL 207.799064 -41.734219 \nL 209.361708 -41.734219 \nL 210.924352 -41.734219 \nL 212.486996 -41.734219 \nL 214.04964 -41.734219 \nL 215.612284 -41.734219 \nL 217.174928 -41.734219 \nL 218.737572 -41.734219 \nL 220.300216 -41.734219 \nL 221.86286 -41.734219 \nL 223.425504 -41.734219 \nL 224.988148 -41.734219 \nL 226.550792 -41.734219 \nL 228.113436 -41.734219 \nL 229.67608 -41.734219 \nL 231.238724 -41.734219 \nL 232.801368 -41.734219 \nL 234.364012 -41.734219 \nL 235.926656 -41.734219 \nL 237.4893 -41.734219 \nL 239.051944 -41.734219 \nL 240.614588 -41.734219 \nL 242.177232 -41.734219 \nL 243.739876 -41.734219 \nL 245.30252 -41.734219 \nL 246.865164 -41.734219 \nL 248.427808 -41.734219 \nL 249.990453 -41.734219 \nL 251.553097 -41.734219 \nL 253.115741 -41.734219 \nL 254.678385 -41.734219 \nL 256.241029 -41.734219 \nL 257.803673 -41.734219 \nL 259.366317 -41.734219 \nL 260.928961 -41.734219 \nL 262.491605 -41.734219 \nL 264.054249 -41.734219 \nL 265.616893 -41.734219 \nL 267.179537 -41.734219 \nL 268.742181 -41.734219 \nL 270.304825 -41.734219 \nL 271.867469 -41.734219 \nL 273.430113 -41.734219 \nL 274.992757 -41.734219 \nL 276.555401 -41.734219 \nL 278.118045 -41.734219 \nL 279.680689 -41.734219 \nL 281.243333 -41.734219 \nL 282.805977 -41.734219 \nL 284.368621 -41.734219 \nL 285.931265 -41.734219 \nL 287.493909 -41.734219 \nL 289.056553 -41.734219 \nL 290.619198 -41.734219 \nL 292.181842 -41.734219 \nL 293.744486 -41.734219 \nL 295.30713 -41.734219 \nL 296.869774 -41.734219 \nL 298.432418 -41.734219 \nL 299.995062 -41.734219 \nL 301.557706 -41.734219 \nL 303.12035 -41.734219 \nL 304.682994 -41.734219 \nL 306.245638 -41.734219 \nL 307.808282 -41.734219 \nL 309.370926 -41.734219 \nL 310.93357 -41.734219 \nL 312.496214 -41.734219 \nL 314.058858 -41.734219 \nL 315.621502 -41.734219 \nL 317.184146 -41.734219 \nL 318.74679 -41.734219 \nL 320.309434 -41.734219 \nL 321.872078 -41.734219 \nL 323.434722 -41.734219 \nL 324.997366 -41.734219 \nL 326.56001 -41.734219 \nL 328.122654 -41.734219 \nL 329.685298 -41.734219 \nL 331.247942 -41.734219 \nL 332.810587 -41.734219 \nL 334.373231 -41.734219 \nL 335.935875 -41.734219 \nL 337.498519 -41.734219 \nL 339.061163 -41.734219 \nL 340.623807 -41.734219 \nL 342.186451 -41.734219 \nL 343.749095 -41.734219 \nL 345.311739 -41.734219 \nL 346.874383 -41.734219 \nL 348.437027 -41.734219 \nL 349.999671 -41.734219 \nL 351.562315 -41.734219 \nL 353.124959 -41.734219 \nL 354.687603 -41.734219 \nL 356.250247 -41.734219 \nL 357.812891 -41.734219 \nL 359.375535 -41.734219 \nL 360.938179 -41.734219 \nL 362.500823 -41.734219 \nL 364.063467 -41.734219 \nL 365.626111 -41.734219 \nL 367.188755 -41.734219 \nL 368.751399 -41.734219 \nL 370.314043 -41.734219 \nL 371.876687 -41.734219 \nL 373.439331 -41.734219 \nL 375.001976 -41.734219 \nL 376.56462 -41.734219 \nL 378.127264 -41.734219 \nL 379.689908 -41.734219 \nL 381.252552 -41.734219 \nL 382.815196 -41.734219 \nL 384.37784 -41.734219 \nL 385.940484 -41.734219 \nL 387.503128 -41.734219 \nL 389.065772 -41.734219 \nL 389.065772 -41.740891 \nL 389.065772 -41.740891 \nL 387.503128 -41.74616 \nL 385.940484 -41.754982 \nL 384.37784 -41.769303 \nL 382.815196 -41.791837 \nL 381.252552 -41.826217 \nL 379.689908 -41.87707 \nL 378.127264 -41.949998 \nL 376.56462 -42.051401 \nL 375.001976 -42.188112 \nL 373.439331 -42.366835 \nL 371.876687 -42.593411 \nL 370.314043 -42.871998 \nL 368.751399 -43.204279 \nL 367.188755 -43.588842 \nL 365.626111 -44.020894 \nL 364.063467 -44.49239 \nL 362.500823 -44.992647 \nL 360.938179 -45.509371 \nL 359.375535 -46.02997 \nL 357.812891 -46.542941 \nL 356.250247 -47.039121 \nL 354.687603 -47.512565 \nL 353.124959 -47.960949 \nL 351.562315 -48.385418 \nL 349.999671 -48.78995 \nL 348.437027 -49.180348 \nL 346.874383 -49.563045 \nL 345.311739 -49.943894 \nL 343.749095 -50.327122 \nL 342.186451 -50.714556 \nL 340.623807 -51.105215 \nL 339.061163 -51.495306 \nL 337.498519 -51.878614 \nL 335.935875 -52.247269 \nL 334.373231 -52.592808 \nL 332.810587 -52.907424 \nL 331.247942 -53.185234 \nL 329.685298 -53.423372 \nL 328.122654 -53.622673 \nL 326.56001 -53.787775 \nL 324.997366 -53.926543 \nL 323.434722 -54.048851 \nL 321.872078 -54.164948 \nL 320.309434 -54.283742 \nL 318.74679 -54.411411 \nL 317.184146 -54.5507 \nL 315.621502 -54.70112 \nL 314.058858 -54.86 \nL 312.496214 -55.024164 \nL 310.93357 -55.191748 \nL 309.370926 -55.363678 \nL 307.808282 -55.544369 \nL 306.245638 -55.741428 \nL 304.682994 -55.964388 \nL 303.12035 -56.222794 \nL 301.557706 -56.524099 \nL 299.995062 -56.871909 \nL 298.432418 -57.265006 \nL 296.869774 -57.697402 \nL 295.30713 -58.159404 \nL 293.744486 -58.639461 \nL 292.181842 -59.126381 \nL 290.619198 -59.61147 \nL 289.056553 -60.090187 \nL 287.493909 -60.563045 \nL 285.931265 -61.035678 \nL 284.368621 -61.518119 \nL 282.805977 -62.02349 \nL 281.243333 -62.566326 \nL 279.680689 -63.160787 \nL 278.118045 -63.818952 \nL 276.555401 -64.549403 \nL 274.992757 -65.35622 \nL 273.430113 -66.2385 \nL 271.867469 -67.190481 \nL 270.304825 -68.202248 \nL 268.742181 -69.260945 \nL 267.179537 -70.352345 \nL 265.616893 -71.462522 \nL 264.054249 -72.579419 \nL 262.491605 -73.694106 \nL 260.928961 -74.80162 \nL 259.366317 -75.901373 \nL 257.803673 -76.997209 \nL 256.241029 -78.097187 \nL 254.678385 -79.213181 \nL 253.115741 -80.3603 \nL 251.553097 -81.556075 \nL 249.990453 -82.81931 \nL 248.427808 -84.1685 \nL 246.865164 -85.619778 \nL 245.30252 -87.184491 \nL 243.739876 -88.86664 \nL 242.177232 -90.660556 \nL 240.614588 -92.549292 \nL 239.051944 -94.50422 \nL 237.4893 -96.486214 \nL 235.926656 -98.44858 \nL 234.364012 -100.341623 \nL 232.801368 -102.118342 \nL 231.238724 -103.740496 \nL 229.67608 -105.184064 \nL 228.113436 -106.443132 \nL 226.550792 -107.531472 \nL 224.988148 -108.481443 \nL 223.425504 -109.340379 \nL 221.86286 -110.165075 \nL 220.300216 -111.015357 \nL 218.737572 -111.947843 \nL 217.174928 -113.010853 \nL 215.612284 -114.241116 \nL 214.04964 -115.662463 \nL 212.486996 -117.286255 \nL 210.924352 -119.113004 \nL 209.361708 -121.134529 \nL 207.799064 -123.336071 \nL 206.236419 -125.698022 \nL 204.673775 -128.197156 \nL 203.111131 -130.807522 \nL 201.548487 -133.501221 \nL 199.985843 -136.249305 \nL 198.423199 -139.022935 \nL 196.860555 -141.794777 \nL 195.297911 -144.540499 \nL 193.735267 -147.24018 \nL 192.172623 -149.879452 \nL 190.609979 -152.450252 \nL 189.047335 -154.951194 \nL 187.484691 -157.387614 \nL 185.922047 -159.771368 \nL 184.359403 -162.120468 \nL 182.796759 -164.458532 \nL 181.234115 -166.813987 \nL 179.671471 -169.218867 \nL 178.108827 -171.707096 \nL 176.546183 -174.312185 \nL 174.983539 -177.064389 \nL 173.420895 -179.987545 \nL 171.858251 -183.095902 \nL 170.295607 -186.391356 \nL 168.732963 -189.861506 \nL 167.170319 -193.478859 \nL 165.607674 -197.201418 \nL 164.04503 -200.974705 \nL 162.482386 -204.735144 \nL 160.919742 -208.414578 \nL 159.357098 -211.945587 \nL 157.794454 -215.267135 \nL 156.23181 -218.330003 \nL 154.669166 -221.101361 \nL 153.106522 -223.567862 \nL 151.543878 -225.736711 \nL 149.981234 -227.634415 \nL 148.41859 -229.303249 \nL 146.855946 -230.795837 \nL 145.293302 -232.168572 \nL 143.730658 -233.474802 \nL 142.168014 -234.75863 \nL 140.60537 -236.050042 \nL 139.042726 -237.36167 \nL 137.480082 -238.687172 \nL 135.917438 -240.0009 \nL 134.354794 -241.258367 \nL 132.79215 -242.397046 \nL 131.229506 -243.337151 \nL 129.666862 -243.982326 \nL 128.104218 -244.220396 \nL 126.541574 -243.924597 \nL 124.97893 -242.955817 \nL 123.416285 -241.166465 \nL 121.853641 -238.40646 \nL 120.290997 -234.531649 \nL 118.728353 -229.414616 \nL 117.165709 -222.95743 \nL 115.603065 -215.105377 \nL 114.040421 -205.860228 \nL 112.477777 -195.291203 \nL 110.915133 -183.541565 \nL 109.352489 -170.828934 \nL 107.789845 -157.43797 \nL 106.227201 -143.705027 \nL 104.664557 -129.995735 \nL 103.101913 -116.677736 \nL 101.539269 -104.091958 \nL 99.976625 -92.526292 \nL 98.413981 -82.1953 \nL 96.851337 -73.228625 \nL 95.288693 -65.669242 \nL 93.726049 -59.481001 \nL 92.163405 -54.563464 \nL 90.600761 -50.771052 \nL 89.038117 -47.933324 \nL 87.475473 -45.873516 \nL 85.912829 -44.423387 \nL 84.350185 -43.433369 \nL 82.787541 -42.77801 \nL 81.224896 -42.357415 \nL 79.662252 -42.095747 \nL 78.099608 -41.937947 \nz\n\" style=\"stroke: #c44e52\"/>\n    </defs>\n    <g clip-path=\"url(#p74397dc860)\">\n     <use xlink:href=\"#m89803e1c4a\" x=\"0\" y=\"266.374219\" style=\"fill: #c44e52; fill-opacity: 0.25; stroke: #c44e52\"/>\n    </g>\n   </g>\n   <g id=\"PolyCollection_2\">\n    <defs>\n     <path id=\"m20f4e11f99\" d=\"M 81.156553 -41.80195 \nL 81.156553 -41.734219 \nL 82.51858 -41.734219 \nL 83.880607 -41.734219 \nL 85.242635 -41.734219 \nL 86.604662 -41.734219 \nL 87.96669 -41.734219 \nL 89.328717 -41.734219 \nL 90.690744 -41.734219 \nL 92.052772 -41.734219 \nL 93.414799 -41.734219 \nL 94.776827 -41.734219 \nL 96.138854 -41.734219 \nL 97.500881 -41.734219 \nL 98.862909 -41.734219 \nL 100.224936 -41.734219 \nL 101.586964 -41.734219 \nL 102.948991 -41.734219 \nL 104.311018 -41.734219 \nL 105.673046 -41.734219 \nL 107.035073 -41.734219 \nL 108.397101 -41.734219 \nL 109.759128 -41.734219 \nL 111.121155 -41.734219 \nL 112.483183 -41.734219 \nL 113.84521 -41.734219 \nL 115.207238 -41.734219 \nL 116.569265 -41.734219 \nL 117.931292 -41.734219 \nL 119.29332 -41.734219 \nL 120.655347 -41.734219 \nL 122.017375 -41.734219 \nL 123.379402 -41.734219 \nL 124.741429 -41.734219 \nL 126.103457 -41.734219 \nL 127.465484 -41.734219 \nL 128.827512 -41.734219 \nL 130.189539 -41.734219 \nL 131.551566 -41.734219 \nL 132.913594 -41.734219 \nL 134.275621 -41.734219 \nL 135.637648 -41.734219 \nL 136.999676 -41.734219 \nL 138.361703 -41.734219 \nL 139.723731 -41.734219 \nL 141.085758 -41.734219 \nL 142.447785 -41.734219 \nL 143.809813 -41.734219 \nL 145.17184 -41.734219 \nL 146.533868 -41.734219 \nL 147.895895 -41.734219 \nL 149.257922 -41.734219 \nL 150.61995 -41.734219 \nL 151.981977 -41.734219 \nL 153.344005 -41.734219 \nL 154.706032 -41.734219 \nL 156.068059 -41.734219 \nL 157.430087 -41.734219 \nL 158.792114 -41.734219 \nL 160.154142 -41.734219 \nL 161.516169 -41.734219 \nL 162.878196 -41.734219 \nL 164.240224 -41.734219 \nL 165.602251 -41.734219 \nL 166.964279 -41.734219 \nL 168.326306 -41.734219 \nL 169.688333 -41.734219 \nL 171.050361 -41.734219 \nL 172.412388 -41.734219 \nL 173.774416 -41.734219 \nL 175.136443 -41.734219 \nL 176.49847 -41.734219 \nL 177.860498 -41.734219 \nL 179.222525 -41.734219 \nL 180.584553 -41.734219 \nL 181.94658 -41.734219 \nL 183.308607 -41.734219 \nL 184.670635 -41.734219 \nL 186.032662 -41.734219 \nL 187.39469 -41.734219 \nL 188.756717 -41.734219 \nL 190.118744 -41.734219 \nL 191.480772 -41.734219 \nL 192.842799 -41.734219 \nL 194.204826 -41.734219 \nL 195.566854 -41.734219 \nL 196.928881 -41.734219 \nL 198.290909 -41.734219 \nL 199.652936 -41.734219 \nL 201.014963 -41.734219 \nL 202.376991 -41.734219 \nL 203.739018 -41.734219 \nL 205.101046 -41.734219 \nL 206.463073 -41.734219 \nL 207.8251 -41.734219 \nL 209.187128 -41.734219 \nL 210.549155 -41.734219 \nL 211.911183 -41.734219 \nL 213.27321 -41.734219 \nL 214.635237 -41.734219 \nL 215.997265 -41.734219 \nL 217.359292 -41.734219 \nL 218.72132 -41.734219 \nL 220.083347 -41.734219 \nL 221.445374 -41.734219 \nL 222.807402 -41.734219 \nL 224.169429 -41.734219 \nL 225.531457 -41.734219 \nL 226.893484 -41.734219 \nL 228.255511 -41.734219 \nL 229.617539 -41.734219 \nL 230.979566 -41.734219 \nL 232.341594 -41.734219 \nL 233.703621 -41.734219 \nL 235.065648 -41.734219 \nL 236.427676 -41.734219 \nL 237.789703 -41.734219 \nL 239.151731 -41.734219 \nL 240.513758 -41.734219 \nL 241.875785 -41.734219 \nL 243.237813 -41.734219 \nL 244.59984 -41.734219 \nL 245.961868 -41.734219 \nL 247.323895 -41.734219 \nL 248.685922 -41.734219 \nL 250.04795 -41.734219 \nL 251.409977 -41.734219 \nL 252.772004 -41.734219 \nL 254.134032 -41.734219 \nL 255.496059 -41.734219 \nL 256.858087 -41.734219 \nL 258.220114 -41.734219 \nL 259.582141 -41.734219 \nL 260.944169 -41.734219 \nL 262.306196 -41.734219 \nL 263.668224 -41.734219 \nL 265.030251 -41.734219 \nL 266.392278 -41.734219 \nL 267.754306 -41.734219 \nL 269.116333 -41.734219 \nL 270.478361 -41.734219 \nL 271.840388 -41.734219 \nL 273.202415 -41.734219 \nL 274.564443 -41.734219 \nL 275.92647 -41.734219 \nL 277.288498 -41.734219 \nL 278.650525 -41.734219 \nL 280.012552 -41.734219 \nL 281.37458 -41.734219 \nL 282.736607 -41.734219 \nL 284.098635 -41.734219 \nL 285.460662 -41.734219 \nL 286.822689 -41.734219 \nL 288.184717 -41.734219 \nL 289.546744 -41.734219 \nL 290.908772 -41.734219 \nL 292.270799 -41.734219 \nL 293.632826 -41.734219 \nL 294.994854 -41.734219 \nL 296.356881 -41.734219 \nL 297.718909 -41.734219 \nL 299.080936 -41.734219 \nL 300.442963 -41.734219 \nL 301.804991 -41.734219 \nL 303.167018 -41.734219 \nL 304.529046 -41.734219 \nL 305.891073 -41.734219 \nL 307.2531 -41.734219 \nL 308.615128 -41.734219 \nL 309.977155 -41.734219 \nL 311.339182 -41.734219 \nL 312.70121 -41.734219 \nL 314.063237 -41.734219 \nL 315.425265 -41.734219 \nL 316.787292 -41.734219 \nL 318.149319 -41.734219 \nL 319.511347 -41.734219 \nL 320.873374 -41.734219 \nL 322.235402 -41.734219 \nL 323.597429 -41.734219 \nL 324.959456 -41.734219 \nL 326.321484 -41.734219 \nL 327.683511 -41.734219 \nL 329.045539 -41.734219 \nL 330.407566 -41.734219 \nL 331.769593 -41.734219 \nL 333.131621 -41.734219 \nL 334.493648 -41.734219 \nL 335.855676 -41.734219 \nL 337.217703 -41.734219 \nL 338.57973 -41.734219 \nL 339.941758 -41.734219 \nL 341.303785 -41.734219 \nL 342.665813 -41.734219 \nL 344.02784 -41.734219 \nL 345.389867 -41.734219 \nL 346.751895 -41.734219 \nL 348.113922 -41.734219 \nL 349.47595 -41.734219 \nL 350.837977 -41.734219 \nL 352.200004 -41.734219 \nL 352.200004 -41.742246 \nL 352.200004 -41.742246 \nL 350.837977 -41.748587 \nL 349.47595 -41.759227 \nL 348.113922 -41.776555 \nL 346.751895 -41.803937 \nL 345.389867 -41.845929 \nL 344.02784 -41.908418 \nL 342.665813 -41.998653 \nL 341.303785 -42.125093 \nL 339.941758 -42.297013 \nL 338.57973 -42.523843 \nL 337.217703 -42.814252 \nL 335.855676 -43.175056 \nL 334.493648 -43.610079 \nL 333.131621 -44.119144 \nL 331.769593 -44.69741 \nL 330.407566 -45.335208 \nL 329.045539 -46.018496 \nL 327.683511 -46.729938 \nL 326.321484 -47.450483 \nL 324.959456 -48.161246 \nL 323.597429 -48.84539 \nL 322.235402 -49.489726 \nL 320.873374 -50.085774 \nL 319.511347 -50.630124 \nL 318.149319 -51.124061 \nL 316.787292 -51.572542 \nL 315.425265 -51.982713 \nL 314.063237 -52.362247 \nL 312.70121 -52.717809 \nL 311.339182 -53.053934 \nL 309.977155 -53.372519 \nL 308.615128 -53.673049 \nL 307.2531 -53.953484 \nL 305.891073 -54.211621 \nL 304.529046 -54.446635 \nL 303.167018 -54.660449 \nL 301.804991 -54.85861 \nL 300.442963 -55.050516 \nL 299.080936 -55.24891 \nL 297.718909 -55.468822 \nL 296.356881 -55.726149 \nL 294.994854 -56.036192 \nL 293.632826 -56.41237 \nL 292.270799 -56.865244 \nL 290.908772 -57.401899 \nL 289.546744 -58.025608 \nL 288.184717 -58.735686 \nL 286.822689 -59.527491 \nL 285.460662 -60.392546 \nL 284.098635 -61.318863 \nL 282.736607 -62.291554 \nL 281.37458 -63.29381 \nL 280.012552 -64.30825 \nL 278.650525 -65.318557 \nL 277.288498 -66.311234 \nL 275.92647 -67.277241 \nL 274.564443 -68.213284 \nL 273.202415 -69.12257 \nL 271.840388 -70.014889 \nL 270.478361 -70.905968 \nL 269.116333 -71.816127 \nL 267.754306 -72.768287 \nL 266.392278 -73.785471 \nL 265.030251 -74.887965 \nL 263.668224 -76.09041 \nL 262.306196 -77.399179 \nL 260.944169 -78.810456 \nL 259.582141 -80.309475 \nL 258.220114 -81.871295 \nL 256.858087 -83.463297 \nL 255.496059 -85.049317 \nL 254.134032 -86.594954 \nL 252.772004 -88.073309 \nL 251.409977 -89.470143 \nL 250.04795 -90.787465 \nL 248.685922 -92.04472 \nL 247.323895 -93.277174 \nL 245.961868 -94.531589 \nL 244.59984 -95.859855 \nL 243.237813 -97.311645 \nL 241.875785 -98.927407 \nL 240.513758 -100.73292 \nL 239.151731 -102.73634 \nL 237.789703 -104.928182 \nL 236.427676 -107.284093 \nL 235.065648 -109.769793 \nL 233.703621 -112.347205 \nL 232.341594 -114.98068 \nL 230.979566 -117.642298 \nL 229.617539 -120.315458 \nL 228.255511 -122.996342 \nL 226.893484 -125.693162 \nL 225.531457 -128.423479 \nL 224.169429 -131.210103 \nL 222.807402 -134.076354 \nL 221.445374 -137.04146 \nL 220.083347 -140.116903 \nL 218.72132 -143.304297 \nL 217.359292 -146.595128 \nL 215.997265 -149.972294 \nL 214.635237 -153.413059 \nL 213.27321 -156.892742 \nL 211.911183 -160.388393 \nL 210.549155 -163.881748 \nL 209.187128 -167.360985 \nL 207.8251 -170.821099 \nL 206.463073 -174.262998 \nL 205.101046 -177.691617 \nL 203.739018 -181.113477 \nL 202.376991 -184.534092 \nL 201.014963 -187.955619 \nL 199.652936 -191.375018 \nL 198.290909 -194.78294 \nL 196.928881 -198.163497 \nL 195.566854 -201.494972 \nL 194.204826 -204.751461 \nL 192.842799 -207.905348 \nL 191.480772 -210.930387 \nL 190.118744 -213.805083 \nL 188.756717 -216.515937 \nL 187.39469 -219.060092 \nL 186.032662 -221.446875 \nL 184.670635 -223.697801 \nL 183.308607 -225.844746 \nL 181.94658 -227.926203 \nL 180.584553 -229.981891 \nL 179.222525 -232.046269 \nL 177.860498 -234.141849 \nL 176.49847 -236.273354 \nL 175.136443 -238.423769 \nL 173.774416 -240.553104 \nL 172.412388 -242.600345 \nL 171.050361 -244.488527 \nL 169.688333 -246.132414 \nL 168.326306 -247.447847 \nL 166.964279 -248.361525 \nL 165.602251 -248.819933 \nL 164.240224 -248.796135 \nL 162.878196 -248.293385 \nL 161.516169 -247.344847 \nL 160.154142 -246.009173 \nL 158.792114 -244.362278 \nL 157.430087 -242.486246 \nL 156.068059 -240.456913 \nL 154.706032 -238.332054 \nL 153.344005 -236.142208 \nL 151.981977 -233.885896 \nL 150.61995 -231.530273 \nL 149.257922 -229.017314 \nL 147.895895 -226.274528 \nL 146.533868 -223.228324 \nL 145.17184 -219.817568 \nL 143.809813 -216.004861 \nL 142.447785 -211.783548 \nL 141.085758 -207.179347 \nL 139.723731 -202.24657 \nL 138.361703 -197.059953 \nL 136.999676 -191.703884 \nL 135.637648 -186.261142 \nL 134.275621 -180.803203 \nL 132.913594 -175.383609 \nL 131.551566 -170.035179 \nL 130.189539 -164.770973 \nL 128.827512 -159.588178 \nL 127.465484 -154.473665 \nL 126.103457 -149.40976 \nL 124.741429 -144.379032 \nL 123.379402 -139.367303 \nL 122.017375 -134.364656 \nL 120.655347 -129.364769 \nL 119.29332 -124.363266 \nL 117.931292 -119.355981 \nL 116.569265 -114.337928 \nL 115.207238 -109.303545 \nL 113.84521 -104.248376 \nL 112.483183 -99.17196 \nL 111.121155 -94.081347 \nL 109.759128 -88.994441 \nL 108.397101 -83.942302 \nL 107.035073 -78.96971 \nL 105.673046 -74.133555 \nL 104.311018 -69.499045 \nL 102.948991 -65.134154 \nL 101.586964 -61.103107 \nL 100.224936 -57.459913 \nL 98.862909 -54.242981 \nL 97.500881 -51.471642 \nL 96.138854 -49.145046 \nL 94.776827 -47.243448 \nL 93.414799 -45.731496 \nL 92.052772 -44.562816 \nL 90.690744 -43.685095 \nL 89.328717 -43.044875 \nL 87.96669 -42.591504 \nL 86.604662 -42.279904 \nL 85.242635 -42.0721 \nL 83.880607 -41.937658 \nL 82.51858 -41.853293 \nL 81.156553 -41.80195 \nz\n\" style=\"stroke: #55a868\"/>\n    </defs>\n    <g clip-path=\"url(#p74397dc860)\">\n     <use xlink:href=\"#m20f4e11f99\" x=\"0\" y=\"266.374219\" style=\"fill: #55a868; fill-opacity: 0.25; stroke: #55a868\"/>\n    </g>\n   </g>\n   <g id=\"PolyCollection_3\">\n    <defs>\n     <path id=\"me661eb01b8\" d=\"M 77.093608 -41.868532 \nL 77.093608 -41.734219 \nL 78.877984 -41.734219 \nL 80.662361 -41.734219 \nL 82.446737 -41.734219 \nL 84.231114 -41.734219 \nL 86.01549 -41.734219 \nL 87.799867 -41.734219 \nL 89.584243 -41.734219 \nL 91.368619 -41.734219 \nL 93.152996 -41.734219 \nL 94.937372 -41.734219 \nL 96.721749 -41.734219 \nL 98.506125 -41.734219 \nL 100.290502 -41.734219 \nL 102.074878 -41.734219 \nL 103.859254 -41.734219 \nL 105.643631 -41.734219 \nL 107.428007 -41.734219 \nL 109.212384 -41.734219 \nL 110.99676 -41.734219 \nL 112.781137 -41.734219 \nL 114.565513 -41.734219 \nL 116.349889 -41.734219 \nL 118.134266 -41.734219 \nL 119.918642 -41.734219 \nL 121.703019 -41.734219 \nL 123.487395 -41.734219 \nL 125.271771 -41.734219 \nL 127.056148 -41.734219 \nL 128.840524 -41.734219 \nL 130.624901 -41.734219 \nL 132.409277 -41.734219 \nL 134.193654 -41.734219 \nL 135.97803 -41.734219 \nL 137.762406 -41.734219 \nL 139.546783 -41.734219 \nL 141.331159 -41.734219 \nL 143.115536 -41.734219 \nL 144.899912 -41.734219 \nL 146.684289 -41.734219 \nL 148.468665 -41.734219 \nL 150.253041 -41.734219 \nL 152.037418 -41.734219 \nL 153.821794 -41.734219 \nL 155.606171 -41.734219 \nL 157.390547 -41.734219 \nL 159.174924 -41.734219 \nL 160.9593 -41.734219 \nL 162.743676 -41.734219 \nL 164.528053 -41.734219 \nL 166.312429 -41.734219 \nL 168.096806 -41.734219 \nL 169.881182 -41.734219 \nL 171.665559 -41.734219 \nL 173.449935 -41.734219 \nL 175.234311 -41.734219 \nL 177.018688 -41.734219 \nL 178.803064 -41.734219 \nL 180.587441 -41.734219 \nL 182.371817 -41.734219 \nL 184.156194 -41.734219 \nL 185.94057 -41.734219 \nL 187.724946 -41.734219 \nL 189.509323 -41.734219 \nL 191.293699 -41.734219 \nL 193.078076 -41.734219 \nL 194.862452 -41.734219 \nL 196.646829 -41.734219 \nL 198.431205 -41.734219 \nL 200.215581 -41.734219 \nL 201.999958 -41.734219 \nL 203.784334 -41.734219 \nL 205.568711 -41.734219 \nL 207.353087 -41.734219 \nL 209.137464 -41.734219 \nL 210.92184 -41.734219 \nL 212.706216 -41.734219 \nL 214.490593 -41.734219 \nL 216.274969 -41.734219 \nL 218.059346 -41.734219 \nL 219.843722 -41.734219 \nL 221.628099 -41.734219 \nL 223.412475 -41.734219 \nL 225.196851 -41.734219 \nL 226.981228 -41.734219 \nL 228.765604 -41.734219 \nL 230.549981 -41.734219 \nL 232.334357 -41.734219 \nL 234.118734 -41.734219 \nL 235.90311 -41.734219 \nL 237.687486 -41.734219 \nL 239.471863 -41.734219 \nL 241.256239 -41.734219 \nL 243.040616 -41.734219 \nL 244.824992 -41.734219 \nL 246.609369 -41.734219 \nL 248.393745 -41.734219 \nL 250.178121 -41.734219 \nL 251.962498 -41.734219 \nL 253.746874 -41.734219 \nL 255.531251 -41.734219 \nL 257.315627 -41.734219 \nL 259.100004 -41.734219 \nL 260.88438 -41.734219 \nL 262.668756 -41.734219 \nL 264.453133 -41.734219 \nL 266.237509 -41.734219 \nL 268.021886 -41.734219 \nL 269.806262 -41.734219 \nL 271.590639 -41.734219 \nL 273.375015 -41.734219 \nL 275.159391 -41.734219 \nL 276.943768 -41.734219 \nL 278.728144 -41.734219 \nL 280.512521 -41.734219 \nL 282.296897 -41.734219 \nL 284.081274 -41.734219 \nL 285.86565 -41.734219 \nL 287.650026 -41.734219 \nL 289.434403 -41.734219 \nL 291.218779 -41.734219 \nL 293.003156 -41.734219 \nL 294.787532 -41.734219 \nL 296.571909 -41.734219 \nL 298.356285 -41.734219 \nL 300.140661 -41.734219 \nL 301.925038 -41.734219 \nL 303.709414 -41.734219 \nL 305.493791 -41.734219 \nL 307.278167 -41.734219 \nL 309.062544 -41.734219 \nL 310.84692 -41.734219 \nL 312.631296 -41.734219 \nL 314.415673 -41.734219 \nL 316.200049 -41.734219 \nL 317.984426 -41.734219 \nL 319.768802 -41.734219 \nL 321.553179 -41.734219 \nL 323.337555 -41.734219 \nL 325.121931 -41.734219 \nL 326.906308 -41.734219 \nL 328.690684 -41.734219 \nL 330.475061 -41.734219 \nL 332.259437 -41.734219 \nL 334.043814 -41.734219 \nL 335.82819 -41.734219 \nL 337.612566 -41.734219 \nL 339.396943 -41.734219 \nL 341.181319 -41.734219 \nL 342.965696 -41.734219 \nL 344.750072 -41.734219 \nL 346.534449 -41.734219 \nL 348.318825 -41.734219 \nL 350.103201 -41.734219 \nL 351.887578 -41.734219 \nL 353.671954 -41.734219 \nL 355.456331 -41.734219 \nL 357.240707 -41.734219 \nL 359.025084 -41.734219 \nL 360.80946 -41.734219 \nL 362.593836 -41.734219 \nL 364.378213 -41.734219 \nL 366.162589 -41.734219 \nL 367.946966 -41.734219 \nL 369.731342 -41.734219 \nL 371.515719 -41.734219 \nL 373.300095 -41.734219 \nL 375.084471 -41.734219 \nL 376.868848 -41.734219 \nL 378.653224 -41.734219 \nL 380.437601 -41.734219 \nL 382.221977 -41.734219 \nL 384.006354 -41.734219 \nL 385.79073 -41.734219 \nL 387.575106 -41.734219 \nL 389.359483 -41.734219 \nL 391.143859 -41.734219 \nL 392.928236 -41.734219 \nL 394.712612 -41.734219 \nL 396.496988 -41.734219 \nL 398.281365 -41.734219 \nL 400.065741 -41.734219 \nL 401.850118 -41.734219 \nL 403.634494 -41.734219 \nL 405.418871 -41.734219 \nL 407.203247 -41.734219 \nL 408.987623 -41.734219 \nL 410.772 -41.734219 \nL 412.556376 -41.734219 \nL 414.340753 -41.734219 \nL 416.125129 -41.734219 \nL 417.909506 -41.734219 \nL 419.693882 -41.734219 \nL 421.478258 -41.734219 \nL 423.262635 -41.734219 \nL 425.047011 -41.734219 \nL 426.831388 -41.734219 \nL 428.615764 -41.734219 \nL 430.400141 -41.734219 \nL 432.184517 -41.734219 \nL 432.184517 -41.738047 \nL 432.184517 -41.738047 \nL 430.400141 -41.741332 \nL 428.615764 -41.746977 \nL 426.831388 -41.75632 \nL 425.047011 -41.771202 \nL 423.262635 -41.794026 \nL 421.478258 -41.827726 \nL 419.693882 -41.875626 \nL 417.909506 -41.941165 \nL 416.125129 -42.027475 \nL 414.340753 -42.136861 \nL 412.556376 -42.270246 \nL 410.772 -42.426706 \nL 408.987623 -42.603209 \nL 407.203247 -42.794678 \nL 405.418871 -42.994434 \nL 403.634494 -43.195007 \nL 401.850118 -43.389219 \nL 400.065741 -43.571354 \nL 398.281365 -43.738187 \nL 396.496988 -43.889669 \nL 394.712612 -44.029071 \nL 392.928236 -44.162531 \nL 391.143859 -44.298022 \nL 389.359483 -44.443908 \nL 387.575106 -44.607329 \nL 385.79073 -44.792692 \nL 384.006354 -45.000566 \nL 382.221977 -45.227184 \nL 380.437601 -45.464692 \nL 378.653224 -45.702138 \nL 376.868848 -45.927076 \nL 375.084471 -46.127562 \nL 373.300095 -46.294227 \nL 371.515719 -46.422073 \nL 369.731342 -46.511654 \nL 367.946966 -46.569376 \nL 366.162589 -46.606773 \nL 364.378213 -46.638824 \nL 362.593836 -46.681567 \nL 360.80946 -46.749445 \nL 359.025084 -46.852922 \nL 357.240707 -46.996852 \nL 355.456331 -47.179942 \nL 353.671954 -47.395396 \nL 351.887578 -47.632555 \nL 350.103201 -47.879131 \nL 348.318825 -48.123523 \nL 346.534449 -48.356746 \nL 344.750072 -48.57363 \nL 342.965696 -48.773144 \nL 341.181319 -48.957935 \nL 339.396943 -49.133284 \nL 337.612566 -49.305776 \nL 335.82819 -49.481987 \nL 334.043814 -49.667394 \nL 332.259437 -49.865688 \nL 330.475061 -50.078543 \nL 328.690684 -50.305851 \nL 326.906308 -50.546367 \nL 325.121931 -50.798615 \nL 323.337555 -51.061853 \nL 321.553179 -51.336844 \nL 319.768802 -51.62615 \nL 317.984426 -51.933801 \nL 316.200049 -52.264328 \nL 314.415673 -52.621361 \nL 312.631296 -53.006181 \nL 310.84692 -53.416658 \nL 309.062544 -53.84696 \nL 307.278167 -54.288169 \nL 305.493791 -54.729716 \nL 303.709414 -55.161287 \nL 301.925038 -55.574758 \nL 300.140661 -55.965762 \nL 298.356285 -56.334613 \nL 296.571909 -56.686579 \nL 294.787532 -57.031598 \nL 293.003156 -57.383676 \nL 291.218779 -57.760126 \nL 289.434403 -58.180714 \nL 287.650026 -58.666685 \nL 285.86565 -59.239538 \nL 284.081274 -59.919528 \nL 282.296897 -60.723951 \nL 280.512521 -61.665468 \nL 278.728144 -62.750818 \nL 276.943768 -63.98023 \nL 275.159391 -65.347719 \nL 273.375015 -66.842189 \nL 271.590639 -68.449029 \nL 269.806262 -70.151788 \nL 268.021886 -71.933509 \nL 266.237509 -73.777466 \nL 264.453133 -75.667291 \nL 262.668756 -77.586662 \nL 260.88438 -79.518838 \nL 259.100004 -81.446344 \nL 257.315627 -83.350996 \nL 255.531251 -85.214353 \nL 253.746874 -87.018572 \nL 251.962498 -88.747571 \nL 250.178121 -90.388409 \nL 248.393745 -91.932784 \nL 246.609369 -93.378521 \nL 244.824992 -94.730923 \nL 243.040616 -96.003776 \nL 241.256239 -97.219805 \nL 239.471863 -98.410377 \nL 237.687486 -99.614327 \nL 235.90311 -100.875853 \nL 234.118734 -102.24153 \nL 232.334357 -103.756567 \nL 230.549981 -105.460569 \nL 228.765604 -107.38318 \nL 226.981228 -109.540181 \nL 225.196851 -111.930739 \nL 223.412475 -114.536531 \nL 221.628099 -117.323243 \nL 219.843722 -120.244592 \nL 218.059346 -123.248445 \nL 216.274969 -126.284115 \nL 214.490593 -129.3096 \nL 212.706216 -132.297453 \nL 210.92184 -135.238291 \nL 209.137464 -138.141467 \nL 207.353087 -141.033031 \nL 205.568711 -143.951665 \nL 203.784334 -146.943562 \nL 201.999958 -150.05721 \nL 200.215581 -153.338751 \nL 198.431205 -156.828161 \nL 196.646829 -160.556072 \nL 194.862452 -164.5409 \nL 193.078076 -168.786003 \nL 191.293699 -173.276968 \nL 189.509323 -177.979486 \nL 187.724946 -182.838608 \nL 185.94057 -187.780156 \nL 184.156194 -192.714787 \nL 182.371817 -197.544657 \nL 180.587441 -202.172052 \nL 178.803064 -206.508838 \nL 177.018688 -210.485333 \nL 175.234311 -214.057237 \nL 173.449935 -217.20951 \nL 171.665559 -219.956502 \nL 169.881182 -222.338147 \nL 168.096806 -224.412527 \nL 166.312429 -226.245639 \nL 164.528053 -227.899684 \nL 162.743676 -229.421608 \nL 160.9593 -230.833824 \nL 159.174924 -232.1289 \nL 157.390547 -233.26939 \nL 155.606171 -234.193091 \nL 153.821794 -234.822831 \nL 152.037418 -235.078954 \nL 150.253041 -234.892022 \nL 148.468665 -234.213298 \nL 146.684289 -233.021091 \nL 144.899912 -231.322018 \nL 143.115536 -229.147353 \nL 141.331159 -226.54559 \nL 139.546783 -223.573007 \nL 137.762406 -220.28417 \nL 135.97803 -216.724051 \nL 134.193654 -212.922775 \nL 132.409277 -208.893266 \nL 130.624901 -204.631349 \nL 128.840524 -200.117456 \nL 127.056148 -195.319064 \nL 125.271771 -190.193278 \nL 123.487395 -184.689485 \nL 121.703019 -178.75246 \nL 119.918642 -172.326633 \nL 118.134266 -165.362223 \nL 116.349889 -157.823587 \nL 114.565513 -149.699497 \nL 112.781137 -141.014172 \nL 110.99676 -131.837061 \nL 109.212384 -122.288812 \nL 107.428007 -112.540908 \nL 105.643631 -102.807321 \nL 103.859254 -93.328076 \nL 102.074878 -84.346592 \nL 100.290502 -76.084411 \nL 98.506125 -68.717873 \nL 96.721749 -62.36109 \nL 94.937372 -57.058181 \nL 93.152996 -52.78563 \nL 91.368619 -49.463402 \nL 89.584243 -46.971802 \nL 87.799867 -45.170346 \nL 86.01549 -43.915191 \nL 84.231114 -43.072702 \nL 82.446737 -42.528051 \nL 80.662361 -42.188996 \nL 78.877984 -41.985782 \nL 77.093608 -41.868532 \nz\n\" style=\"stroke: #4c72b0\"/>\n    </defs>\n    <g clip-path=\"url(#p74397dc860)\">\n     <use xlink:href=\"#me661eb01b8\" x=\"0\" y=\"266.374219\" style=\"fill: #4c72b0; fill-opacity: 0.25; stroke: #4c72b0\"/>\n    </g>\n   </g>\n   <g id=\"patch_3\">\n    <path d=\"M 59.339063 224.64 \nL 59.339063 7.2 \n\" style=\"fill: none; stroke: #ffffff; stroke-width: 1.25; stroke-linejoin: miter; stroke-linecap: square\"/>\n   </g>\n   <g id=\"patch_4\">\n    <path d=\"M 449.939063 224.64 \nL 449.939063 7.2 \n\" style=\"fill: none; stroke: #ffffff; stroke-width: 1.25; stroke-linejoin: miter; stroke-linecap: square\"/>\n   </g>\n   <g id=\"patch_5\">\n    <path d=\"M 59.339063 224.64 \nL 449.939063 224.64 \n\" style=\"fill: none; stroke: #ffffff; stroke-width: 1.25; stroke-linejoin: miter; stroke-linecap: square\"/>\n   </g>\n   <g id=\"patch_6\">\n    <path d=\"M 59.339063 7.2 \nL 449.939063 7.2 \n\" style=\"fill: none; stroke: #ffffff; stroke-width: 1.25; stroke-linejoin: miter; stroke-linecap: square\"/>\n   </g>\n   <g id=\"legend_1\">\n    <g id=\"patch_7\">\n     <path d=\"M 380.156094 62.679531 \nL 442.239063 62.679531 \nQ 444.439063 62.679531 444.439063 60.479531 \nL 444.439063 14.9 \nQ 444.439063 12.7 442.239063 12.7 \nL 380.156094 12.7 \nQ 377.956094 12.7 377.956094 14.9 \nL 377.956094 60.479531 \nQ 377.956094 62.679531 380.156094 62.679531 \nz\n\" style=\"fill: #eaeaf2; opacity: 0.8; stroke: #cccccc; stroke-linejoin: miter\"/>\n    </g>\n    <g id=\"patch_8\">\n     <path d=\"M 382.356094 24.973594 \nL 404.356094 24.973594 \nL 404.356094 17.273594 \nL 382.356094 17.273594 \nz\n\" style=\"fill: #c44e52; fill-opacity: 0.25; stroke: #c44e52; stroke-linejoin: miter\"/>\n    </g>\n    <g id=\"text_17\">\n     <!-- EAP -->\n     <g style=\"fill: #262626\" transform=\"translate(413.156094 24.973594)scale(0.11 -0.11)\">\n      <defs>\n       <path id=\"ArialMT-45\" d=\"M 506 0 \nL 506 4581 \nL 3819 4581 \nL 3819 4041 \nL 1113 4041 \nL 1113 2638 \nL 3647 2638 \nL 3647 2100 \nL 1113 2100 \nL 1113 541 \nL 3925 541 \nL 3925 0 \nL 506 0 \nz\n\" transform=\"scale(0.015625)\"/>\n       <path id=\"ArialMT-41\" d=\"M -9 0 \nL 1750 4581 \nL 2403 4581 \nL 4278 0 \nL 3588 0 \nL 3053 1388 \nL 1138 1388 \nL 634 0 \nL -9 0 \nz\nM 1313 1881 \nL 2866 1881 \nL 2388 3150 \nQ 2169 3728 2063 4100 \nQ 1975 3659 1816 3225 \nL 1313 1881 \nz\n\" transform=\"scale(0.015625)\"/>\n       <path id=\"ArialMT-50\" d=\"M 494 0 \nL 494 4581 \nL 2222 4581 \nQ 2678 4581 2919 4538 \nQ 3256 4481 3484 4323 \nQ 3713 4166 3852 3881 \nQ 3991 3597 3991 3256 \nQ 3991 2672 3619 2267 \nQ 3247 1863 2275 1863 \nL 1100 1863 \nL 1100 0 \nL 494 0 \nz\nM 1100 2403 \nL 2284 2403 \nQ 2872 2403 3119 2622 \nQ 3366 2841 3366 3238 \nQ 3366 3525 3220 3729 \nQ 3075 3934 2838 4000 \nQ 2684 4041 2272 4041 \nL 1100 4041 \nL 1100 2403 \nz\n\" transform=\"scale(0.015625)\"/>\n      </defs>\n      <use xlink:href=\"#ArialMT-45\"/>\n      <use xlink:href=\"#ArialMT-41\" x=\"66.699219\"/>\n      <use xlink:href=\"#ArialMT-50\" x=\"133.398438\"/>\n     </g>\n    </g>\n    <g id=\"patch_9\">\n     <path d=\"M 382.356094 40.533437 \nL 404.356094 40.533437 \nL 404.356094 32.833437 \nL 382.356094 32.833437 \nz\n\" style=\"fill: #55a868; fill-opacity: 0.25; stroke: #55a868; stroke-linejoin: miter\"/>\n    </g>\n    <g id=\"text_18\">\n     <!-- HPL -->\n     <g style=\"fill: #262626\" transform=\"translate(413.156094 40.533437)scale(0.11 -0.11)\">\n      <defs>\n       <path id=\"ArialMT-48\" d=\"M 513 0 \nL 513 4581 \nL 1119 4581 \nL 1119 2700 \nL 3500 2700 \nL 3500 4581 \nL 4106 4581 \nL 4106 0 \nL 3500 0 \nL 3500 2159 \nL 1119 2159 \nL 1119 0 \nL 513 0 \nz\n\" transform=\"scale(0.015625)\"/>\n       <path id=\"ArialMT-4c\" d=\"M 469 0 \nL 469 4581 \nL 1075 4581 \nL 1075 541 \nL 3331 541 \nL 3331 0 \nL 469 0 \nz\n\" transform=\"scale(0.015625)\"/>\n      </defs>\n      <use xlink:href=\"#ArialMT-48\"/>\n      <use xlink:href=\"#ArialMT-50\" x=\"72.216797\"/>\n      <use xlink:href=\"#ArialMT-4c\" x=\"138.916016\"/>\n     </g>\n    </g>\n    <g id=\"patch_10\">\n     <path d=\"M 382.356094 56.093281 \nL 404.356094 56.093281 \nL 404.356094 48.393281 \nL 382.356094 48.393281 \nz\n\" style=\"fill: #4c72b0; fill-opacity: 0.25; stroke: #4c72b0; stroke-linejoin: miter\"/>\n    </g>\n    <g id=\"text_19\">\n     <!-- MWS -->\n     <g style=\"fill: #262626\" transform=\"translate(413.156094 56.093281)scale(0.11 -0.11)\">\n      <defs>\n       <path id=\"ArialMT-4d\" d=\"M 475 0 \nL 475 4581 \nL 1388 4581 \nL 2472 1338 \nQ 2622 884 2691 659 \nQ 2769 909 2934 1394 \nL 4031 4581 \nL 4847 4581 \nL 4847 0 \nL 4263 0 \nL 4263 3834 \nL 2931 0 \nL 2384 0 \nL 1059 3900 \nL 1059 0 \nL 475 0 \nz\n\" transform=\"scale(0.015625)\"/>\n       <path id=\"ArialMT-57\" d=\"M 1294 0 \nL 78 4581 \nL 700 4581 \nL 1397 1578 \nQ 1509 1106 1591 641 \nQ 1766 1375 1797 1488 \nL 2669 4581 \nL 3400 4581 \nL 4056 2263 \nQ 4303 1400 4413 641 \nQ 4500 1075 4641 1638 \nL 5359 4581 \nL 5969 4581 \nL 4713 0 \nL 4128 0 \nL 3163 3491 \nQ 3041 3928 3019 4028 \nQ 2947 3713 2884 3491 \nL 1913 0 \nL 1294 0 \nz\n\" transform=\"scale(0.015625)\"/>\n       <path id=\"ArialMT-53\" d=\"M 288 1472 \nL 859 1522 \nQ 900 1178 1048 958 \nQ 1197 738 1509 602 \nQ 1822 466 2213 466 \nQ 2559 466 2825 569 \nQ 3091 672 3220 851 \nQ 3350 1031 3350 1244 \nQ 3350 1459 3225 1620 \nQ 3100 1781 2813 1891 \nQ 2628 1963 1997 2114 \nQ 1366 2266 1113 2400 \nQ 784 2572 623 2826 \nQ 463 3081 463 3397 \nQ 463 3744 659 4045 \nQ 856 4347 1234 4503 \nQ 1613 4659 2075 4659 \nQ 2584 4659 2973 4495 \nQ 3363 4331 3572 4012 \nQ 3781 3694 3797 3291 \nL 3216 3247 \nQ 3169 3681 2898 3903 \nQ 2628 4125 2100 4125 \nQ 1550 4125 1298 3923 \nQ 1047 3722 1047 3438 \nQ 1047 3191 1225 3031 \nQ 1400 2872 2139 2705 \nQ 2878 2538 3153 2413 \nQ 3553 2228 3743 1945 \nQ 3934 1663 3934 1294 \nQ 3934 928 3725 604 \nQ 3516 281 3123 101 \nQ 2731 -78 2241 -78 \nQ 1619 -78 1198 103 \nQ 778 284 539 648 \nQ 300 1013 288 1472 \nz\n\" transform=\"scale(0.015625)\"/>\n      </defs>\n      <use xlink:href=\"#ArialMT-4d\"/>\n      <use xlink:href=\"#ArialMT-57\" x=\"83.300781\"/>\n      <use xlink:href=\"#ArialMT-53\" x=\"177.685547\"/>\n     </g>\n    </g>\n   </g>\n  </g>\n </g>\n <defs>\n  <clipPath id=\"p74397dc860\">\n   <rect x=\"59.339063\" y=\"7.2\" width=\"390.6\" height=\"217.44\"/>\n  </clipPath>\n </defs>\n</svg>\n",
      "text/plain": [
       "<Figure size 504x288 with 1 Axes>"
      ]
     },
     "metadata": {},
     "output_type": "display_data"
    }
   ],
   "source": [
    "f, ax = plt.subplots(figsize=(7,4))\n",
    "sns.kdeplot(drop_outliers(eap.n_char), shade=True, color=\"r\");\n",
    "sns.kdeplot(drop_outliers(hpl.n_char), shade=True, color=\"g\");\n",
    "sns.kdeplot(drop_outliers(mws.n_char), shade=True, color=\"b\");\n",
    "ax.legend(labels=['EAP', 'HPL', 'MWS']);"
   ]
  },
  {
   "cell_type": "markdown",
   "id": "8bf7ddbc",
   "metadata": {},
   "source": [
    "HPL sentences seem a bit longer than the rest, EAP's a bit shorter. This feature might be useful in helping us distinguish the authors."
   ]
  },
  {
   "cell_type": "markdown",
   "id": "74d31707",
   "metadata": {},
   "source": [
    "### Punctuation"
   ]
  },
  {
   "cell_type": "code",
   "execution_count": 21,
   "id": "4a85b340",
   "metadata": {
    "scrolled": true
   },
   "outputs": [
    {
     "data": {
      "image/svg+xml": "<?xml version=\"1.0\" encoding=\"utf-8\" standalone=\"no\"?>\n<!DOCTYPE svg PUBLIC \"-//W3C//DTD SVG 1.1//EN\"\n  \"http://www.w3.org/Graphics/SVG/1.1/DTD/svg11.dtd\">\n<svg xmlns:xlink=\"http://www.w3.org/1999/xlink\" width=\"444.905pt\" height=\"266.374219pt\" viewBox=\"0 0 444.905 266.374219\" xmlns=\"http://www.w3.org/2000/svg\" version=\"1.1\">\n <metadata>\n  <rdf:RDF xmlns:dc=\"http://purl.org/dc/elements/1.1/\" xmlns:cc=\"http://creativecommons.org/ns#\" xmlns:rdf=\"http://www.w3.org/1999/02/22-rdf-syntax-ns#\">\n   <cc:Work>\n    <dc:type rdf:resource=\"http://purl.org/dc/dcmitype/StillImage\"/>\n    <dc:date>2022-12-26T20:37:01.200069</dc:date>\n    <dc:format>image/svg+xml</dc:format>\n    <dc:creator>\n     <cc:Agent>\n      <dc:title>Matplotlib v3.5.1, https://matplotlib.org/</dc:title>\n     </cc:Agent>\n    </dc:creator>\n   </cc:Work>\n  </rdf:RDF>\n </metadata>\n <defs>\n  <style type=\"text/css\">*{stroke-linejoin: round; stroke-linecap: butt}</style>\n </defs>\n <g id=\"figure_1\">\n  <g id=\"patch_1\">\n   <path d=\"M 0 266.374219 \nL 444.905 266.374219 \nL 444.905 0 \nL 0 0 \nz\n\" style=\"fill: #ffffff\"/>\n  </g>\n  <g id=\"axes_1\">\n   <g id=\"patch_2\">\n    <path d=\"M 47.105 224.64 \nL 437.705 224.64 \nL 437.705 7.2 \nL 47.105 7.2 \nz\n\" style=\"fill: #eaeaf2\"/>\n   </g>\n   <g id=\"matplotlib.axis_1\">\n    <g id=\"xtick_1\">\n     <g id=\"line2d_1\">\n      <path d=\"M 92.8283 224.64 \nL 92.8283 7.2 \n\" clip-path=\"url(#pe6a1955e44)\" style=\"fill: none; stroke: #ffffff; stroke-linecap: round\"/>\n     </g>\n     <g id=\"text_1\">\n      <!-- 0 -->\n      <g style=\"fill: #262626\" transform=\"translate(89.769785 242.013594)scale(0.11 -0.11)\">\n       <defs>\n        <path id=\"ArialMT-30\" d=\"M 266 2259 \nQ 266 3072 433 3567 \nQ 600 4063 929 4331 \nQ 1259 4600 1759 4600 \nQ 2128 4600 2406 4451 \nQ 2684 4303 2865 4023 \nQ 3047 3744 3150 3342 \nQ 3253 2941 3253 2259 \nQ 3253 1453 3087 958 \nQ 2922 463 2592 192 \nQ 2263 -78 1759 -78 \nQ 1097 -78 719 397 \nQ 266 969 266 2259 \nz\nM 844 2259 \nQ 844 1131 1108 757 \nQ 1372 384 1759 384 \nQ 2147 384 2411 759 \nQ 2675 1134 2675 2259 \nQ 2675 3391 2411 3762 \nQ 2147 4134 1753 4134 \nQ 1366 4134 1134 3806 \nQ 844 3388 844 2259 \nz\n\" transform=\"scale(0.015625)\"/>\n       </defs>\n       <use xlink:href=\"#ArialMT-30\"/>\n      </g>\n     </g>\n    </g>\n    <g id=\"xtick_2\">\n     <g id=\"line2d_2\">\n      <path d=\"M 138.620642 224.64 \nL 138.620642 7.2 \n\" clip-path=\"url(#pe6a1955e44)\" style=\"fill: none; stroke: #ffffff; stroke-linecap: round\"/>\n     </g>\n     <g id=\"text_2\">\n      <!-- 2 -->\n      <g style=\"fill: #262626\" transform=\"translate(135.562127 242.013594)scale(0.11 -0.11)\">\n       <defs>\n        <path id=\"ArialMT-32\" d=\"M 3222 541 \nL 3222 0 \nL 194 0 \nQ 188 203 259 391 \nQ 375 700 629 1000 \nQ 884 1300 1366 1694 \nQ 2113 2306 2375 2664 \nQ 2638 3022 2638 3341 \nQ 2638 3675 2398 3904 \nQ 2159 4134 1775 4134 \nQ 1369 4134 1125 3890 \nQ 881 3647 878 3216 \nL 300 3275 \nQ 359 3922 746 4261 \nQ 1134 4600 1788 4600 \nQ 2447 4600 2831 4234 \nQ 3216 3869 3216 3328 \nQ 3216 3053 3103 2787 \nQ 2991 2522 2730 2228 \nQ 2469 1934 1863 1422 \nQ 1356 997 1212 845 \nQ 1069 694 975 541 \nL 3222 541 \nz\n\" transform=\"scale(0.015625)\"/>\n       </defs>\n       <use xlink:href=\"#ArialMT-32\"/>\n      </g>\n     </g>\n    </g>\n    <g id=\"xtick_3\">\n     <g id=\"line2d_3\">\n      <path d=\"M 184.412985 224.64 \nL 184.412985 7.2 \n\" clip-path=\"url(#pe6a1955e44)\" style=\"fill: none; stroke: #ffffff; stroke-linecap: round\"/>\n     </g>\n     <g id=\"text_3\">\n      <!-- 4 -->\n      <g style=\"fill: #262626\" transform=\"translate(181.354469 242.013594)scale(0.11 -0.11)\">\n       <defs>\n        <path id=\"ArialMT-34\" d=\"M 2069 0 \nL 2069 1097 \nL 81 1097 \nL 81 1613 \nL 2172 4581 \nL 2631 4581 \nL 2631 1613 \nL 3250 1613 \nL 3250 1097 \nL 2631 1097 \nL 2631 0 \nL 2069 0 \nz\nM 2069 1613 \nL 2069 3678 \nL 634 1613 \nL 2069 1613 \nz\n\" transform=\"scale(0.015625)\"/>\n       </defs>\n       <use xlink:href=\"#ArialMT-34\"/>\n      </g>\n     </g>\n    </g>\n    <g id=\"xtick_4\">\n     <g id=\"line2d_4\">\n      <path d=\"M 230.205327 224.64 \nL 230.205327 7.2 \n\" clip-path=\"url(#pe6a1955e44)\" style=\"fill: none; stroke: #ffffff; stroke-linecap: round\"/>\n     </g>\n     <g id=\"text_4\">\n      <!-- 6 -->\n      <g style=\"fill: #262626\" transform=\"translate(227.146811 242.013594)scale(0.11 -0.11)\">\n       <defs>\n        <path id=\"ArialMT-36\" d=\"M 3184 3459 \nL 2625 3416 \nQ 2550 3747 2413 3897 \nQ 2184 4138 1850 4138 \nQ 1581 4138 1378 3988 \nQ 1113 3794 959 3422 \nQ 806 3050 800 2363 \nQ 1003 2672 1297 2822 \nQ 1591 2972 1913 2972 \nQ 2475 2972 2870 2558 \nQ 3266 2144 3266 1488 \nQ 3266 1056 3080 686 \nQ 2894 316 2569 119 \nQ 2244 -78 1831 -78 \nQ 1128 -78 684 439 \nQ 241 956 241 2144 \nQ 241 3472 731 4075 \nQ 1159 4600 1884 4600 \nQ 2425 4600 2770 4297 \nQ 3116 3994 3184 3459 \nz\nM 888 1484 \nQ 888 1194 1011 928 \nQ 1134 663 1356 523 \nQ 1578 384 1822 384 \nQ 2178 384 2434 671 \nQ 2691 959 2691 1453 \nQ 2691 1928 2437 2201 \nQ 2184 2475 1800 2475 \nQ 1419 2475 1153 2201 \nQ 888 1928 888 1484 \nz\n\" transform=\"scale(0.015625)\"/>\n       </defs>\n       <use xlink:href=\"#ArialMT-36\"/>\n      </g>\n     </g>\n    </g>\n    <g id=\"xtick_5\">\n     <g id=\"line2d_5\">\n      <path d=\"M 275.997669 224.64 \nL 275.997669 7.2 \n\" clip-path=\"url(#pe6a1955e44)\" style=\"fill: none; stroke: #ffffff; stroke-linecap: round\"/>\n     </g>\n     <g id=\"text_5\">\n      <!-- 8 -->\n      <g style=\"fill: #262626\" transform=\"translate(272.939153 242.013594)scale(0.11 -0.11)\">\n       <defs>\n        <path id=\"ArialMT-38\" d=\"M 1131 2484 \nQ 781 2613 612 2850 \nQ 444 3088 444 3419 \nQ 444 3919 803 4259 \nQ 1163 4600 1759 4600 \nQ 2359 4600 2725 4251 \nQ 3091 3903 3091 3403 \nQ 3091 3084 2923 2848 \nQ 2756 2613 2416 2484 \nQ 2838 2347 3058 2040 \nQ 3278 1734 3278 1309 \nQ 3278 722 2862 322 \nQ 2447 -78 1769 -78 \nQ 1091 -78 675 323 \nQ 259 725 259 1325 \nQ 259 1772 486 2073 \nQ 713 2375 1131 2484 \nz\nM 1019 3438 \nQ 1019 3113 1228 2906 \nQ 1438 2700 1772 2700 \nQ 2097 2700 2305 2904 \nQ 2513 3109 2513 3406 \nQ 2513 3716 2298 3927 \nQ 2084 4138 1766 4138 \nQ 1444 4138 1231 3931 \nQ 1019 3725 1019 3438 \nz\nM 838 1322 \nQ 838 1081 952 856 \nQ 1066 631 1291 507 \nQ 1516 384 1775 384 \nQ 2178 384 2440 643 \nQ 2703 903 2703 1303 \nQ 2703 1709 2433 1975 \nQ 2163 2241 1756 2241 \nQ 1359 2241 1098 1978 \nQ 838 1716 838 1322 \nz\n\" transform=\"scale(0.015625)\"/>\n       </defs>\n       <use xlink:href=\"#ArialMT-38\"/>\n      </g>\n     </g>\n    </g>\n    <g id=\"xtick_6\">\n     <g id=\"line2d_6\">\n      <path d=\"M 321.790011 224.64 \nL 321.790011 7.2 \n\" clip-path=\"url(#pe6a1955e44)\" style=\"fill: none; stroke: #ffffff; stroke-linecap: round\"/>\n     </g>\n     <g id=\"text_6\">\n      <!-- 10 -->\n      <g style=\"fill: #262626\" transform=\"translate(315.67298 242.013594)scale(0.11 -0.11)\">\n       <defs>\n        <path id=\"ArialMT-31\" d=\"M 2384 0 \nL 1822 0 \nL 1822 3584 \nQ 1619 3391 1289 3197 \nQ 959 3003 697 2906 \nL 697 3450 \nQ 1169 3672 1522 3987 \nQ 1875 4303 2022 4600 \nL 2384 4600 \nL 2384 0 \nz\n\" transform=\"scale(0.015625)\"/>\n       </defs>\n       <use xlink:href=\"#ArialMT-31\"/>\n       <use xlink:href=\"#ArialMT-30\" x=\"55.615234\"/>\n      </g>\n     </g>\n    </g>\n    <g id=\"xtick_7\">\n     <g id=\"line2d_7\">\n      <path d=\"M 367.582353 224.64 \nL 367.582353 7.2 \n\" clip-path=\"url(#pe6a1955e44)\" style=\"fill: none; stroke: #ffffff; stroke-linecap: round\"/>\n     </g>\n     <g id=\"text_7\">\n      <!-- 12 -->\n      <g style=\"fill: #262626\" transform=\"translate(361.465322 242.013594)scale(0.11 -0.11)\">\n       <use xlink:href=\"#ArialMT-31\"/>\n       <use xlink:href=\"#ArialMT-32\" x=\"55.615234\"/>\n      </g>\n     </g>\n    </g>\n    <g id=\"xtick_8\">\n     <g id=\"line2d_8\">\n      <path d=\"M 413.374695 224.64 \nL 413.374695 7.2 \n\" clip-path=\"url(#pe6a1955e44)\" style=\"fill: none; stroke: #ffffff; stroke-linecap: round\"/>\n     </g>\n     <g id=\"text_8\">\n      <!-- 14 -->\n      <g style=\"fill: #262626\" transform=\"translate(407.257664 242.013594)scale(0.11 -0.11)\">\n       <use xlink:href=\"#ArialMT-31\"/>\n       <use xlink:href=\"#ArialMT-34\" x=\"55.615234\"/>\n      </g>\n     </g>\n    </g>\n    <g id=\"text_9\">\n     <!-- n_punct -->\n     <g style=\"fill: #262626\" transform=\"translate(221.055313 256.789219)scale(0.12 -0.12)\">\n      <defs>\n       <path id=\"ArialMT-6e\" d=\"M 422 0 \nL 422 3319 \nL 928 3319 \nL 928 2847 \nQ 1294 3394 1984 3394 \nQ 2284 3394 2536 3286 \nQ 2788 3178 2913 3003 \nQ 3038 2828 3088 2588 \nQ 3119 2431 3119 2041 \nL 3119 0 \nL 2556 0 \nL 2556 2019 \nQ 2556 2363 2490 2533 \nQ 2425 2703 2258 2804 \nQ 2091 2906 1866 2906 \nQ 1506 2906 1245 2678 \nQ 984 2450 984 1813 \nL 984 0 \nL 422 0 \nz\n\" transform=\"scale(0.015625)\"/>\n       <path id=\"ArialMT-5f\" d=\"M -97 -1272 \nL -97 -866 \nL 3631 -866 \nL 3631 -1272 \nL -97 -1272 \nz\n\" transform=\"scale(0.015625)\"/>\n       <path id=\"ArialMT-70\" d=\"M 422 -1272 \nL 422 3319 \nL 934 3319 \nL 934 2888 \nQ 1116 3141 1344 3267 \nQ 1572 3394 1897 3394 \nQ 2322 3394 2647 3175 \nQ 2972 2956 3137 2557 \nQ 3303 2159 3303 1684 \nQ 3303 1175 3120 767 \nQ 2938 359 2589 142 \nQ 2241 -75 1856 -75 \nQ 1575 -75 1351 44 \nQ 1128 163 984 344 \nL 984 -1272 \nL 422 -1272 \nz\nM 931 1641 \nQ 931 1000 1190 694 \nQ 1450 388 1819 388 \nQ 2194 388 2461 705 \nQ 2728 1022 2728 1688 \nQ 2728 2322 2467 2637 \nQ 2206 2953 1844 2953 \nQ 1484 2953 1207 2617 \nQ 931 2281 931 1641 \nz\n\" transform=\"scale(0.015625)\"/>\n       <path id=\"ArialMT-75\" d=\"M 2597 0 \nL 2597 488 \nQ 2209 -75 1544 -75 \nQ 1250 -75 995 37 \nQ 741 150 617 320 \nQ 494 491 444 738 \nQ 409 903 409 1263 \nL 409 3319 \nL 972 3319 \nL 972 1478 \nQ 972 1038 1006 884 \nQ 1059 663 1231 536 \nQ 1403 409 1656 409 \nQ 1909 409 2131 539 \nQ 2353 669 2445 892 \nQ 2538 1116 2538 1541 \nL 2538 3319 \nL 3100 3319 \nL 3100 0 \nL 2597 0 \nz\n\" transform=\"scale(0.015625)\"/>\n       <path id=\"ArialMT-63\" d=\"M 2588 1216 \nL 3141 1144 \nQ 3050 572 2676 248 \nQ 2303 -75 1759 -75 \nQ 1078 -75 664 370 \nQ 250 816 250 1647 \nQ 250 2184 428 2587 \nQ 606 2991 970 3192 \nQ 1334 3394 1763 3394 \nQ 2303 3394 2647 3120 \nQ 2991 2847 3088 2344 \nL 2541 2259 \nQ 2463 2594 2264 2762 \nQ 2066 2931 1784 2931 \nQ 1359 2931 1093 2626 \nQ 828 2322 828 1663 \nQ 828 994 1084 691 \nQ 1341 388 1753 388 \nQ 2084 388 2306 591 \nQ 2528 794 2588 1216 \nz\n\" transform=\"scale(0.015625)\"/>\n       <path id=\"ArialMT-74\" d=\"M 1650 503 \nL 1731 6 \nQ 1494 -44 1306 -44 \nQ 1000 -44 831 53 \nQ 663 150 594 308 \nQ 525 466 525 972 \nL 525 2881 \nL 113 2881 \nL 113 3319 \nL 525 3319 \nL 525 4141 \nL 1084 4478 \nL 1084 3319 \nL 1650 3319 \nL 1650 2881 \nL 1084 2881 \nL 1084 941 \nQ 1084 700 1114 631 \nQ 1144 563 1211 522 \nQ 1278 481 1403 481 \nQ 1497 481 1650 503 \nz\n\" transform=\"scale(0.015625)\"/>\n      </defs>\n      <use xlink:href=\"#ArialMT-6e\"/>\n      <use xlink:href=\"#ArialMT-5f\" x=\"55.615234\"/>\n      <use xlink:href=\"#ArialMT-70\" x=\"111.230469\"/>\n      <use xlink:href=\"#ArialMT-75\" x=\"166.845703\"/>\n      <use xlink:href=\"#ArialMT-6e\" x=\"222.460938\"/>\n      <use xlink:href=\"#ArialMT-63\" x=\"278.076172\"/>\n      <use xlink:href=\"#ArialMT-74\" x=\"328.076172\"/>\n     </g>\n    </g>\n   </g>\n   <g id=\"matplotlib.axis_2\">\n    <g id=\"ytick_1\">\n     <g id=\"line2d_9\">\n      <path d=\"M 47.105 224.64 \nL 437.705 224.64 \n\" clip-path=\"url(#pe6a1955e44)\" style=\"fill: none; stroke: #ffffff; stroke-linecap: round\"/>\n     </g>\n     <g id=\"text_10\">\n      <!-- 0.0 -->\n      <g style=\"fill: #262626\" transform=\"translate(22.315 228.576797)scale(0.11 -0.11)\">\n       <defs>\n        <path id=\"ArialMT-2e\" d=\"M 581 0 \nL 581 641 \nL 1222 641 \nL 1222 0 \nL 581 0 \nz\n\" transform=\"scale(0.015625)\"/>\n       </defs>\n       <use xlink:href=\"#ArialMT-30\"/>\n       <use xlink:href=\"#ArialMT-2e\" x=\"55.615234\"/>\n       <use xlink:href=\"#ArialMT-30\" x=\"83.398438\"/>\n      </g>\n     </g>\n    </g>\n    <g id=\"ytick_2\">\n     <g id=\"line2d_10\">\n      <path d=\"M 47.105 185.398438 \nL 437.705 185.398438 \n\" clip-path=\"url(#pe6a1955e44)\" style=\"fill: none; stroke: #ffffff; stroke-linecap: round\"/>\n     </g>\n     <g id=\"text_11\">\n      <!-- 0.1 -->\n      <g style=\"fill: #262626\" transform=\"translate(22.315 189.335235)scale(0.11 -0.11)\">\n       <use xlink:href=\"#ArialMT-30\"/>\n       <use xlink:href=\"#ArialMT-2e\" x=\"55.615234\"/>\n       <use xlink:href=\"#ArialMT-31\" x=\"83.398438\"/>\n      </g>\n     </g>\n    </g>\n    <g id=\"ytick_3\">\n     <g id=\"line2d_11\">\n      <path d=\"M 47.105 146.156876 \nL 437.705 146.156876 \n\" clip-path=\"url(#pe6a1955e44)\" style=\"fill: none; stroke: #ffffff; stroke-linecap: round\"/>\n     </g>\n     <g id=\"text_12\">\n      <!-- 0.2 -->\n      <g style=\"fill: #262626\" transform=\"translate(22.315 150.093673)scale(0.11 -0.11)\">\n       <use xlink:href=\"#ArialMT-30\"/>\n       <use xlink:href=\"#ArialMT-2e\" x=\"55.615234\"/>\n       <use xlink:href=\"#ArialMT-32\" x=\"83.398438\"/>\n      </g>\n     </g>\n    </g>\n    <g id=\"ytick_4\">\n     <g id=\"line2d_12\">\n      <path d=\"M 47.105 106.915314 \nL 437.705 106.915314 \n\" clip-path=\"url(#pe6a1955e44)\" style=\"fill: none; stroke: #ffffff; stroke-linecap: round\"/>\n     </g>\n     <g id=\"text_13\">\n      <!-- 0.3 -->\n      <g style=\"fill: #262626\" transform=\"translate(22.315 110.852111)scale(0.11 -0.11)\">\n       <defs>\n        <path id=\"ArialMT-33\" d=\"M 269 1209 \nL 831 1284 \nQ 928 806 1161 595 \nQ 1394 384 1728 384 \nQ 2125 384 2398 659 \nQ 2672 934 2672 1341 \nQ 2672 1728 2419 1979 \nQ 2166 2231 1775 2231 \nQ 1616 2231 1378 2169 \nL 1441 2663 \nQ 1497 2656 1531 2656 \nQ 1891 2656 2178 2843 \nQ 2466 3031 2466 3422 \nQ 2466 3731 2256 3934 \nQ 2047 4138 1716 4138 \nQ 1388 4138 1169 3931 \nQ 950 3725 888 3313 \nL 325 3413 \nQ 428 3978 793 4289 \nQ 1159 4600 1703 4600 \nQ 2078 4600 2393 4439 \nQ 2709 4278 2876 4000 \nQ 3044 3722 3044 3409 \nQ 3044 3113 2884 2869 \nQ 2725 2625 2413 2481 \nQ 2819 2388 3044 2092 \nQ 3269 1797 3269 1353 \nQ 3269 753 2831 336 \nQ 2394 -81 1725 -81 \nQ 1122 -81 723 278 \nQ 325 638 269 1209 \nz\n\" transform=\"scale(0.015625)\"/>\n       </defs>\n       <use xlink:href=\"#ArialMT-30\"/>\n       <use xlink:href=\"#ArialMT-2e\" x=\"55.615234\"/>\n       <use xlink:href=\"#ArialMT-33\" x=\"83.398438\"/>\n      </g>\n     </g>\n    </g>\n    <g id=\"ytick_5\">\n     <g id=\"line2d_13\">\n      <path d=\"M 47.105 67.673752 \nL 437.705 67.673752 \n\" clip-path=\"url(#pe6a1955e44)\" style=\"fill: none; stroke: #ffffff; stroke-linecap: round\"/>\n     </g>\n     <g id=\"text_14\">\n      <!-- 0.4 -->\n      <g style=\"fill: #262626\" transform=\"translate(22.315 71.610549)scale(0.11 -0.11)\">\n       <use xlink:href=\"#ArialMT-30\"/>\n       <use xlink:href=\"#ArialMT-2e\" x=\"55.615234\"/>\n       <use xlink:href=\"#ArialMT-34\" x=\"83.398438\"/>\n      </g>\n     </g>\n    </g>\n    <g id=\"ytick_6\">\n     <g id=\"line2d_14\">\n      <path d=\"M 47.105 28.432191 \nL 437.705 28.432191 \n\" clip-path=\"url(#pe6a1955e44)\" style=\"fill: none; stroke: #ffffff; stroke-linecap: round\"/>\n     </g>\n     <g id=\"text_15\">\n      <!-- 0.5 -->\n      <g style=\"fill: #262626\" transform=\"translate(22.315 32.368987)scale(0.11 -0.11)\">\n       <defs>\n        <path id=\"ArialMT-35\" d=\"M 266 1200 \nL 856 1250 \nQ 922 819 1161 601 \nQ 1400 384 1738 384 \nQ 2144 384 2425 690 \nQ 2706 997 2706 1503 \nQ 2706 1984 2436 2262 \nQ 2166 2541 1728 2541 \nQ 1456 2541 1237 2417 \nQ 1019 2294 894 2097 \nL 366 2166 \nL 809 4519 \nL 3088 4519 \nL 3088 3981 \nL 1259 3981 \nL 1013 2750 \nQ 1425 3038 1878 3038 \nQ 2478 3038 2890 2622 \nQ 3303 2206 3303 1553 \nQ 3303 931 2941 478 \nQ 2500 -78 1738 -78 \nQ 1113 -78 717 272 \nQ 322 622 266 1200 \nz\n\" transform=\"scale(0.015625)\"/>\n       </defs>\n       <use xlink:href=\"#ArialMT-30\"/>\n       <use xlink:href=\"#ArialMT-2e\" x=\"55.615234\"/>\n       <use xlink:href=\"#ArialMT-35\" x=\"83.398438\"/>\n      </g>\n     </g>\n    </g>\n    <g id=\"text_16\">\n     <!-- Density -->\n     <g style=\"fill: #262626\" transform=\"translate(15.789375 135.92625)rotate(-90)scale(0.12 -0.12)\">\n      <defs>\n       <path id=\"ArialMT-44\" d=\"M 494 0 \nL 494 4581 \nL 2072 4581 \nQ 2606 4581 2888 4516 \nQ 3281 4425 3559 4188 \nQ 3922 3881 4101 3404 \nQ 4281 2928 4281 2316 \nQ 4281 1794 4159 1391 \nQ 4038 988 3847 723 \nQ 3656 459 3429 307 \nQ 3203 156 2883 78 \nQ 2563 0 2147 0 \nL 494 0 \nz\nM 1100 541 \nL 2078 541 \nQ 2531 541 2789 625 \nQ 3047 709 3200 863 \nQ 3416 1078 3536 1442 \nQ 3656 1806 3656 2325 \nQ 3656 3044 3420 3430 \nQ 3184 3816 2847 3947 \nQ 2603 4041 2063 4041 \nL 1100 4041 \nL 1100 541 \nz\n\" transform=\"scale(0.015625)\"/>\n       <path id=\"ArialMT-65\" d=\"M 2694 1069 \nL 3275 997 \nQ 3138 488 2766 206 \nQ 2394 -75 1816 -75 \nQ 1088 -75 661 373 \nQ 234 822 234 1631 \nQ 234 2469 665 2931 \nQ 1097 3394 1784 3394 \nQ 2450 3394 2872 2941 \nQ 3294 2488 3294 1666 \nQ 3294 1616 3291 1516 \nL 816 1516 \nQ 847 969 1125 678 \nQ 1403 388 1819 388 \nQ 2128 388 2347 550 \nQ 2566 713 2694 1069 \nz\nM 847 1978 \nL 2700 1978 \nQ 2663 2397 2488 2606 \nQ 2219 2931 1791 2931 \nQ 1403 2931 1139 2672 \nQ 875 2413 847 1978 \nz\n\" transform=\"scale(0.015625)\"/>\n       <path id=\"ArialMT-73\" d=\"M 197 991 \nL 753 1078 \nQ 800 744 1014 566 \nQ 1228 388 1613 388 \nQ 2000 388 2187 545 \nQ 2375 703 2375 916 \nQ 2375 1106 2209 1216 \nQ 2094 1291 1634 1406 \nQ 1016 1563 777 1677 \nQ 538 1791 414 1992 \nQ 291 2194 291 2438 \nQ 291 2659 392 2848 \nQ 494 3038 669 3163 \nQ 800 3259 1026 3326 \nQ 1253 3394 1513 3394 \nQ 1903 3394 2198 3281 \nQ 2494 3169 2634 2976 \nQ 2775 2784 2828 2463 \nL 2278 2388 \nQ 2241 2644 2061 2787 \nQ 1881 2931 1553 2931 \nQ 1166 2931 1000 2803 \nQ 834 2675 834 2503 \nQ 834 2394 903 2306 \nQ 972 2216 1119 2156 \nQ 1203 2125 1616 2013 \nQ 2213 1853 2448 1751 \nQ 2684 1650 2818 1456 \nQ 2953 1263 2953 975 \nQ 2953 694 2789 445 \nQ 2625 197 2315 61 \nQ 2006 -75 1616 -75 \nQ 969 -75 630 194 \nQ 291 463 197 991 \nz\n\" transform=\"scale(0.015625)\"/>\n       <path id=\"ArialMT-69\" d=\"M 425 3934 \nL 425 4581 \nL 988 4581 \nL 988 3934 \nL 425 3934 \nz\nM 425 0 \nL 425 3319 \nL 988 3319 \nL 988 0 \nL 425 0 \nz\n\" transform=\"scale(0.015625)\"/>\n       <path id=\"ArialMT-79\" d=\"M 397 -1278 \nL 334 -750 \nQ 519 -800 656 -800 \nQ 844 -800 956 -737 \nQ 1069 -675 1141 -563 \nQ 1194 -478 1313 -144 \nQ 1328 -97 1363 -6 \nL 103 3319 \nL 709 3319 \nL 1400 1397 \nQ 1534 1031 1641 628 \nQ 1738 1016 1872 1384 \nL 2581 3319 \nL 3144 3319 \nL 1881 -56 \nQ 1678 -603 1566 -809 \nQ 1416 -1088 1222 -1217 \nQ 1028 -1347 759 -1347 \nQ 597 -1347 397 -1278 \nz\n\" transform=\"scale(0.015625)\"/>\n      </defs>\n      <use xlink:href=\"#ArialMT-44\"/>\n      <use xlink:href=\"#ArialMT-65\" x=\"72.216797\"/>\n      <use xlink:href=\"#ArialMT-6e\" x=\"127.832031\"/>\n      <use xlink:href=\"#ArialMT-73\" x=\"183.447266\"/>\n      <use xlink:href=\"#ArialMT-69\" x=\"233.447266\"/>\n      <use xlink:href=\"#ArialMT-74\" x=\"255.664062\"/>\n      <use xlink:href=\"#ArialMT-79\" x=\"283.447266\"/>\n     </g>\n    </g>\n   </g>\n   <g id=\"PolyCollection_1\">\n    <defs>\n     <path id=\"m295c2a4416\" d=\"M 86.252541 -42.641776 \nL 86.252541 -41.734219 \nL 87.929415 -41.734219 \nL 89.606289 -41.734219 \nL 91.283163 -41.734219 \nL 92.960037 -41.734219 \nL 94.636911 -41.734219 \nL 96.313785 -41.734219 \nL 97.990659 -41.734219 \nL 99.667533 -41.734219 \nL 101.344406 -41.734219 \nL 103.02128 -41.734219 \nL 104.698154 -41.734219 \nL 106.375028 -41.734219 \nL 108.051902 -41.734219 \nL 109.728776 -41.734219 \nL 111.40565 -41.734219 \nL 113.082524 -41.734219 \nL 114.759398 -41.734219 \nL 116.436272 -41.734219 \nL 118.113146 -41.734219 \nL 119.79002 -41.734219 \nL 121.466894 -41.734219 \nL 123.143768 -41.734219 \nL 124.820642 -41.734219 \nL 126.497516 -41.734219 \nL 128.174389 -41.734219 \nL 129.851263 -41.734219 \nL 131.528137 -41.734219 \nL 133.205011 -41.734219 \nL 134.881885 -41.734219 \nL 136.558759 -41.734219 \nL 138.235633 -41.734219 \nL 139.912507 -41.734219 \nL 141.589381 -41.734219 \nL 143.266255 -41.734219 \nL 144.943129 -41.734219 \nL 146.620003 -41.734219 \nL 148.296877 -41.734219 \nL 149.973751 -41.734219 \nL 151.650625 -41.734219 \nL 153.327499 -41.734219 \nL 155.004372 -41.734219 \nL 156.681246 -41.734219 \nL 158.35812 -41.734219 \nL 160.034994 -41.734219 \nL 161.711868 -41.734219 \nL 163.388742 -41.734219 \nL 165.065616 -41.734219 \nL 166.74249 -41.734219 \nL 168.419364 -41.734219 \nL 170.096238 -41.734219 \nL 171.773112 -41.734219 \nL 173.449986 -41.734219 \nL 175.12686 -41.734219 \nL 176.803734 -41.734219 \nL 178.480608 -41.734219 \nL 180.157482 -41.734219 \nL 181.834355 -41.734219 \nL 183.511229 -41.734219 \nL 185.188103 -41.734219 \nL 186.864977 -41.734219 \nL 188.541851 -41.734219 \nL 190.218725 -41.734219 \nL 191.895599 -41.734219 \nL 193.572473 -41.734219 \nL 195.249347 -41.734219 \nL 196.926221 -41.734219 \nL 198.603095 -41.734219 \nL 200.279969 -41.734219 \nL 201.956843 -41.734219 \nL 203.633717 -41.734219 \nL 205.310591 -41.734219 \nL 206.987465 -41.734219 \nL 208.664338 -41.734219 \nL 210.341212 -41.734219 \nL 212.018086 -41.734219 \nL 213.69496 -41.734219 \nL 215.371834 -41.734219 \nL 217.048708 -41.734219 \nL 218.725582 -41.734219 \nL 220.402456 -41.734219 \nL 222.07933 -41.734219 \nL 223.756204 -41.734219 \nL 225.433078 -41.734219 \nL 227.109952 -41.734219 \nL 228.786826 -41.734219 \nL 230.4637 -41.734219 \nL 232.140574 -41.734219 \nL 233.817448 -41.734219 \nL 235.494321 -41.734219 \nL 237.171195 -41.734219 \nL 238.848069 -41.734219 \nL 240.524943 -41.734219 \nL 242.201817 -41.734219 \nL 243.878691 -41.734219 \nL 245.555565 -41.734219 \nL 247.232439 -41.734219 \nL 248.909313 -41.734219 \nL 250.586187 -41.734219 \nL 252.263061 -41.734219 \nL 253.939935 -41.734219 \nL 255.616809 -41.734219 \nL 257.293683 -41.734219 \nL 258.970557 -41.734219 \nL 260.647431 -41.734219 \nL 262.324304 -41.734219 \nL 264.001178 -41.734219 \nL 265.678052 -41.734219 \nL 267.354926 -41.734219 \nL 269.0318 -41.734219 \nL 270.708674 -41.734219 \nL 272.385548 -41.734219 \nL 274.062422 -41.734219 \nL 275.739296 -41.734219 \nL 277.41617 -41.734219 \nL 279.093044 -41.734219 \nL 280.769918 -41.734219 \nL 282.446792 -41.734219 \nL 284.123666 -41.734219 \nL 285.80054 -41.734219 \nL 287.477414 -41.734219 \nL 289.154287 -41.734219 \nL 290.831161 -41.734219 \nL 292.508035 -41.734219 \nL 294.184909 -41.734219 \nL 295.861783 -41.734219 \nL 297.538657 -41.734219 \nL 299.215531 -41.734219 \nL 300.892405 -41.734219 \nL 302.569279 -41.734219 \nL 304.246153 -41.734219 \nL 305.923027 -41.734219 \nL 307.599901 -41.734219 \nL 309.276775 -41.734219 \nL 310.953649 -41.734219 \nL 312.630523 -41.734219 \nL 314.307396 -41.734219 \nL 315.98427 -41.734219 \nL 317.661144 -41.734219 \nL 319.338018 -41.734219 \nL 321.014892 -41.734219 \nL 322.691766 -41.734219 \nL 324.36864 -41.734219 \nL 326.045514 -41.734219 \nL 327.722388 -41.734219 \nL 329.399262 -41.734219 \nL 331.076136 -41.734219 \nL 332.75301 -41.734219 \nL 334.429884 -41.734219 \nL 336.106758 -41.734219 \nL 337.783632 -41.734219 \nL 339.460506 -41.734219 \nL 341.137379 -41.734219 \nL 342.814253 -41.734219 \nL 344.491127 -41.734219 \nL 346.168001 -41.734219 \nL 347.844875 -41.734219 \nL 349.521749 -41.734219 \nL 351.198623 -41.734219 \nL 352.875497 -41.734219 \nL 354.552371 -41.734219 \nL 356.229245 -41.734219 \nL 357.906119 -41.734219 \nL 359.582993 -41.734219 \nL 361.259867 -41.734219 \nL 362.936741 -41.734219 \nL 364.613615 -41.734219 \nL 366.290489 -41.734219 \nL 367.967362 -41.734219 \nL 369.644236 -41.734219 \nL 371.32111 -41.734219 \nL 372.997984 -41.734219 \nL 374.674858 -41.734219 \nL 376.351732 -41.734219 \nL 378.028606 -41.734219 \nL 379.70548 -41.734219 \nL 381.382354 -41.734219 \nL 383.059228 -41.734219 \nL 384.736102 -41.734219 \nL 386.412976 -41.734219 \nL 388.08985 -41.734219 \nL 389.766724 -41.734219 \nL 391.443598 -41.734219 \nL 393.120472 -41.734219 \nL 394.797345 -41.734219 \nL 396.474219 -41.734219 \nL 398.151093 -41.734219 \nL 399.827967 -41.734219 \nL 401.504841 -41.734219 \nL 403.181715 -41.734219 \nL 404.858589 -41.734219 \nL 406.535463 -41.734219 \nL 408.212337 -41.734219 \nL 409.889211 -41.734219 \nL 411.566085 -41.734219 \nL 413.242959 -41.734219 \nL 414.919833 -41.734219 \nL 416.596707 -41.734219 \nL 418.273581 -41.734219 \nL 419.950455 -41.734219 \nL 419.950455 -41.754051 \nL 419.950455 -41.754051 \nL 418.273581 -41.766837 \nL 416.596707 -41.786327 \nL 414.919833 -41.815074 \nL 413.242959 -41.856083 \nL 411.566085 -41.912632 \nL 409.889211 -41.987948 \nL 408.212337 -42.084754 \nL 406.535463 -42.204704 \nL 404.858589 -42.34779 \nL 403.181715 -42.511833 \nL 401.504841 -42.692202 \nL 399.827967 -42.881878 \nL 398.151093 -43.071969 \nL 396.474219 -43.252678 \nL 394.797345 -43.414639 \nL 393.120472 -43.550411 \nL 391.443598 -43.655876 \nL 389.766724 -43.731216 \nL 388.08985 -43.781221 \nL 386.412976 -43.814756 \nL 384.736102 -43.843419 \nL 383.059228 -43.879547 \nL 381.382354 -43.933936 \nL 379.70548 -44.013704 \nL 378.028606 -44.120755 \nL 376.351732 -44.251197 \nL 374.674858 -44.395914 \nL 372.997984 -44.542237 \nL 371.32111 -44.676457 \nL 369.644236 -44.786669 \nL 367.967362 -44.865413 \nL 366.290489 -44.911499 \nL 364.613615 -44.930612 \nL 362.936741 -44.934503 \nL 361.259867 -44.938841 \nL 359.582993 -44.960139 \nL 357.906119 -45.012352 \nL 356.229245 -45.103852 \nL 354.552371 -45.235453 \nL 352.875497 -45.399959 \nL 351.198623 -45.583404 \nL 349.521749 -45.767825 \nL 347.844875 -45.93503 \nL 346.168001 -46.07062 \nL 344.491127 -46.167407 \nL 342.814253 -46.227443 \nL 341.137379 -46.262156 \nL 339.460506 -46.290448 \nL 337.783632 -46.335034 \nL 336.106758 -46.417721 \nL 334.429884 -46.554574 \nL 332.75301 -46.75199 \nL 331.076136 -47.00459 \nL 329.399262 -47.295484 \nL 327.722388 -47.598997 \nL 326.045514 -47.885419 \nL 324.36864 -48.12689 \nL 322.691766 -48.303244 \nL 321.014892 -48.406545 \nL 319.338018 -48.443324 \nL 317.661144 -48.433892 \nL 315.98427 -48.408767 \nL 314.307396 -48.402831 \nL 312.630523 -48.448357 \nL 310.953649 -48.568352 \nL 309.276775 -48.771642 \nL 307.599901 -49.050833 \nL 305.923027 -49.383713 \nL 304.246153 -49.73796 \nL 302.569279 -50.078283 \nL 300.892405 -50.374571 \nL 299.215531 -50.60933 \nL 297.538657 -50.782703 \nL 295.861783 -50.913844 \nL 294.184909 -51.038079 \nL 292.508035 -51.200204 \nL 290.831161 -51.445091 \nL 289.154287 -51.807468 \nL 287.477414 -52.303025 \nL 285.80054 -52.922877 \nL 284.123666 -53.632817 \nL 282.446792 -54.377896 \nL 280.769918 -55.091716 \nL 279.093044 -55.708819 \nL 277.41617 -56.177738 \nL 275.739296 -56.472003 \nL 274.062422 -56.596657 \nL 272.385548 -56.588677 \nL 270.708674 -56.510871 \nL 269.0318 -56.440241 \nL 267.354926 -56.452986 \nL 265.678052 -56.609164 \nL 264.001178 -56.940196 \nL 262.324304 -57.441976 \nL 260.647431 -58.075241 \nL 258.970557 -58.773398 \nL 257.293683 -59.45645 \nL 255.616809 -60.048276 \nL 253.939935 -60.493716 \nL 252.263061 -60.771795 \nL 250.586187 -60.902057 \nL 248.909313 -60.942359 \nL 247.232439 -60.978208 \nL 245.555565 -61.105518 \nL 243.878691 -61.410215 \nL 242.201817 -61.948882 \nL 240.524943 -62.73469 \nL 238.848069 -63.731871 \nL 237.171195 -64.860398 \nL 235.494321 -66.010384 \nL 233.817448 -67.063647 \nL 232.140574 -67.918212 \nL 230.4637 -68.510655 \nL 228.786826 -68.831418 \nL 227.109952 -68.929484 \nL 225.433078 -68.904866 \nL 223.756204 -68.889967 \nL 222.07933 -69.023223 \nL 220.402456 -69.420324 \nL 218.725582 -70.149011 \nL 217.048708 -71.213022 \nL 215.371834 -72.549041 \nL 213.69496 -74.037934 \nL 212.018086 -75.528555 \nL 210.341212 -76.869635 \nL 208.664338 -77.943291 \nL 206.987465 -78.693001 \nL 205.310591 -79.139707 \nL 203.633717 -79.381894 \nL 201.956843 -79.578751 \nL 200.279969 -79.919079 \nL 198.603095 -80.581823 \nL 196.926221 -81.696243 \nL 195.249347 -83.310244 \nL 193.572473 -85.374125 \nL 191.895599 -87.744151 \nL 190.218725 -90.206317 \nL 188.541851 -92.516444 \nL 186.864977 -94.448966 \nL 185.188103 -95.844545 \nL 183.511229 -96.646309 \nL 181.834355 -96.916429 \nL 180.157482 -96.828527 \nL 178.480608 -96.636317 \nL 176.803734 -96.623972 \nL 175.12686 -97.047809 \nL 173.449986 -98.081144 \nL 171.773112 -99.773982 \nL 170.096238 -102.036548 \nL 168.419364 -104.651031 \nL 166.74249 -107.31013 \nL 165.065616 -109.675364 \nL 163.388742 -111.443674 \nL 161.711868 -112.408809 \nL 160.034994 -112.504639 \nL 158.35812 -111.821036 \nL 156.681246 -110.588488 \nL 155.004372 -109.134103 \nL 153.327499 -107.817685 \nL 151.650625 -106.960871 \nL 149.973751 -106.783905 \nL 148.296877 -107.36323 \nL 146.620003 -108.61884 \nL 144.943129 -110.334251 \nL 143.266255 -112.205163 \nL 141.589381 -113.906818 \nL 139.912507 -115.166018 \nL 138.235633 -115.822555 \nL 136.558759 -115.866779 \nL 134.881885 -115.444777 \nL 133.205011 -114.829297 \nL 131.528137 -114.361655 \nL 129.851263 -114.376043 \nL 128.174389 -115.121521 \nL 126.497516 -116.697728 \nL 124.820642 -119.017821 \nL 123.143768 -121.806757 \nL 121.466894 -124.635944 \nL 119.79002 -126.987978 \nL 118.113146 -128.339124 \nL 116.436272 -128.243807 \nL 114.759398 -126.405332 \nL 113.082524 -122.720251 \nL 111.40565 -117.289599 \nL 109.728776 -110.397091 \nL 108.051902 -102.460756 \nL 106.375028 -93.968998 \nL 104.698154 -85.413766 \nL 103.02128 -77.232426 \nL 101.344406 -69.766511 \nL 99.667533 -63.241064 \nL 97.990659 -57.763779 \nL 96.313785 -53.339802 \nL 94.636911 -49.896192 \nL 92.960037 -47.309852 \nL 91.283163 -45.433831 \nL 89.606289 -44.1186 \nL 87.929415 -43.226838 \nL 86.252541 -42.641776 \nz\n\" style=\"stroke: #c44e52\"/>\n    </defs>\n    <g clip-path=\"url(#pe6a1955e44)\">\n     <use xlink:href=\"#m295c2a4416\" x=\"0\" y=\"266.374219\" style=\"fill: #c44e52; fill-opacity: 0.25; stroke: #c44e52\"/>\n    </g>\n   </g>\n   <g id=\"PolyCollection_2\">\n    <defs>\n     <path id=\"m2d659ef82c\" d=\"M 97.456442 -42.72422 \nL 97.456442 -41.734219 \nL 98.445434 -41.734219 \nL 99.434425 -41.734219 \nL 100.423416 -41.734219 \nL 101.412407 -41.734219 \nL 102.401399 -41.734219 \nL 103.39039 -41.734219 \nL 104.379381 -41.734219 \nL 105.368372 -41.734219 \nL 106.357364 -41.734219 \nL 107.346355 -41.734219 \nL 108.335346 -41.734219 \nL 109.324337 -41.734219 \nL 110.313328 -41.734219 \nL 111.30232 -41.734219 \nL 112.291311 -41.734219 \nL 113.280302 -41.734219 \nL 114.269293 -41.734219 \nL 115.258285 -41.734219 \nL 116.247276 -41.734219 \nL 117.236267 -41.734219 \nL 118.225258 -41.734219 \nL 119.21425 -41.734219 \nL 120.203241 -41.734219 \nL 121.192232 -41.734219 \nL 122.181223 -41.734219 \nL 123.170214 -41.734219 \nL 124.159206 -41.734219 \nL 125.148197 -41.734219 \nL 126.137188 -41.734219 \nL 127.126179 -41.734219 \nL 128.115171 -41.734219 \nL 129.104162 -41.734219 \nL 130.093153 -41.734219 \nL 131.082144 -41.734219 \nL 132.071136 -41.734219 \nL 133.060127 -41.734219 \nL 134.049118 -41.734219 \nL 135.038109 -41.734219 \nL 136.027101 -41.734219 \nL 137.016092 -41.734219 \nL 138.005083 -41.734219 \nL 138.994074 -41.734219 \nL 139.983065 -41.734219 \nL 140.972057 -41.734219 \nL 141.961048 -41.734219 \nL 142.950039 -41.734219 \nL 143.93903 -41.734219 \nL 144.928022 -41.734219 \nL 145.917013 -41.734219 \nL 146.906004 -41.734219 \nL 147.894995 -41.734219 \nL 148.883987 -41.734219 \nL 149.872978 -41.734219 \nL 150.861969 -41.734219 \nL 151.85096 -41.734219 \nL 152.839951 -41.734219 \nL 153.828943 -41.734219 \nL 154.817934 -41.734219 \nL 155.806925 -41.734219 \nL 156.795916 -41.734219 \nL 157.784908 -41.734219 \nL 158.773899 -41.734219 \nL 159.76289 -41.734219 \nL 160.751881 -41.734219 \nL 161.740873 -41.734219 \nL 162.729864 -41.734219 \nL 163.718855 -41.734219 \nL 164.707846 -41.734219 \nL 165.696837 -41.734219 \nL 166.685829 -41.734219 \nL 167.67482 -41.734219 \nL 168.663811 -41.734219 \nL 169.652802 -41.734219 \nL 170.641794 -41.734219 \nL 171.630785 -41.734219 \nL 172.619776 -41.734219 \nL 173.608767 -41.734219 \nL 174.597759 -41.734219 \nL 175.58675 -41.734219 \nL 176.575741 -41.734219 \nL 177.564732 -41.734219 \nL 178.553724 -41.734219 \nL 179.542715 -41.734219 \nL 180.531706 -41.734219 \nL 181.520697 -41.734219 \nL 182.509688 -41.734219 \nL 183.49868 -41.734219 \nL 184.487671 -41.734219 \nL 185.476662 -41.734219 \nL 186.465653 -41.734219 \nL 187.454645 -41.734219 \nL 188.443636 -41.734219 \nL 189.432627 -41.734219 \nL 190.421618 -41.734219 \nL 191.41061 -41.734219 \nL 192.399601 -41.734219 \nL 193.388592 -41.734219 \nL 194.377583 -41.734219 \nL 195.366574 -41.734219 \nL 196.355566 -41.734219 \nL 197.344557 -41.734219 \nL 198.333548 -41.734219 \nL 199.322539 -41.734219 \nL 200.311531 -41.734219 \nL 201.300522 -41.734219 \nL 202.289513 -41.734219 \nL 203.278504 -41.734219 \nL 204.267496 -41.734219 \nL 205.256487 -41.734219 \nL 206.245478 -41.734219 \nL 207.234469 -41.734219 \nL 208.22346 -41.734219 \nL 209.212452 -41.734219 \nL 210.201443 -41.734219 \nL 211.190434 -41.734219 \nL 212.179425 -41.734219 \nL 213.168417 -41.734219 \nL 214.157408 -41.734219 \nL 215.146399 -41.734219 \nL 216.13539 -41.734219 \nL 217.124382 -41.734219 \nL 218.113373 -41.734219 \nL 219.102364 -41.734219 \nL 220.091355 -41.734219 \nL 221.080347 -41.734219 \nL 222.069338 -41.734219 \nL 223.058329 -41.734219 \nL 224.04732 -41.734219 \nL 225.036311 -41.734219 \nL 226.025303 -41.734219 \nL 227.014294 -41.734219 \nL 228.003285 -41.734219 \nL 228.992276 -41.734219 \nL 229.981268 -41.734219 \nL 230.970259 -41.734219 \nL 231.95925 -41.734219 \nL 232.948241 -41.734219 \nL 233.937233 -41.734219 \nL 234.926224 -41.734219 \nL 235.915215 -41.734219 \nL 236.904206 -41.734219 \nL 237.893197 -41.734219 \nL 238.882189 -41.734219 \nL 239.87118 -41.734219 \nL 240.860171 -41.734219 \nL 241.849162 -41.734219 \nL 242.838154 -41.734219 \nL 243.827145 -41.734219 \nL 244.816136 -41.734219 \nL 245.805127 -41.734219 \nL 246.794119 -41.734219 \nL 247.78311 -41.734219 \nL 248.772101 -41.734219 \nL 249.761092 -41.734219 \nL 250.750083 -41.734219 \nL 251.739075 -41.734219 \nL 252.728066 -41.734219 \nL 253.717057 -41.734219 \nL 254.706048 -41.734219 \nL 255.69504 -41.734219 \nL 256.684031 -41.734219 \nL 257.673022 -41.734219 \nL 258.662013 -41.734219 \nL 259.651005 -41.734219 \nL 260.639996 -41.734219 \nL 261.628987 -41.734219 \nL 262.617978 -41.734219 \nL 263.60697 -41.734219 \nL 264.595961 -41.734219 \nL 265.584952 -41.734219 \nL 266.573943 -41.734219 \nL 267.562934 -41.734219 \nL 268.551926 -41.734219 \nL 269.540917 -41.734219 \nL 270.529908 -41.734219 \nL 271.518899 -41.734219 \nL 272.507891 -41.734219 \nL 273.496882 -41.734219 \nL 274.485873 -41.734219 \nL 275.474864 -41.734219 \nL 276.463856 -41.734219 \nL 277.452847 -41.734219 \nL 278.441838 -41.734219 \nL 279.430829 -41.734219 \nL 280.41982 -41.734219 \nL 281.408812 -41.734219 \nL 282.397803 -41.734219 \nL 283.386794 -41.734219 \nL 284.375785 -41.734219 \nL 285.364777 -41.734219 \nL 286.353768 -41.734219 \nL 287.342759 -41.734219 \nL 288.33175 -41.734219 \nL 289.320742 -41.734219 \nL 290.309733 -41.734219 \nL 291.298724 -41.734219 \nL 292.287715 -41.734219 \nL 293.276706 -41.734219 \nL 294.265698 -41.734219 \nL 294.265698 -41.802495 \nL 294.265698 -41.802495 \nL 293.276706 -41.843903 \nL 292.287715 -41.905839 \nL 291.298724 -41.995756 \nL 290.309733 -42.122408 \nL 289.320742 -42.295394 \nL 288.33175 -42.524346 \nL 287.342759 -42.817746 \nL 286.353768 -43.181414 \nL 285.364777 -43.616822 \nL 284.375785 -44.119478 \nL 283.386794 -44.677678 \nL 282.397803 -45.271971 \nL 281.408812 -45.875607 \nL 280.41982 -46.456134 \nL 279.430829 -46.978088 \nL 278.441838 -47.406552 \nL 277.452847 -47.711102 \nL 276.463856 -47.869586 \nL 275.474864 -47.871137 \nL 274.485873 -47.717942 \nL 273.496882 -47.425505 \nL 272.507891 -47.021407 \nL 271.518899 -46.542838 \nL 270.529908 -46.033334 \nL 269.540917 -45.539258 \nL 268.551926 -45.106471 \nL 267.562934 -44.777486 \nL 266.573943 -44.58921 \nL 265.584952 -44.571137 \nL 264.595961 -44.74382 \nL 263.60697 -45.117386 \nL 262.617978 -45.690023 \nL 261.628987 -46.446572 \nL 260.639996 -47.357528 \nL 259.651005 -48.378966 \nL 258.662013 -49.453862 \nL 257.673022 -50.515198 \nL 256.684031 -51.490877 \nL 255.69504 -52.310144 \nL 254.706048 -52.910793 \nL 253.717057 -53.246157 \nL 252.728066 -53.290832 \nL 251.739075 -53.0442 \nL 250.750083 -52.531216 \nL 249.761092 -51.800376 \nL 248.772101 -50.919305 \nL 247.78311 -49.968761 \nL 246.794119 -49.036012 \nL 245.805127 -48.208462 \nL 244.816136 -47.56813 \nL 243.827145 -47.187186 \nL 242.838154 -47.124386 \nL 241.849162 -47.42202 \nL 240.860171 -48.102979 \nL 239.87118 -49.167743 \nL 238.882189 -50.591485 \nL 237.893197 -52.321889 \nL 236.904206 -54.278585 \nL 235.915215 -56.355206 \nL 234.926224 -58.424802 \nL 233.937233 -60.34883 \nL 232.948241 -61.989189 \nL 231.95925 -63.222011 \nL 230.970259 -63.951346 \nL 229.981268 -64.120634 \nL 228.992276 -63.720134 \nL 228.003285 -62.789072 \nL 227.014294 -61.412259 \nL 226.025303 -59.711867 \nL 225.036311 -57.835849 \nL 224.04732 -55.944915 \nL 223.058329 -54.199875 \nL 222.069338 -52.750728 \nL 221.080347 -51.728129 \nL 220.091355 -51.237122 \nL 219.102364 -51.3525 \nL 218.113373 -52.114965 \nL 217.124382 -53.527497 \nL 216.13539 -55.55191 \nL 215.146399 -58.10626 \nL 214.157408 -61.064365 \nL 213.168417 -64.258956 \nL 212.179425 -67.48972 \nL 211.190434 -70.536775 \nL 210.201443 -73.179008 \nL 209.212452 -75.215485 \nL 208.22346 -76.487197 \nL 207.234469 -76.895936 \nL 206.245478 -76.417339 \nL 205.256487 -75.106062 \nL 204.267496 -73.092413 \nL 203.278504 -70.571323 \nL 202.289513 -67.785716 \nL 201.300522 -65.007076 \nL 200.311531 -62.515882 \nL 199.322539 -60.583883 \nL 198.333548 -59.45903 \nL 197.344557 -59.352742 \nL 196.355566 -60.428361 \nL 195.366574 -62.789556 \nL 194.377583 -66.46801 \nL 193.388592 -71.410961 \nL 192.399601 -77.470603 \nL 191.41061 -84.398548 \nL 190.421618 -91.849019 \nL 189.432627 -99.393864 \nL 188.443636 -106.550785 \nL 187.454645 -112.823649 \nL 186.465653 -117.750947 \nL 185.476662 -120.956156 \nL 184.487671 -122.192507 \nL 183.49868 -121.375045 \nL 182.509688 -118.594801 \nL 181.520697 -114.112995 \nL 180.531706 -108.336778 \nL 179.542715 -101.781098 \nL 178.553724 -95.023168 \nL 177.564732 -88.656288 \nL 176.575741 -83.248415 \nL 175.58675 -79.308474 \nL 174.597759 -77.260628 \nL 173.608767 -77.424576 \nL 172.619776 -79.998932 \nL 171.630785 -85.04532 \nL 170.641794 -92.472678 \nL 169.652802 -102.023873 \nL 168.663811 -113.269166 \nL 167.67482 -125.612428 \nL 166.685829 -138.315549 \nL 165.696837 -150.544128 \nL 164.707846 -161.433432 \nL 163.718855 -170.168952 \nL 162.729864 -176.071597 \nL 161.740873 -178.675143 \nL 160.751881 -177.783624 \nL 159.76289 -173.499233 \nL 158.773899 -166.216335 \nL 157.784908 -156.583245 \nL 156.795916 -145.438933 \nL 155.806925 -133.735509 \nL 154.817934 -122.458252 \nL 153.828943 -112.553177 \nL 152.839951 -104.86825 \nL 151.85096 -100.10966 \nL 150.861969 -98.810542 \nL 149.872978 -101.307297 \nL 148.883987 -107.718885 \nL 147.894995 -117.926984 \nL 146.906004 -131.558858 \nL 145.917013 -147.978796 \nL 144.928022 -166.296573 \nL 143.93903 -185.401408 \nL 142.950039 -204.02679 \nL 141.961048 -220.845834 \nL 140.972057 -234.589667 \nL 139.983065 -244.174658 \nL 138.994074 -248.819933 \nL 138.005083 -248.1361 \nL 137.016092 -242.169746 \nL 136.027101 -231.395643 \nL 135.038109 -216.657813 \nL 134.049118 -199.069669 \nL 133.060127 -179.890073 \nL 132.071136 -160.39501 \nL 131.082144 -141.763118 \nL 130.093153 -124.988416 \nL 129.104162 -110.826556 \nL 128.115171 -99.773865 \nL 127.126179 -92.072916 \nL 126.137188 -87.735493 \nL 125.148197 -86.57382 \nL 124.159206 -88.233278 \nL 123.170214 -92.223403 \nL 122.181223 -97.947498 \nL 121.192232 -104.73356 \nL 120.203241 -111.869745 \nL 119.21425 -118.646364 \nL 118.225258 -124.403672 \nL 117.236267 -128.581731 \nL 116.247276 -130.766137 \nL 115.258285 -130.722369 \nL 114.269293 -128.412427 \nL 113.280302 -123.989958 \nL 112.291311 -117.77379 \nL 111.30232 -110.20368 \nL 110.313328 -101.785162 \nL 109.324337 -93.032 \nL 108.335346 -84.414553 \nL 107.346355 -76.320559 \nL 106.357364 -69.032004 \nL 105.368372 -62.718561 \nL 104.379381 -57.445368 \nL 103.39039 -53.191063 \nL 102.401399 -49.871256 \nL 101.412407 -47.362968 \nL 100.423416 -45.526509 \nL 99.434425 -44.222706 \nL 98.445434 -43.324645 \nL 97.456442 -42.72422 \nz\n\" style=\"stroke: #55a868\"/>\n    </defs>\n    <g clip-path=\"url(#pe6a1955e44)\">\n     <use xlink:href=\"#m2d659ef82c\" x=\"0\" y=\"266.374219\" style=\"fill: #55a868; fill-opacity: 0.25; stroke: #55a868\"/>\n    </g>\n   </g>\n   <g id=\"PolyCollection_3\">\n    <defs>\n     <path id=\"m2b1f79af4c\" d=\"M 64.859545 -41.734959 \nL 64.859545 -41.734219 \nL 66.521312 -41.734219 \nL 68.183079 -41.734219 \nL 69.844845 -41.734219 \nL 71.506612 -41.734219 \nL 73.168379 -41.734219 \nL 74.830145 -41.734219 \nL 76.491912 -41.734219 \nL 78.153679 -41.734219 \nL 79.815445 -41.734219 \nL 81.477212 -41.734219 \nL 83.138979 -41.734219 \nL 84.800745 -41.734219 \nL 86.462512 -41.734219 \nL 88.124278 -41.734219 \nL 89.786045 -41.734219 \nL 91.447812 -41.734219 \nL 93.109578 -41.734219 \nL 94.771345 -41.734219 \nL 96.433112 -41.734219 \nL 98.094878 -41.734219 \nL 99.756645 -41.734219 \nL 101.418412 -41.734219 \nL 103.080178 -41.734219 \nL 104.741945 -41.734219 \nL 106.403712 -41.734219 \nL 108.065478 -41.734219 \nL 109.727245 -41.734219 \nL 111.389012 -41.734219 \nL 113.050778 -41.734219 \nL 114.712545 -41.734219 \nL 116.374311 -41.734219 \nL 118.036078 -41.734219 \nL 119.697845 -41.734219 \nL 121.359611 -41.734219 \nL 123.021378 -41.734219 \nL 124.683145 -41.734219 \nL 126.344911 -41.734219 \nL 128.006678 -41.734219 \nL 129.668445 -41.734219 \nL 131.330211 -41.734219 \nL 132.991978 -41.734219 \nL 134.653745 -41.734219 \nL 136.315511 -41.734219 \nL 137.977278 -41.734219 \nL 139.639045 -41.734219 \nL 141.300811 -41.734219 \nL 142.962578 -41.734219 \nL 144.624344 -41.734219 \nL 146.286111 -41.734219 \nL 147.947878 -41.734219 \nL 149.609644 -41.734219 \nL 151.271411 -41.734219 \nL 152.933178 -41.734219 \nL 154.594944 -41.734219 \nL 156.256711 -41.734219 \nL 157.918478 -41.734219 \nL 159.580244 -41.734219 \nL 161.242011 -41.734219 \nL 162.903778 -41.734219 \nL 164.565544 -41.734219 \nL 166.227311 -41.734219 \nL 167.889077 -41.734219 \nL 169.550844 -41.734219 \nL 171.212611 -41.734219 \nL 172.874377 -41.734219 \nL 174.536144 -41.734219 \nL 176.197911 -41.734219 \nL 177.859677 -41.734219 \nL 179.521444 -41.734219 \nL 181.183211 -41.734219 \nL 182.844977 -41.734219 \nL 184.506744 -41.734219 \nL 186.168511 -41.734219 \nL 187.830277 -41.734219 \nL 189.492044 -41.734219 \nL 191.153811 -41.734219 \nL 192.815577 -41.734219 \nL 194.477344 -41.734219 \nL 196.13911 -41.734219 \nL 197.800877 -41.734219 \nL 199.462644 -41.734219 \nL 201.12441 -41.734219 \nL 202.786177 -41.734219 \nL 204.447944 -41.734219 \nL 206.10971 -41.734219 \nL 207.771477 -41.734219 \nL 209.433244 -41.734219 \nL 211.09501 -41.734219 \nL 212.756777 -41.734219 \nL 214.418544 -41.734219 \nL 216.08031 -41.734219 \nL 217.742077 -41.734219 \nL 219.403844 -41.734219 \nL 221.06561 -41.734219 \nL 222.727377 -41.734219 \nL 224.389143 -41.734219 \nL 226.05091 -41.734219 \nL 227.712677 -41.734219 \nL 229.374443 -41.734219 \nL 231.03621 -41.734219 \nL 232.697977 -41.734219 \nL 234.359743 -41.734219 \nL 236.02151 -41.734219 \nL 237.683277 -41.734219 \nL 239.345043 -41.734219 \nL 241.00681 -41.734219 \nL 242.668577 -41.734219 \nL 244.330343 -41.734219 \nL 245.99211 -41.734219 \nL 247.653876 -41.734219 \nL 249.315643 -41.734219 \nL 250.97741 -41.734219 \nL 252.639176 -41.734219 \nL 254.300943 -41.734219 \nL 255.96271 -41.734219 \nL 257.624476 -41.734219 \nL 259.286243 -41.734219 \nL 260.94801 -41.734219 \nL 262.609776 -41.734219 \nL 264.271543 -41.734219 \nL 265.93331 -41.734219 \nL 267.595076 -41.734219 \nL 269.256843 -41.734219 \nL 270.91861 -41.734219 \nL 272.580376 -41.734219 \nL 274.242143 -41.734219 \nL 275.903909 -41.734219 \nL 277.565676 -41.734219 \nL 279.227443 -41.734219 \nL 280.889209 -41.734219 \nL 282.550976 -41.734219 \nL 284.212743 -41.734219 \nL 285.874509 -41.734219 \nL 287.536276 -41.734219 \nL 289.198043 -41.734219 \nL 290.859809 -41.734219 \nL 292.521576 -41.734219 \nL 294.183343 -41.734219 \nL 295.845109 -41.734219 \nL 297.506876 -41.734219 \nL 299.168643 -41.734219 \nL 300.830409 -41.734219 \nL 302.492176 -41.734219 \nL 304.153942 -41.734219 \nL 305.815709 -41.734219 \nL 307.477476 -41.734219 \nL 309.139242 -41.734219 \nL 310.801009 -41.734219 \nL 312.462776 -41.734219 \nL 314.124542 -41.734219 \nL 315.786309 -41.734219 \nL 317.448076 -41.734219 \nL 319.109842 -41.734219 \nL 320.771609 -41.734219 \nL 322.433376 -41.734219 \nL 324.095142 -41.734219 \nL 325.756909 -41.734219 \nL 327.418675 -41.734219 \nL 329.080442 -41.734219 \nL 330.742209 -41.734219 \nL 332.403975 -41.734219 \nL 334.065742 -41.734219 \nL 335.727509 -41.734219 \nL 337.389275 -41.734219 \nL 339.051042 -41.734219 \nL 340.712809 -41.734219 \nL 342.374575 -41.734219 \nL 344.036342 -41.734219 \nL 345.698109 -41.734219 \nL 347.359875 -41.734219 \nL 349.021642 -41.734219 \nL 350.683409 -41.734219 \nL 352.345175 -41.734219 \nL 354.006942 -41.734219 \nL 355.668708 -41.734219 \nL 357.330475 -41.734219 \nL 358.992242 -41.734219 \nL 360.654008 -41.734219 \nL 362.315775 -41.734219 \nL 363.977542 -41.734219 \nL 365.639308 -41.734219 \nL 367.301075 -41.734219 \nL 368.962842 -41.734219 \nL 370.624608 -41.734219 \nL 372.286375 -41.734219 \nL 373.948142 -41.734219 \nL 375.609908 -41.734219 \nL 377.271675 -41.734219 \nL 378.933442 -41.734219 \nL 380.595208 -41.734219 \nL 382.256975 -41.734219 \nL 383.918741 -41.734219 \nL 385.580508 -41.734219 \nL 387.242275 -41.734219 \nL 388.904041 -41.734219 \nL 390.565808 -41.734219 \nL 392.227575 -41.734219 \nL 393.889341 -41.734219 \nL 395.551108 -41.734219 \nL 395.551108 -41.754999 \nL 395.551108 -41.754999 \nL 393.889341 -41.769132 \nL 392.227575 -41.791043 \nL 390.565808 -41.823817 \nL 388.904041 -41.87108 \nL 387.242275 -41.936745 \nL 385.580508 -42.024568 \nL 383.918741 -42.137505 \nL 382.256975 -42.276955 \nL 380.595208 -42.441988 \nL 378.933442 -42.628739 \nL 377.271675 -42.830166 \nL 375.609908 -43.036347 \nL 373.948142 -43.235392 \nL 372.286375 -43.414963 \nL 370.624608 -43.564175 \nL 368.962842 -43.675573 \nL 367.301075 -43.746766 \nL 365.639308 -43.781313 \nL 363.977542 -43.78858 \nL 362.315775 -43.782465 \nL 360.654008 -43.779145 \nL 358.992242 -43.794205 \nL 357.330475 -43.839718 \nL 355.668708 -43.921853 \nL 354.006942 -44.039563 \nL 352.345175 -44.184704 \nL 350.683409 -44.343668 \nL 349.021642 -44.500279 \nL 347.359875 -44.639449 \nL 345.698109 -44.750843 \nL 344.036342 -44.831781 \nL 342.374575 -44.888668 \nL 340.712809 -44.936524 \nL 339.051042 -44.996533 \nL 337.389275 -45.091979 \nL 335.727509 -45.243273 \nL 334.065742 -45.463071 \nL 332.403975 -45.752526 \nL 330.742209 -46.0996 \nL 329.080442 -46.479986 \nL 327.418675 -46.860696 \nL 325.756909 -47.205814 \nL 324.095142 -47.483361 \nL 322.433376 -47.671951 \nL 320.771609 -47.765766 \nL 319.109842 -47.776717 \nL 317.448076 -47.733108 \nL 315.786309 -47.674865 \nL 314.124542 -47.646121 \nL 312.462776 -47.686543 \nL 310.801009 -47.82314 \nL 309.139242 -48.064279 \nL 307.477476 -48.397258 \nL 305.815709 -48.790132 \nL 304.153942 -49.19763 \nL 302.492176 -49.57013 \nL 300.830409 -49.863975 \nL 299.168643 -50.051029 \nL 297.506876 -50.125433 \nL 295.845109 -50.105984 \nL 294.183343 -50.033439 \nL 292.521576 -49.963066 \nL 290.859809 -49.953777 \nL 289.198043 -50.055988 \nL 287.536276 -50.300683 \nL 285.874509 -50.692058 \nL 284.212743 -51.205491 \nL 282.550976 -51.791541 \nL 280.889209 -52.38549 \nL 279.227443 -52.920713 \nL 277.565676 -53.343264 \nL 275.903909 -53.624636 \nL 274.242143 -53.769834 \nL 272.580376 -53.81874 \nL 270.91861 -53.840023 \nL 269.256843 -53.918396 \nL 267.595076 -54.13748 \nL 265.93331 -54.561629 \nL 264.271543 -55.220476 \nL 262.609776 -56.09969 \nL 260.94801 -57.14034 \nL 259.286243 -58.24763 \nL 257.624476 -59.307839 \nL 255.96271 -60.210481 \nL 254.300943 -60.871339 \nL 252.639176 -61.251576 \nL 250.97741 -61.368593 \nL 249.315643 -61.295822 \nL 247.653876 -61.150814 \nL 245.99211 -61.073439 \nL 244.330343 -61.198198 \nL 242.668577 -61.626132 \nL 241.00681 -62.402165 \nL 239.345043 -63.502918 \nL 237.683277 -64.838124 \nL 236.02151 -66.266097 \nL 234.359743 -67.620814 \nL 232.697977 -68.745549 \nL 231.03621 -69.526364 \nL 229.374443 -69.918375 \nL 227.712677 -69.958881 \nL 226.05091 -69.763888 \nL 224.389143 -69.507923 \nL 222.727377 -69.390544 \nL 221.06561 -69.595933 \nL 219.403844 -70.253696 \nL 217.742077 -71.409172 \nL 216.08031 -73.009948 \nL 214.418544 -74.912282 \nL 212.756777 -76.90714 \nL 211.09501 -78.761453 \nL 209.433244 -80.26672 \nL 207.771477 -81.285081 \nL 206.10971 -81.782953 \nL 204.447944 -81.844374 \nL 202.786177 -81.660096 \nL 201.12441 -81.493355 \nL 199.462644 -81.628263 \nL 197.800877 -82.310703 \nL 196.13911 -83.693751 \nL 194.477344 -85.799328 \nL 192.815577 -88.505069 \nL 191.153811 -91.560645 \nL 189.492044 -94.631837 \nL 187.830277 -97.364741 \nL 186.168511 -99.457779 \nL 184.506744 -100.726793 \nL 182.844977 -101.149146 \nL 181.183211 -100.876449 \nL 179.521444 -100.211608 \nL 177.859677 -99.55328 \nL 176.197911 -99.317762 \nL 174.536144 -99.853544 \nL 172.874377 -101.365916 \nL 171.212611 -103.867663 \nL 169.550844 -107.167174 \nL 167.889077 -110.898035 \nL 166.227311 -114.585743 \nL 164.565544 -117.739301 \nL 162.903778 -119.949731 \nL 161.242011 -120.975352 \nL 159.580244 -120.795685 \nL 157.918478 -119.621791 \nL 156.256711 -117.859577 \nL 154.594944 -116.032354 \nL 152.933178 -114.677541 \nL 151.271411 -114.238077 \nL 149.609644 -114.97056 \nL 147.947878 -116.889099 \nL 146.286111 -119.756912 \nL 144.624344 -123.128137 \nL 142.962578 -126.4322 \nL 141.300811 -129.08421 \nL 139.639045 -130.599358 \nL 137.977278 -130.688139 \nL 136.315511 -129.313025 \nL 134.653745 -126.695008 \nL 132.991978 -123.268805 \nL 131.330211 -119.596021 \nL 129.668445 -116.254061 \nL 128.006678 -113.723211 \nL 126.344911 -112.294185 \nL 124.683145 -112.013799 \nL 123.021378 -112.678323 \nL 121.359611 -113.874358 \nL 119.697845 -115.057682 \nL 118.036078 -115.653454 \nL 116.374311 -115.157696 \nL 114.712545 -113.22078 \nL 113.050778 -109.698436 \nL 111.389012 -104.663288 \nL 109.727245 -98.378464 \nL 108.065478 -91.242197 \nL 106.403712 -83.717182 \nL 104.741945 -76.25959 \nL 103.080178 -69.260515 \nL 101.418412 -63.007945 \nL 99.756645 -57.67181 \nL 98.094878 -53.309625 \nL 96.433112 -49.886873 \nL 94.771345 -47.304926 \nL 93.109578 -45.429859 \nL 91.447812 -44.117257 \nL 89.786045 -43.230386 \nL 88.124278 -42.651155 \nL 86.462512 -42.284758 \nL 84.800745 -42.059683 \nL 83.138979 -41.924893 \nL 81.477212 -41.845768 \nL 79.815445 -41.799894 \nL 78.153679 -41.773378 \nL 76.491912 -41.757936 \nL 74.830145 -41.748792 \nL 73.168379 -41.743256 \nL 71.506612 -41.739834 \nL 69.844845 -41.737687 \nL 68.183079 -41.736333 \nL 66.521312 -41.735484 \nL 64.859545 -41.734959 \nz\n\" style=\"stroke: #4c72b0\"/>\n    </defs>\n    <g clip-path=\"url(#pe6a1955e44)\">\n     <use xlink:href=\"#m2b1f79af4c\" x=\"0\" y=\"266.374219\" style=\"fill: #4c72b0; fill-opacity: 0.25; stroke: #4c72b0\"/>\n    </g>\n   </g>\n   <g id=\"patch_3\">\n    <path d=\"M 47.105 224.64 \nL 47.105 7.2 \n\" style=\"fill: none; stroke: #ffffff; stroke-width: 1.25; stroke-linejoin: miter; stroke-linecap: square\"/>\n   </g>\n   <g id=\"patch_4\">\n    <path d=\"M 437.705 224.64 \nL 437.705 7.2 \n\" style=\"fill: none; stroke: #ffffff; stroke-width: 1.25; stroke-linejoin: miter; stroke-linecap: square\"/>\n   </g>\n   <g id=\"patch_5\">\n    <path d=\"M 47.105 224.64 \nL 437.705 224.64 \n\" style=\"fill: none; stroke: #ffffff; stroke-width: 1.25; stroke-linejoin: miter; stroke-linecap: square\"/>\n   </g>\n   <g id=\"patch_6\">\n    <path d=\"M 47.105 7.2 \nL 437.705 7.2 \n\" style=\"fill: none; stroke: #ffffff; stroke-width: 1.25; stroke-linejoin: miter; stroke-linecap: square\"/>\n   </g>\n   <g id=\"legend_1\">\n    <g id=\"patch_7\">\n     <path d=\"M 367.922031 62.679531 \nL 430.005 62.679531 \nQ 432.205 62.679531 432.205 60.479531 \nL 432.205 14.9 \nQ 432.205 12.7 430.005 12.7 \nL 367.922031 12.7 \nQ 365.722031 12.7 365.722031 14.9 \nL 365.722031 60.479531 \nQ 365.722031 62.679531 367.922031 62.679531 \nz\n\" style=\"fill: #eaeaf2; opacity: 0.8; stroke: #cccccc; stroke-linejoin: miter\"/>\n    </g>\n    <g id=\"patch_8\">\n     <path d=\"M 370.122031 24.973594 \nL 392.122031 24.973594 \nL 392.122031 17.273594 \nL 370.122031 17.273594 \nz\n\" style=\"fill: #c44e52; fill-opacity: 0.25; stroke: #c44e52; stroke-linejoin: miter\"/>\n    </g>\n    <g id=\"text_17\">\n     <!-- EAP -->\n     <g style=\"fill: #262626\" transform=\"translate(400.922031 24.973594)scale(0.11 -0.11)\">\n      <defs>\n       <path id=\"ArialMT-45\" d=\"M 506 0 \nL 506 4581 \nL 3819 4581 \nL 3819 4041 \nL 1113 4041 \nL 1113 2638 \nL 3647 2638 \nL 3647 2100 \nL 1113 2100 \nL 1113 541 \nL 3925 541 \nL 3925 0 \nL 506 0 \nz\n\" transform=\"scale(0.015625)\"/>\n       <path id=\"ArialMT-41\" d=\"M -9 0 \nL 1750 4581 \nL 2403 4581 \nL 4278 0 \nL 3588 0 \nL 3053 1388 \nL 1138 1388 \nL 634 0 \nL -9 0 \nz\nM 1313 1881 \nL 2866 1881 \nL 2388 3150 \nQ 2169 3728 2063 4100 \nQ 1975 3659 1816 3225 \nL 1313 1881 \nz\n\" transform=\"scale(0.015625)\"/>\n       <path id=\"ArialMT-50\" d=\"M 494 0 \nL 494 4581 \nL 2222 4581 \nQ 2678 4581 2919 4538 \nQ 3256 4481 3484 4323 \nQ 3713 4166 3852 3881 \nQ 3991 3597 3991 3256 \nQ 3991 2672 3619 2267 \nQ 3247 1863 2275 1863 \nL 1100 1863 \nL 1100 0 \nL 494 0 \nz\nM 1100 2403 \nL 2284 2403 \nQ 2872 2403 3119 2622 \nQ 3366 2841 3366 3238 \nQ 3366 3525 3220 3729 \nQ 3075 3934 2838 4000 \nQ 2684 4041 2272 4041 \nL 1100 4041 \nL 1100 2403 \nz\n\" transform=\"scale(0.015625)\"/>\n      </defs>\n      <use xlink:href=\"#ArialMT-45\"/>\n      <use xlink:href=\"#ArialMT-41\" x=\"66.699219\"/>\n      <use xlink:href=\"#ArialMT-50\" x=\"133.398438\"/>\n     </g>\n    </g>\n    <g id=\"patch_9\">\n     <path d=\"M 370.122031 40.533437 \nL 392.122031 40.533437 \nL 392.122031 32.833437 \nL 370.122031 32.833437 \nz\n\" style=\"fill: #55a868; fill-opacity: 0.25; stroke: #55a868; stroke-linejoin: miter\"/>\n    </g>\n    <g id=\"text_18\">\n     <!-- HPL -->\n     <g style=\"fill: #262626\" transform=\"translate(400.922031 40.533437)scale(0.11 -0.11)\">\n      <defs>\n       <path id=\"ArialMT-48\" d=\"M 513 0 \nL 513 4581 \nL 1119 4581 \nL 1119 2700 \nL 3500 2700 \nL 3500 4581 \nL 4106 4581 \nL 4106 0 \nL 3500 0 \nL 3500 2159 \nL 1119 2159 \nL 1119 0 \nL 513 0 \nz\n\" transform=\"scale(0.015625)\"/>\n       <path id=\"ArialMT-4c\" d=\"M 469 0 \nL 469 4581 \nL 1075 4581 \nL 1075 541 \nL 3331 541 \nL 3331 0 \nL 469 0 \nz\n\" transform=\"scale(0.015625)\"/>\n      </defs>\n      <use xlink:href=\"#ArialMT-48\"/>\n      <use xlink:href=\"#ArialMT-50\" x=\"72.216797\"/>\n      <use xlink:href=\"#ArialMT-4c\" x=\"138.916016\"/>\n     </g>\n    </g>\n    <g id=\"patch_10\">\n     <path d=\"M 370.122031 56.093281 \nL 392.122031 56.093281 \nL 392.122031 48.393281 \nL 370.122031 48.393281 \nz\n\" style=\"fill: #4c72b0; fill-opacity: 0.25; stroke: #4c72b0; stroke-linejoin: miter\"/>\n    </g>\n    <g id=\"text_19\">\n     <!-- MWS -->\n     <g style=\"fill: #262626\" transform=\"translate(400.922031 56.093281)scale(0.11 -0.11)\">\n      <defs>\n       <path id=\"ArialMT-4d\" d=\"M 475 0 \nL 475 4581 \nL 1388 4581 \nL 2472 1338 \nQ 2622 884 2691 659 \nQ 2769 909 2934 1394 \nL 4031 4581 \nL 4847 4581 \nL 4847 0 \nL 4263 0 \nL 4263 3834 \nL 2931 0 \nL 2384 0 \nL 1059 3900 \nL 1059 0 \nL 475 0 \nz\n\" transform=\"scale(0.015625)\"/>\n       <path id=\"ArialMT-57\" d=\"M 1294 0 \nL 78 4581 \nL 700 4581 \nL 1397 1578 \nQ 1509 1106 1591 641 \nQ 1766 1375 1797 1488 \nL 2669 4581 \nL 3400 4581 \nL 4056 2263 \nQ 4303 1400 4413 641 \nQ 4500 1075 4641 1638 \nL 5359 4581 \nL 5969 4581 \nL 4713 0 \nL 4128 0 \nL 3163 3491 \nQ 3041 3928 3019 4028 \nQ 2947 3713 2884 3491 \nL 1913 0 \nL 1294 0 \nz\n\" transform=\"scale(0.015625)\"/>\n       <path id=\"ArialMT-53\" d=\"M 288 1472 \nL 859 1522 \nQ 900 1178 1048 958 \nQ 1197 738 1509 602 \nQ 1822 466 2213 466 \nQ 2559 466 2825 569 \nQ 3091 672 3220 851 \nQ 3350 1031 3350 1244 \nQ 3350 1459 3225 1620 \nQ 3100 1781 2813 1891 \nQ 2628 1963 1997 2114 \nQ 1366 2266 1113 2400 \nQ 784 2572 623 2826 \nQ 463 3081 463 3397 \nQ 463 3744 659 4045 \nQ 856 4347 1234 4503 \nQ 1613 4659 2075 4659 \nQ 2584 4659 2973 4495 \nQ 3363 4331 3572 4012 \nQ 3781 3694 3797 3291 \nL 3216 3247 \nQ 3169 3681 2898 3903 \nQ 2628 4125 2100 4125 \nQ 1550 4125 1298 3923 \nQ 1047 3722 1047 3438 \nQ 1047 3191 1225 3031 \nQ 1400 2872 2139 2705 \nQ 2878 2538 3153 2413 \nQ 3553 2228 3743 1945 \nQ 3934 1663 3934 1294 \nQ 3934 928 3725 604 \nQ 3516 281 3123 101 \nQ 2731 -78 2241 -78 \nQ 1619 -78 1198 103 \nQ 778 284 539 648 \nQ 300 1013 288 1472 \nz\n\" transform=\"scale(0.015625)\"/>\n      </defs>\n      <use xlink:href=\"#ArialMT-4d\"/>\n      <use xlink:href=\"#ArialMT-57\" x=\"83.300781\"/>\n      <use xlink:href=\"#ArialMT-53\" x=\"177.685547\"/>\n     </g>\n    </g>\n   </g>\n  </g>\n </g>\n <defs>\n  <clipPath id=\"pe6a1955e44\">\n   <rect x=\"47.105\" y=\"7.2\" width=\"390.6\" height=\"217.44\"/>\n  </clipPath>\n </defs>\n</svg>\n",
      "text/plain": [
       "<Figure size 504x288 with 1 Axes>"
      ]
     },
     "metadata": {},
     "output_type": "display_data"
    }
   ],
   "source": [
    "f, ax = plt.subplots(figsize=(7,4))\n",
    "sns.kdeplot(drop_outliers(eap.n_punct), shade=True, color=\"r\");\n",
    "sns.kdeplot(drop_outliers(hpl.n_punct), shade=True, color=\"g\");\n",
    "sns.kdeplot(drop_outliers(mws.n_punct), shade=True, color=\"b\");\n",
    "ax.legend(labels=['EAP', 'HPL', 'MWS']);"
   ]
  },
  {
   "cell_type": "markdown",
   "id": "8d4f82d3",
   "metadata": {},
   "source": [
    "Here HPL's punctuation distribution is different from others"
   ]
  },
  {
   "cell_type": "markdown",
   "id": "0cc4b8d2",
   "metadata": {},
   "source": [
    "### Sentiment"
   ]
  },
  {
   "cell_type": "code",
   "execution_count": 22,
   "id": "e4edf76a",
   "metadata": {
    "scrolled": true
   },
   "outputs": [
    {
     "data": {
      "image/svg+xml": "<?xml version=\"1.0\" encoding=\"utf-8\" standalone=\"no\"?>\n<!DOCTYPE svg PUBLIC \"-//W3C//DTD SVG 1.1//EN\"\n  \"http://www.w3.org/Graphics/SVG/1.1/DTD/svg11.dtd\">\n<svg xmlns:xlink=\"http://www.w3.org/1999/xlink\" width=\"444.905pt\" height=\"266.374219pt\" viewBox=\"0 0 444.905 266.374219\" xmlns=\"http://www.w3.org/2000/svg\" version=\"1.1\">\n <metadata>\n  <rdf:RDF xmlns:dc=\"http://purl.org/dc/elements/1.1/\" xmlns:cc=\"http://creativecommons.org/ns#\" xmlns:rdf=\"http://www.w3.org/1999/02/22-rdf-syntax-ns#\">\n   <cc:Work>\n    <dc:type rdf:resource=\"http://purl.org/dc/dcmitype/StillImage\"/>\n    <dc:date>2022-12-26T20:37:01.495153</dc:date>\n    <dc:format>image/svg+xml</dc:format>\n    <dc:creator>\n     <cc:Agent>\n      <dc:title>Matplotlib v3.5.1, https://matplotlib.org/</dc:title>\n     </cc:Agent>\n    </dc:creator>\n   </cc:Work>\n  </rdf:RDF>\n </metadata>\n <defs>\n  <style type=\"text/css\">*{stroke-linejoin: round; stroke-linecap: butt}</style>\n </defs>\n <g id=\"figure_1\">\n  <g id=\"patch_1\">\n   <path d=\"M 0 266.374219 \nL 444.905 266.374219 \nL 444.905 0 \nL 0 0 \nz\n\" style=\"fill: #ffffff\"/>\n  </g>\n  <g id=\"axes_1\">\n   <g id=\"patch_2\">\n    <path d=\"M 47.105 224.64 \nL 437.705 224.64 \nL 437.705 7.2 \nL 47.105 7.2 \nz\n\" style=\"fill: #eaeaf2\"/>\n   </g>\n   <g id=\"matplotlib.axis_1\">\n    <g id=\"xtick_1\">\n     <g id=\"line2d_1\">\n      <path d=\"M 95.267774 224.64 \nL 95.267774 7.2 \n\" clip-path=\"url(#p4dc646d425)\" style=\"fill: none; stroke: #ffffff; stroke-linecap: round\"/>\n     </g>\n     <g id=\"text_1\">\n      <!-- −3 -->\n      <g style=\"fill: #262626\" transform=\"translate(88.996915 242.013594)scale(0.11 -0.11)\">\n       <defs>\n        <path id=\"ArialMT-2212\" d=\"M 3381 1997 \nL 356 1997 \nL 356 2522 \nL 3381 2522 \nL 3381 1997 \nz\n\" transform=\"scale(0.015625)\"/>\n        <path id=\"ArialMT-33\" d=\"M 269 1209 \nL 831 1284 \nQ 928 806 1161 595 \nQ 1394 384 1728 384 \nQ 2125 384 2398 659 \nQ 2672 934 2672 1341 \nQ 2672 1728 2419 1979 \nQ 2166 2231 1775 2231 \nQ 1616 2231 1378 2169 \nL 1441 2663 \nQ 1497 2656 1531 2656 \nQ 1891 2656 2178 2843 \nQ 2466 3031 2466 3422 \nQ 2466 3731 2256 3934 \nQ 2047 4138 1716 4138 \nQ 1388 4138 1169 3931 \nQ 950 3725 888 3313 \nL 325 3413 \nQ 428 3978 793 4289 \nQ 1159 4600 1703 4600 \nQ 2078 4600 2393 4439 \nQ 2709 4278 2876 4000 \nQ 3044 3722 3044 3409 \nQ 3044 3113 2884 2869 \nQ 2725 2625 2413 2481 \nQ 2819 2388 3044 2092 \nQ 3269 1797 3269 1353 \nQ 3269 753 2831 336 \nQ 2394 -81 1725 -81 \nQ 1122 -81 723 278 \nQ 325 638 269 1209 \nz\n\" transform=\"scale(0.015625)\"/>\n       </defs>\n       <use xlink:href=\"#ArialMT-2212\"/>\n       <use xlink:href=\"#ArialMT-33\" x=\"58.398438\"/>\n      </g>\n     </g>\n    </g>\n    <g id=\"xtick_2\">\n     <g id=\"line2d_2\">\n      <path d=\"M 145.357043 224.64 \nL 145.357043 7.2 \n\" clip-path=\"url(#p4dc646d425)\" style=\"fill: none; stroke: #ffffff; stroke-linecap: round\"/>\n     </g>\n     <g id=\"text_2\">\n      <!-- −2 -->\n      <g style=\"fill: #262626\" transform=\"translate(139.086183 242.013594)scale(0.11 -0.11)\">\n       <defs>\n        <path id=\"ArialMT-32\" d=\"M 3222 541 \nL 3222 0 \nL 194 0 \nQ 188 203 259 391 \nQ 375 700 629 1000 \nQ 884 1300 1366 1694 \nQ 2113 2306 2375 2664 \nQ 2638 3022 2638 3341 \nQ 2638 3675 2398 3904 \nQ 2159 4134 1775 4134 \nQ 1369 4134 1125 3890 \nQ 881 3647 878 3216 \nL 300 3275 \nQ 359 3922 746 4261 \nQ 1134 4600 1788 4600 \nQ 2447 4600 2831 4234 \nQ 3216 3869 3216 3328 \nQ 3216 3053 3103 2787 \nQ 2991 2522 2730 2228 \nQ 2469 1934 1863 1422 \nQ 1356 997 1212 845 \nQ 1069 694 975 541 \nL 3222 541 \nz\n\" transform=\"scale(0.015625)\"/>\n       </defs>\n       <use xlink:href=\"#ArialMT-2212\"/>\n       <use xlink:href=\"#ArialMT-32\" x=\"58.398438\"/>\n      </g>\n     </g>\n    </g>\n    <g id=\"xtick_3\">\n     <g id=\"line2d_3\">\n      <path d=\"M 195.446311 224.64 \nL 195.446311 7.2 \n\" clip-path=\"url(#p4dc646d425)\" style=\"fill: none; stroke: #ffffff; stroke-linecap: round\"/>\n     </g>\n     <g id=\"text_3\">\n      <!-- −1 -->\n      <g style=\"fill: #262626\" transform=\"translate(189.175452 242.013594)scale(0.11 -0.11)\">\n       <defs>\n        <path id=\"ArialMT-31\" d=\"M 2384 0 \nL 1822 0 \nL 1822 3584 \nQ 1619 3391 1289 3197 \nQ 959 3003 697 2906 \nL 697 3450 \nQ 1169 3672 1522 3987 \nQ 1875 4303 2022 4600 \nL 2384 4600 \nL 2384 0 \nz\n\" transform=\"scale(0.015625)\"/>\n       </defs>\n       <use xlink:href=\"#ArialMT-2212\"/>\n       <use xlink:href=\"#ArialMT-31\" x=\"58.398438\"/>\n      </g>\n     </g>\n    </g>\n    <g id=\"xtick_4\">\n     <g id=\"line2d_4\">\n      <path d=\"M 245.535579 224.64 \nL 245.535579 7.2 \n\" clip-path=\"url(#p4dc646d425)\" style=\"fill: none; stroke: #ffffff; stroke-linecap: round\"/>\n     </g>\n     <g id=\"text_4\">\n      <!-- 0 -->\n      <g style=\"fill: #262626\" transform=\"translate(242.477064 242.013594)scale(0.11 -0.11)\">\n       <defs>\n        <path id=\"ArialMT-30\" d=\"M 266 2259 \nQ 266 3072 433 3567 \nQ 600 4063 929 4331 \nQ 1259 4600 1759 4600 \nQ 2128 4600 2406 4451 \nQ 2684 4303 2865 4023 \nQ 3047 3744 3150 3342 \nQ 3253 2941 3253 2259 \nQ 3253 1453 3087 958 \nQ 2922 463 2592 192 \nQ 2263 -78 1759 -78 \nQ 1097 -78 719 397 \nQ 266 969 266 2259 \nz\nM 844 2259 \nQ 844 1131 1108 757 \nQ 1372 384 1759 384 \nQ 2147 384 2411 759 \nQ 2675 1134 2675 2259 \nQ 2675 3391 2411 3762 \nQ 2147 4134 1753 4134 \nQ 1366 4134 1134 3806 \nQ 844 3388 844 2259 \nz\n\" transform=\"scale(0.015625)\"/>\n       </defs>\n       <use xlink:href=\"#ArialMT-30\"/>\n      </g>\n     </g>\n    </g>\n    <g id=\"xtick_5\">\n     <g id=\"line2d_5\">\n      <path d=\"M 295.624848 224.64 \nL 295.624848 7.2 \n\" clip-path=\"url(#p4dc646d425)\" style=\"fill: none; stroke: #ffffff; stroke-linecap: round\"/>\n     </g>\n     <g id=\"text_5\">\n      <!-- 1 -->\n      <g style=\"fill: #262626\" transform=\"translate(292.566332 242.013594)scale(0.11 -0.11)\">\n       <use xlink:href=\"#ArialMT-31\"/>\n      </g>\n     </g>\n    </g>\n    <g id=\"xtick_6\">\n     <g id=\"line2d_6\">\n      <path d=\"M 345.714116 224.64 \nL 345.714116 7.2 \n\" clip-path=\"url(#p4dc646d425)\" style=\"fill: none; stroke: #ffffff; stroke-linecap: round\"/>\n     </g>\n     <g id=\"text_6\">\n      <!-- 2 -->\n      <g style=\"fill: #262626\" transform=\"translate(342.6556 242.013594)scale(0.11 -0.11)\">\n       <use xlink:href=\"#ArialMT-32\"/>\n      </g>\n     </g>\n    </g>\n    <g id=\"xtick_7\">\n     <g id=\"line2d_7\">\n      <path d=\"M 395.803384 224.64 \nL 395.803384 7.2 \n\" clip-path=\"url(#p4dc646d425)\" style=\"fill: none; stroke: #ffffff; stroke-linecap: round\"/>\n     </g>\n     <g id=\"text_7\">\n      <!-- 3 -->\n      <g style=\"fill: #262626\" transform=\"translate(392.744869 242.013594)scale(0.11 -0.11)\">\n       <use xlink:href=\"#ArialMT-33\"/>\n      </g>\n     </g>\n    </g>\n    <g id=\"text_8\">\n     <!-- sentiment -->\n     <g style=\"fill: #262626\" transform=\"translate(216.394063 256.789219)scale(0.12 -0.12)\">\n      <defs>\n       <path id=\"ArialMT-73\" d=\"M 197 991 \nL 753 1078 \nQ 800 744 1014 566 \nQ 1228 388 1613 388 \nQ 2000 388 2187 545 \nQ 2375 703 2375 916 \nQ 2375 1106 2209 1216 \nQ 2094 1291 1634 1406 \nQ 1016 1563 777 1677 \nQ 538 1791 414 1992 \nQ 291 2194 291 2438 \nQ 291 2659 392 2848 \nQ 494 3038 669 3163 \nQ 800 3259 1026 3326 \nQ 1253 3394 1513 3394 \nQ 1903 3394 2198 3281 \nQ 2494 3169 2634 2976 \nQ 2775 2784 2828 2463 \nL 2278 2388 \nQ 2241 2644 2061 2787 \nQ 1881 2931 1553 2931 \nQ 1166 2931 1000 2803 \nQ 834 2675 834 2503 \nQ 834 2394 903 2306 \nQ 972 2216 1119 2156 \nQ 1203 2125 1616 2013 \nQ 2213 1853 2448 1751 \nQ 2684 1650 2818 1456 \nQ 2953 1263 2953 975 \nQ 2953 694 2789 445 \nQ 2625 197 2315 61 \nQ 2006 -75 1616 -75 \nQ 969 -75 630 194 \nQ 291 463 197 991 \nz\n\" transform=\"scale(0.015625)\"/>\n       <path id=\"ArialMT-65\" d=\"M 2694 1069 \nL 3275 997 \nQ 3138 488 2766 206 \nQ 2394 -75 1816 -75 \nQ 1088 -75 661 373 \nQ 234 822 234 1631 \nQ 234 2469 665 2931 \nQ 1097 3394 1784 3394 \nQ 2450 3394 2872 2941 \nQ 3294 2488 3294 1666 \nQ 3294 1616 3291 1516 \nL 816 1516 \nQ 847 969 1125 678 \nQ 1403 388 1819 388 \nQ 2128 388 2347 550 \nQ 2566 713 2694 1069 \nz\nM 847 1978 \nL 2700 1978 \nQ 2663 2397 2488 2606 \nQ 2219 2931 1791 2931 \nQ 1403 2931 1139 2672 \nQ 875 2413 847 1978 \nz\n\" transform=\"scale(0.015625)\"/>\n       <path id=\"ArialMT-6e\" d=\"M 422 0 \nL 422 3319 \nL 928 3319 \nL 928 2847 \nQ 1294 3394 1984 3394 \nQ 2284 3394 2536 3286 \nQ 2788 3178 2913 3003 \nQ 3038 2828 3088 2588 \nQ 3119 2431 3119 2041 \nL 3119 0 \nL 2556 0 \nL 2556 2019 \nQ 2556 2363 2490 2533 \nQ 2425 2703 2258 2804 \nQ 2091 2906 1866 2906 \nQ 1506 2906 1245 2678 \nQ 984 2450 984 1813 \nL 984 0 \nL 422 0 \nz\n\" transform=\"scale(0.015625)\"/>\n       <path id=\"ArialMT-74\" d=\"M 1650 503 \nL 1731 6 \nQ 1494 -44 1306 -44 \nQ 1000 -44 831 53 \nQ 663 150 594 308 \nQ 525 466 525 972 \nL 525 2881 \nL 113 2881 \nL 113 3319 \nL 525 3319 \nL 525 4141 \nL 1084 4478 \nL 1084 3319 \nL 1650 3319 \nL 1650 2881 \nL 1084 2881 \nL 1084 941 \nQ 1084 700 1114 631 \nQ 1144 563 1211 522 \nQ 1278 481 1403 481 \nQ 1497 481 1650 503 \nz\n\" transform=\"scale(0.015625)\"/>\n       <path id=\"ArialMT-69\" d=\"M 425 3934 \nL 425 4581 \nL 988 4581 \nL 988 3934 \nL 425 3934 \nz\nM 425 0 \nL 425 3319 \nL 988 3319 \nL 988 0 \nL 425 0 \nz\n\" transform=\"scale(0.015625)\"/>\n       <path id=\"ArialMT-6d\" d=\"M 422 0 \nL 422 3319 \nL 925 3319 \nL 925 2853 \nQ 1081 3097 1340 3245 \nQ 1600 3394 1931 3394 \nQ 2300 3394 2536 3241 \nQ 2772 3088 2869 2813 \nQ 3263 3394 3894 3394 \nQ 4388 3394 4653 3120 \nQ 4919 2847 4919 2278 \nL 4919 0 \nL 4359 0 \nL 4359 2091 \nQ 4359 2428 4304 2576 \nQ 4250 2725 4106 2815 \nQ 3963 2906 3769 2906 \nQ 3419 2906 3187 2673 \nQ 2956 2441 2956 1928 \nL 2956 0 \nL 2394 0 \nL 2394 2156 \nQ 2394 2531 2256 2718 \nQ 2119 2906 1806 2906 \nQ 1569 2906 1367 2781 \nQ 1166 2656 1075 2415 \nQ 984 2175 984 1722 \nL 984 0 \nL 422 0 \nz\n\" transform=\"scale(0.015625)\"/>\n      </defs>\n      <use xlink:href=\"#ArialMT-73\"/>\n      <use xlink:href=\"#ArialMT-65\" x=\"50\"/>\n      <use xlink:href=\"#ArialMT-6e\" x=\"105.615234\"/>\n      <use xlink:href=\"#ArialMT-74\" x=\"161.230469\"/>\n      <use xlink:href=\"#ArialMT-69\" x=\"189.013672\"/>\n      <use xlink:href=\"#ArialMT-6d\" x=\"211.230469\"/>\n      <use xlink:href=\"#ArialMT-65\" x=\"294.53125\"/>\n      <use xlink:href=\"#ArialMT-6e\" x=\"350.146484\"/>\n      <use xlink:href=\"#ArialMT-74\" x=\"405.761719\"/>\n     </g>\n    </g>\n   </g>\n   <g id=\"matplotlib.axis_2\">\n    <g id=\"ytick_1\">\n     <g id=\"line2d_8\">\n      <path d=\"M 47.105 224.64 \nL 437.705 224.64 \n\" clip-path=\"url(#p4dc646d425)\" style=\"fill: none; stroke: #ffffff; stroke-linecap: round\"/>\n     </g>\n     <g id=\"text_9\">\n      <!-- 0.0 -->\n      <g style=\"fill: #262626\" transform=\"translate(22.315 228.576797)scale(0.11 -0.11)\">\n       <defs>\n        <path id=\"ArialMT-2e\" d=\"M 581 0 \nL 581 641 \nL 1222 641 \nL 1222 0 \nL 581 0 \nz\n\" transform=\"scale(0.015625)\"/>\n       </defs>\n       <use xlink:href=\"#ArialMT-30\"/>\n       <use xlink:href=\"#ArialMT-2e\" x=\"55.615234\"/>\n       <use xlink:href=\"#ArialMT-30\" x=\"83.398438\"/>\n      </g>\n     </g>\n    </g>\n    <g id=\"ytick_2\">\n     <g id=\"line2d_9\">\n      <path d=\"M 47.105 199.643712 \nL 437.705 199.643712 \n\" clip-path=\"url(#p4dc646d425)\" style=\"fill: none; stroke: #ffffff; stroke-linecap: round\"/>\n     </g>\n     <g id=\"text_10\">\n      <!-- 0.1 -->\n      <g style=\"fill: #262626\" transform=\"translate(22.315 203.580509)scale(0.11 -0.11)\">\n       <use xlink:href=\"#ArialMT-30\"/>\n       <use xlink:href=\"#ArialMT-2e\" x=\"55.615234\"/>\n       <use xlink:href=\"#ArialMT-31\" x=\"83.398438\"/>\n      </g>\n     </g>\n    </g>\n    <g id=\"ytick_3\">\n     <g id=\"line2d_10\">\n      <path d=\"M 47.105 174.647424 \nL 437.705 174.647424 \n\" clip-path=\"url(#p4dc646d425)\" style=\"fill: none; stroke: #ffffff; stroke-linecap: round\"/>\n     </g>\n     <g id=\"text_11\">\n      <!-- 0.2 -->\n      <g style=\"fill: #262626\" transform=\"translate(22.315 178.584221)scale(0.11 -0.11)\">\n       <use xlink:href=\"#ArialMT-30\"/>\n       <use xlink:href=\"#ArialMT-2e\" x=\"55.615234\"/>\n       <use xlink:href=\"#ArialMT-32\" x=\"83.398438\"/>\n      </g>\n     </g>\n    </g>\n    <g id=\"ytick_4\">\n     <g id=\"line2d_11\">\n      <path d=\"M 47.105 149.651136 \nL 437.705 149.651136 \n\" clip-path=\"url(#p4dc646d425)\" style=\"fill: none; stroke: #ffffff; stroke-linecap: round\"/>\n     </g>\n     <g id=\"text_12\">\n      <!-- 0.3 -->\n      <g style=\"fill: #262626\" transform=\"translate(22.315 153.587933)scale(0.11 -0.11)\">\n       <use xlink:href=\"#ArialMT-30\"/>\n       <use xlink:href=\"#ArialMT-2e\" x=\"55.615234\"/>\n       <use xlink:href=\"#ArialMT-33\" x=\"83.398438\"/>\n      </g>\n     </g>\n    </g>\n    <g id=\"ytick_5\">\n     <g id=\"line2d_12\">\n      <path d=\"M 47.105 124.654848 \nL 437.705 124.654848 \n\" clip-path=\"url(#p4dc646d425)\" style=\"fill: none; stroke: #ffffff; stroke-linecap: round\"/>\n     </g>\n     <g id=\"text_13\">\n      <!-- 0.4 -->\n      <g style=\"fill: #262626\" transform=\"translate(22.315 128.591644)scale(0.11 -0.11)\">\n       <defs>\n        <path id=\"ArialMT-34\" d=\"M 2069 0 \nL 2069 1097 \nL 81 1097 \nL 81 1613 \nL 2172 4581 \nL 2631 4581 \nL 2631 1613 \nL 3250 1613 \nL 3250 1097 \nL 2631 1097 \nL 2631 0 \nL 2069 0 \nz\nM 2069 1613 \nL 2069 3678 \nL 634 1613 \nL 2069 1613 \nz\n\" transform=\"scale(0.015625)\"/>\n       </defs>\n       <use xlink:href=\"#ArialMT-30\"/>\n       <use xlink:href=\"#ArialMT-2e\" x=\"55.615234\"/>\n       <use xlink:href=\"#ArialMT-34\" x=\"83.398438\"/>\n      </g>\n     </g>\n    </g>\n    <g id=\"ytick_6\">\n     <g id=\"line2d_13\">\n      <path d=\"M 47.105 99.658559 \nL 437.705 99.658559 \n\" clip-path=\"url(#p4dc646d425)\" style=\"fill: none; stroke: #ffffff; stroke-linecap: round\"/>\n     </g>\n     <g id=\"text_14\">\n      <!-- 0.5 -->\n      <g style=\"fill: #262626\" transform=\"translate(22.315 103.595356)scale(0.11 -0.11)\">\n       <defs>\n        <path id=\"ArialMT-35\" d=\"M 266 1200 \nL 856 1250 \nQ 922 819 1161 601 \nQ 1400 384 1738 384 \nQ 2144 384 2425 690 \nQ 2706 997 2706 1503 \nQ 2706 1984 2436 2262 \nQ 2166 2541 1728 2541 \nQ 1456 2541 1237 2417 \nQ 1019 2294 894 2097 \nL 366 2166 \nL 809 4519 \nL 3088 4519 \nL 3088 3981 \nL 1259 3981 \nL 1013 2750 \nQ 1425 3038 1878 3038 \nQ 2478 3038 2890 2622 \nQ 3303 2206 3303 1553 \nQ 3303 931 2941 478 \nQ 2500 -78 1738 -78 \nQ 1113 -78 717 272 \nQ 322 622 266 1200 \nz\n\" transform=\"scale(0.015625)\"/>\n       </defs>\n       <use xlink:href=\"#ArialMT-30\"/>\n       <use xlink:href=\"#ArialMT-2e\" x=\"55.615234\"/>\n       <use xlink:href=\"#ArialMT-35\" x=\"83.398438\"/>\n      </g>\n     </g>\n    </g>\n    <g id=\"ytick_7\">\n     <g id=\"line2d_14\">\n      <path d=\"M 47.105 74.662271 \nL 437.705 74.662271 \n\" clip-path=\"url(#p4dc646d425)\" style=\"fill: none; stroke: #ffffff; stroke-linecap: round\"/>\n     </g>\n     <g id=\"text_15\">\n      <!-- 0.6 -->\n      <g style=\"fill: #262626\" transform=\"translate(22.315 78.599068)scale(0.11 -0.11)\">\n       <defs>\n        <path id=\"ArialMT-36\" d=\"M 3184 3459 \nL 2625 3416 \nQ 2550 3747 2413 3897 \nQ 2184 4138 1850 4138 \nQ 1581 4138 1378 3988 \nQ 1113 3794 959 3422 \nQ 806 3050 800 2363 \nQ 1003 2672 1297 2822 \nQ 1591 2972 1913 2972 \nQ 2475 2972 2870 2558 \nQ 3266 2144 3266 1488 \nQ 3266 1056 3080 686 \nQ 2894 316 2569 119 \nQ 2244 -78 1831 -78 \nQ 1128 -78 684 439 \nQ 241 956 241 2144 \nQ 241 3472 731 4075 \nQ 1159 4600 1884 4600 \nQ 2425 4600 2770 4297 \nQ 3116 3994 3184 3459 \nz\nM 888 1484 \nQ 888 1194 1011 928 \nQ 1134 663 1356 523 \nQ 1578 384 1822 384 \nQ 2178 384 2434 671 \nQ 2691 959 2691 1453 \nQ 2691 1928 2437 2201 \nQ 2184 2475 1800 2475 \nQ 1419 2475 1153 2201 \nQ 888 1928 888 1484 \nz\n\" transform=\"scale(0.015625)\"/>\n       </defs>\n       <use xlink:href=\"#ArialMT-30\"/>\n       <use xlink:href=\"#ArialMT-2e\" x=\"55.615234\"/>\n       <use xlink:href=\"#ArialMT-36\" x=\"83.398438\"/>\n      </g>\n     </g>\n    </g>\n    <g id=\"ytick_8\">\n     <g id=\"line2d_15\">\n      <path d=\"M 47.105 49.665983 \nL 437.705 49.665983 \n\" clip-path=\"url(#p4dc646d425)\" style=\"fill: none; stroke: #ffffff; stroke-linecap: round\"/>\n     </g>\n     <g id=\"text_16\">\n      <!-- 0.7 -->\n      <g style=\"fill: #262626\" transform=\"translate(22.315 53.60278)scale(0.11 -0.11)\">\n       <defs>\n        <path id=\"ArialMT-37\" d=\"M 303 3981 \nL 303 4522 \nL 3269 4522 \nL 3269 4084 \nQ 2831 3619 2401 2847 \nQ 1972 2075 1738 1259 \nQ 1569 684 1522 0 \nL 944 0 \nQ 953 541 1156 1306 \nQ 1359 2072 1739 2783 \nQ 2119 3494 2547 3981 \nL 303 3981 \nz\n\" transform=\"scale(0.015625)\"/>\n       </defs>\n       <use xlink:href=\"#ArialMT-30\"/>\n       <use xlink:href=\"#ArialMT-2e\" x=\"55.615234\"/>\n       <use xlink:href=\"#ArialMT-37\" x=\"83.398438\"/>\n      </g>\n     </g>\n    </g>\n    <g id=\"ytick_9\">\n     <g id=\"line2d_16\">\n      <path d=\"M 47.105 24.669695 \nL 437.705 24.669695 \n\" clip-path=\"url(#p4dc646d425)\" style=\"fill: none; stroke: #ffffff; stroke-linecap: round\"/>\n     </g>\n     <g id=\"text_17\">\n      <!-- 0.8 -->\n      <g style=\"fill: #262626\" transform=\"translate(22.315 28.606492)scale(0.11 -0.11)\">\n       <defs>\n        <path id=\"ArialMT-38\" d=\"M 1131 2484 \nQ 781 2613 612 2850 \nQ 444 3088 444 3419 \nQ 444 3919 803 4259 \nQ 1163 4600 1759 4600 \nQ 2359 4600 2725 4251 \nQ 3091 3903 3091 3403 \nQ 3091 3084 2923 2848 \nQ 2756 2613 2416 2484 \nQ 2838 2347 3058 2040 \nQ 3278 1734 3278 1309 \nQ 3278 722 2862 322 \nQ 2447 -78 1769 -78 \nQ 1091 -78 675 323 \nQ 259 725 259 1325 \nQ 259 1772 486 2073 \nQ 713 2375 1131 2484 \nz\nM 1019 3438 \nQ 1019 3113 1228 2906 \nQ 1438 2700 1772 2700 \nQ 2097 2700 2305 2904 \nQ 2513 3109 2513 3406 \nQ 2513 3716 2298 3927 \nQ 2084 4138 1766 4138 \nQ 1444 4138 1231 3931 \nQ 1019 3725 1019 3438 \nz\nM 838 1322 \nQ 838 1081 952 856 \nQ 1066 631 1291 507 \nQ 1516 384 1775 384 \nQ 2178 384 2440 643 \nQ 2703 903 2703 1303 \nQ 2703 1709 2433 1975 \nQ 2163 2241 1756 2241 \nQ 1359 2241 1098 1978 \nQ 838 1716 838 1322 \nz\n\" transform=\"scale(0.015625)\"/>\n       </defs>\n       <use xlink:href=\"#ArialMT-30\"/>\n       <use xlink:href=\"#ArialMT-2e\" x=\"55.615234\"/>\n       <use xlink:href=\"#ArialMT-38\" x=\"83.398438\"/>\n      </g>\n     </g>\n    </g>\n    <g id=\"text_18\">\n     <!-- Density -->\n     <g style=\"fill: #262626\" transform=\"translate(15.789375 135.92625)rotate(-90)scale(0.12 -0.12)\">\n      <defs>\n       <path id=\"ArialMT-44\" d=\"M 494 0 \nL 494 4581 \nL 2072 4581 \nQ 2606 4581 2888 4516 \nQ 3281 4425 3559 4188 \nQ 3922 3881 4101 3404 \nQ 4281 2928 4281 2316 \nQ 4281 1794 4159 1391 \nQ 4038 988 3847 723 \nQ 3656 459 3429 307 \nQ 3203 156 2883 78 \nQ 2563 0 2147 0 \nL 494 0 \nz\nM 1100 541 \nL 2078 541 \nQ 2531 541 2789 625 \nQ 3047 709 3200 863 \nQ 3416 1078 3536 1442 \nQ 3656 1806 3656 2325 \nQ 3656 3044 3420 3430 \nQ 3184 3816 2847 3947 \nQ 2603 4041 2063 4041 \nL 1100 4041 \nL 1100 541 \nz\n\" transform=\"scale(0.015625)\"/>\n       <path id=\"ArialMT-79\" d=\"M 397 -1278 \nL 334 -750 \nQ 519 -800 656 -800 \nQ 844 -800 956 -737 \nQ 1069 -675 1141 -563 \nQ 1194 -478 1313 -144 \nQ 1328 -97 1363 -6 \nL 103 3319 \nL 709 3319 \nL 1400 1397 \nQ 1534 1031 1641 628 \nQ 1738 1016 1872 1384 \nL 2581 3319 \nL 3144 3319 \nL 1881 -56 \nQ 1678 -603 1566 -809 \nQ 1416 -1088 1222 -1217 \nQ 1028 -1347 759 -1347 \nQ 597 -1347 397 -1278 \nz\n\" transform=\"scale(0.015625)\"/>\n      </defs>\n      <use xlink:href=\"#ArialMT-44\"/>\n      <use xlink:href=\"#ArialMT-65\" x=\"72.216797\"/>\n      <use xlink:href=\"#ArialMT-6e\" x=\"127.832031\"/>\n      <use xlink:href=\"#ArialMT-73\" x=\"183.447266\"/>\n      <use xlink:href=\"#ArialMT-69\" x=\"233.447266\"/>\n      <use xlink:href=\"#ArialMT-74\" x=\"255.664062\"/>\n      <use xlink:href=\"#ArialMT-79\" x=\"283.447266\"/>\n     </g>\n    </g>\n   </g>\n   <g id=\"PolyCollection_1\">\n    <defs>\n     <path id=\"m698232a257\" d=\"M 108.296657 -41.741622 \nL 108.296657 -41.734219 \nL 109.707406 -41.734219 \nL 111.118155 -41.734219 \nL 112.528903 -41.734219 \nL 113.939652 -41.734219 \nL 115.350401 -41.734219 \nL 116.76115 -41.734219 \nL 118.171898 -41.734219 \nL 119.582647 -41.734219 \nL 120.993396 -41.734219 \nL 122.404145 -41.734219 \nL 123.814893 -41.734219 \nL 125.225642 -41.734219 \nL 126.636391 -41.734219 \nL 128.04714 -41.734219 \nL 129.457889 -41.734219 \nL 130.868637 -41.734219 \nL 132.279386 -41.734219 \nL 133.690135 -41.734219 \nL 135.100884 -41.734219 \nL 136.511632 -41.734219 \nL 137.922381 -41.734219 \nL 139.33313 -41.734219 \nL 140.743879 -41.734219 \nL 142.154627 -41.734219 \nL 143.565376 -41.734219 \nL 144.976125 -41.734219 \nL 146.386874 -41.734219 \nL 147.797622 -41.734219 \nL 149.208371 -41.734219 \nL 150.61912 -41.734219 \nL 152.029869 -41.734219 \nL 153.440617 -41.734219 \nL 154.851366 -41.734219 \nL 156.262115 -41.734219 \nL 157.672864 -41.734219 \nL 159.083612 -41.734219 \nL 160.494361 -41.734219 \nL 161.90511 -41.734219 \nL 163.315859 -41.734219 \nL 164.726607 -41.734219 \nL 166.137356 -41.734219 \nL 167.548105 -41.734219 \nL 168.958854 -41.734219 \nL 170.369602 -41.734219 \nL 171.780351 -41.734219 \nL 173.1911 -41.734219 \nL 174.601849 -41.734219 \nL 176.012598 -41.734219 \nL 177.423346 -41.734219 \nL 178.834095 -41.734219 \nL 180.244844 -41.734219 \nL 181.655593 -41.734219 \nL 183.066341 -41.734219 \nL 184.47709 -41.734219 \nL 185.887839 -41.734219 \nL 187.298588 -41.734219 \nL 188.709336 -41.734219 \nL 190.120085 -41.734219 \nL 191.530834 -41.734219 \nL 192.941583 -41.734219 \nL 194.352331 -41.734219 \nL 195.76308 -41.734219 \nL 197.173829 -41.734219 \nL 198.584578 -41.734219 \nL 199.995326 -41.734219 \nL 201.406075 -41.734219 \nL 202.816824 -41.734219 \nL 204.227573 -41.734219 \nL 205.638321 -41.734219 \nL 207.04907 -41.734219 \nL 208.459819 -41.734219 \nL 209.870568 -41.734219 \nL 211.281316 -41.734219 \nL 212.692065 -41.734219 \nL 214.102814 -41.734219 \nL 215.513563 -41.734219 \nL 216.924311 -41.734219 \nL 218.33506 -41.734219 \nL 219.745809 -41.734219 \nL 221.156558 -41.734219 \nL 222.567307 -41.734219 \nL 223.978055 -41.734219 \nL 225.388804 -41.734219 \nL 226.799553 -41.734219 \nL 228.210302 -41.734219 \nL 229.62105 -41.734219 \nL 231.031799 -41.734219 \nL 232.442548 -41.734219 \nL 233.853297 -41.734219 \nL 235.264045 -41.734219 \nL 236.674794 -41.734219 \nL 238.085543 -41.734219 \nL 239.496292 -41.734219 \nL 240.90704 -41.734219 \nL 242.317789 -41.734219 \nL 243.728538 -41.734219 \nL 245.139287 -41.734219 \nL 246.550035 -41.734219 \nL 247.960784 -41.734219 \nL 249.371533 -41.734219 \nL 250.782282 -41.734219 \nL 252.19303 -41.734219 \nL 253.603779 -41.734219 \nL 255.014528 -41.734219 \nL 256.425277 -41.734219 \nL 257.836025 -41.734219 \nL 259.246774 -41.734219 \nL 260.657523 -41.734219 \nL 262.068272 -41.734219 \nL 263.47902 -41.734219 \nL 264.889769 -41.734219 \nL 266.300518 -41.734219 \nL 267.711267 -41.734219 \nL 269.122016 -41.734219 \nL 270.532764 -41.734219 \nL 271.943513 -41.734219 \nL 273.354262 -41.734219 \nL 274.765011 -41.734219 \nL 276.175759 -41.734219 \nL 277.586508 -41.734219 \nL 278.997257 -41.734219 \nL 280.408006 -41.734219 \nL 281.818754 -41.734219 \nL 283.229503 -41.734219 \nL 284.640252 -41.734219 \nL 286.051001 -41.734219 \nL 287.461749 -41.734219 \nL 288.872498 -41.734219 \nL 290.283247 -41.734219 \nL 291.693996 -41.734219 \nL 293.104744 -41.734219 \nL 294.515493 -41.734219 \nL 295.926242 -41.734219 \nL 297.336991 -41.734219 \nL 298.747739 -41.734219 \nL 300.158488 -41.734219 \nL 301.569237 -41.734219 \nL 302.979986 -41.734219 \nL 304.390734 -41.734219 \nL 305.801483 -41.734219 \nL 307.212232 -41.734219 \nL 308.622981 -41.734219 \nL 310.03373 -41.734219 \nL 311.444478 -41.734219 \nL 312.855227 -41.734219 \nL 314.265976 -41.734219 \nL 315.676725 -41.734219 \nL 317.087473 -41.734219 \nL 318.498222 -41.734219 \nL 319.908971 -41.734219 \nL 321.31972 -41.734219 \nL 322.730468 -41.734219 \nL 324.141217 -41.734219 \nL 325.551966 -41.734219 \nL 326.962715 -41.734219 \nL 328.373463 -41.734219 \nL 329.784212 -41.734219 \nL 331.194961 -41.734219 \nL 332.60571 -41.734219 \nL 334.016458 -41.734219 \nL 335.427207 -41.734219 \nL 336.837956 -41.734219 \nL 338.248705 -41.734219 \nL 339.659453 -41.734219 \nL 341.070202 -41.734219 \nL 342.480951 -41.734219 \nL 343.8917 -41.734219 \nL 345.302448 -41.734219 \nL 346.713197 -41.734219 \nL 348.123946 -41.734219 \nL 349.534695 -41.734219 \nL 350.945443 -41.734219 \nL 352.356192 -41.734219 \nL 353.766941 -41.734219 \nL 355.17769 -41.734219 \nL 356.588439 -41.734219 \nL 357.999187 -41.734219 \nL 359.409936 -41.734219 \nL 360.820685 -41.734219 \nL 362.231434 -41.734219 \nL 363.642182 -41.734219 \nL 365.052931 -41.734219 \nL 366.46368 -41.734219 \nL 367.874429 -41.734219 \nL 369.285177 -41.734219 \nL 370.695926 -41.734219 \nL 372.106675 -41.734219 \nL 373.517424 -41.734219 \nL 374.928172 -41.734219 \nL 376.338921 -41.734219 \nL 377.74967 -41.734219 \nL 379.160419 -41.734219 \nL 380.571167 -41.734219 \nL 381.981916 -41.734219 \nL 383.392665 -41.734219 \nL 384.803414 -41.734219 \nL 386.214162 -41.734219 \nL 387.624911 -41.734219 \nL 389.03566 -41.734219 \nL 389.03566 -41.751131 \nL 389.03566 -41.751131 \nL 387.624911 -41.767472 \nL 386.214162 -41.796322 \nL 384.803414 -41.844451 \nL 383.392665 -41.920307 \nL 381.981916 -42.033264 \nL 380.571167 -42.192194 \nL 379.160419 -42.403532 \nL 377.74967 -42.669257 \nL 376.338921 -42.985423 \nL 374.928172 -43.34187 \nL 373.517424 -43.723434 \nL 372.106675 -44.112493 \nL 370.695926 -44.492207 \nL 369.285177 -44.849518 \nL 367.874429 -45.177097 \nL 366.46368 -45.473832 \nL 365.052931 -45.743968 \nL 363.642182 -45.99543 \nL 362.231434 -46.237978 \nL 360.820685 -46.481734 \nL 359.409936 -46.736243 \nL 357.999187 -47.009979 \nL 356.588439 -47.309973 \nL 355.17769 -47.641279 \nL 353.766941 -48.006224 \nL 352.356192 -48.403643 \nL 350.945443 -48.82851 \nL 349.534695 -49.272366 \nL 348.123946 -49.724668 \nL 346.713197 -50.174828 \nL 345.302448 -50.614351 \nL 343.8917 -51.038413 \nL 342.480951 -51.446422 \nL 341.070202 -51.841535 \nL 339.659453 -52.229496 \nL 338.248705 -52.617389 \nL 336.837956 -53.012806 \nL 335.427207 -53.423649 \nL 334.016458 -53.858425 \nL 332.60571 -54.326571 \nL 331.194961 -54.838329 \nL 329.784212 -55.403809 \nL 328.373463 -56.031264 \nL 326.962715 -56.724977 \nL 325.551966 -57.483448 \nL 324.141217 -58.298581 \nL 322.730468 -59.15638 \nL 321.31972 -60.039265 \nL 319.908971 -60.929759 \nL 318.498222 -61.814956 \nL 317.087473 -62.690916 \nL 315.676725 -63.565974 \nL 314.265976 -64.461819 \nL 312.855227 -65.41148 \nL 311.444478 -66.45398 \nL 310.03373 -67.626561 \nL 308.622981 -68.956491 \nL 307.212232 -70.455077 \nL 305.801483 -72.116119 \nL 304.390734 -73.919641 \nL 302.979986 -75.839817 \nL 301.569237 -77.854486 \nL 300.158488 -79.953055 \nL 298.747739 -82.140283 \nL 297.336991 -84.434938 \nL 295.926242 -86.86392 \nL 294.515493 -89.453593 \nL 293.104744 -92.220546 \nL 291.693996 -95.163982 \nL 290.283247 -98.261682 \nL 288.872498 -101.471102 \nL 287.461749 -104.736391 \nL 286.051001 -108.00076 \nL 284.640252 -111.221689 \nL 283.229503 -114.384647 \nL 281.818754 -117.510215 \nL 280.408006 -120.650805 \nL 278.997257 -123.876449 \nL 277.586508 -127.253358 \nL 276.175759 -130.822261 \nL 274.765011 -134.584255 \nL 273.354262 -138.499508 \nL 271.943513 -142.499579 \nL 270.532764 -146.50937 \nL 269.122016 -150.471885 \nL 267.711267 -154.369034 \nL 266.300518 -158.234333 \nL 264.889769 -162.156646 \nL 263.47902 -166.276403 \nL 262.068272 -170.775806 \nL 260.657523 -175.862735 \nL 259.246774 -181.745683 \nL 257.836025 -188.596035 \nL 256.425277 -196.495996 \nL 255.014528 -205.376354 \nL 253.603779 -214.956956 \nL 252.19303 -224.71119 \nL 250.782282 -233.878748 \nL 249.371533 -241.543891 \nL 247.960784 -246.777964 \nL 246.550035 -248.819933 \nL 245.139287 -247.247506 \nL 243.728538 -242.085617 \nL 242.317789 -233.814534 \nL 240.90704 -223.272164 \nL 239.496292 -211.480727 \nL 238.085543 -199.451086 \nL 236.674794 -188.019312 \nL 235.264045 -177.751504 \nL 233.853297 -168.925009 \nL 232.442548 -161.569951 \nL 231.031799 -155.54277 \nL 229.62105 -150.604152 \nL 228.210302 -146.482921 \nL 226.799553 -142.918645 \nL 225.388804 -139.68436 \nL 223.978055 -136.59512 \nL 222.567307 -133.508734 \nL 221.156558 -130.323606 \nL 219.745809 -126.976481 \nL 218.33506 -123.441003 \nL 216.924311 -119.726579 \nL 215.513563 -115.876195 \nL 214.102814 -111.961418 \nL 212.692065 -108.073134 \nL 211.281316 -104.307579 \nL 209.870568 -100.749115 \nL 208.459819 -97.453264 \nL 207.04907 -94.434846 \nL 205.638321 -91.665553 \nL 204.227573 -89.082832 \nL 202.816824 -86.608131 \nL 201.406075 -84.169144 \nL 199.995326 -81.719222 \nL 198.584578 -79.248239 \nL 197.173829 -76.782517 \nL 195.76308 -74.37521 \nL 194.352331 -72.091365 \nL 192.941583 -69.992608 \nL 191.530834 -68.125302 \nL 190.120085 -66.513979 \nL 188.709336 -65.159919 \nL 187.298588 -64.04362 \nL 185.887839 -63.129559 \nL 184.47709 -62.371908 \nL 183.066341 -61.720286 \nL 181.655593 -61.125008 \nL 180.244844 -60.54159 \nL 178.834095 -59.934382 \nL 177.423346 -59.279292 \nL 176.012598 -58.565496 \nL 174.601849 -57.795993 \nL 173.1911 -56.98687 \nL 171.780351 -56.16516 \nL 170.369602 -55.365289 \nL 168.958854 -54.624235 \nL 167.548105 -53.975684 \nL 166.137356 -53.443877 \nL 164.726607 -53.038229 \nL 163.315859 -52.750147 \nL 161.90511 -52.553325 \nL 160.494361 -52.408053 \nL 159.083612 -52.268859 \nL 157.672864 -52.093551 \nL 156.262115 -51.85116 \nL 154.851366 -51.526576 \nL 153.440617 -51.120882 \nL 152.029869 -50.64785 \nL 150.61912 -50.128275 \nL 149.208371 -49.584143 \nL 147.797622 -49.034279 \nL 146.386874 -48.492197 \nL 144.976125 -47.966028 \nL 143.565376 -47.459794 \nL 142.154627 -46.975162 \nL 140.743879 -46.512984 \nL 139.33313 -46.074216 \nL 137.922381 -45.660152 \nL 136.511632 -45.272084 \nL 135.100884 -44.910666 \nL 133.690135 -44.575299 \nL 132.279386 -44.263829 \nL 130.868637 -43.972766 \nL 129.457889 -43.698046 \nL 128.04714 -43.436134 \nL 126.636391 -43.185115 \nL 125.225642 -42.945386 \nL 123.814893 -42.719665 \nL 122.404145 -42.512295 \nL 120.993396 -42.328032 \nL 119.582647 -42.170748 \nL 118.171898 -42.042417 \nL 116.76115 -41.94268 \nL 115.350401 -41.869027 \nL 113.939652 -41.817428 \nL 112.528903 -41.783175 \nL 111.118155 -41.761643 \nL 109.707406 -41.748833 \nL 108.296657 -41.741622 \nz\n\" style=\"stroke: #c44e52\"/>\n    </defs>\n    <g clip-path=\"url(#p4dc646d425)\">\n     <use xlink:href=\"#m698232a257\" x=\"0\" y=\"266.374219\" style=\"fill: #c44e52; fill-opacity: 0.25; stroke: #c44e52\"/>\n    </g>\n   </g>\n   <g id=\"PolyCollection_2\">\n    <defs>\n     <path id=\"md52bb509ed\" d=\"M 86.045944 -41.754282 \nL 86.045944 -41.734219 \nL 87.554465 -41.734219 \nL 89.062987 -41.734219 \nL 90.571508 -41.734219 \nL 92.08003 -41.734219 \nL 93.588552 -41.734219 \nL 95.097073 -41.734219 \nL 96.605595 -41.734219 \nL 98.114116 -41.734219 \nL 99.622638 -41.734219 \nL 101.131159 -41.734219 \nL 102.639681 -41.734219 \nL 104.148203 -41.734219 \nL 105.656724 -41.734219 \nL 107.165246 -41.734219 \nL 108.673767 -41.734219 \nL 110.182289 -41.734219 \nL 111.690811 -41.734219 \nL 113.199332 -41.734219 \nL 114.707854 -41.734219 \nL 116.216375 -41.734219 \nL 117.724897 -41.734219 \nL 119.233419 -41.734219 \nL 120.74194 -41.734219 \nL 122.250462 -41.734219 \nL 123.758983 -41.734219 \nL 125.267505 -41.734219 \nL 126.776026 -41.734219 \nL 128.284548 -41.734219 \nL 129.79307 -41.734219 \nL 131.301591 -41.734219 \nL 132.810113 -41.734219 \nL 134.318634 -41.734219 \nL 135.827156 -41.734219 \nL 137.335678 -41.734219 \nL 138.844199 -41.734219 \nL 140.352721 -41.734219 \nL 141.861242 -41.734219 \nL 143.369764 -41.734219 \nL 144.878285 -41.734219 \nL 146.386807 -41.734219 \nL 147.895329 -41.734219 \nL 149.40385 -41.734219 \nL 150.912372 -41.734219 \nL 152.420893 -41.734219 \nL 153.929415 -41.734219 \nL 155.437937 -41.734219 \nL 156.946458 -41.734219 \nL 158.45498 -41.734219 \nL 159.963501 -41.734219 \nL 161.472023 -41.734219 \nL 162.980545 -41.734219 \nL 164.489066 -41.734219 \nL 165.997588 -41.734219 \nL 167.506109 -41.734219 \nL 169.014631 -41.734219 \nL 170.523152 -41.734219 \nL 172.031674 -41.734219 \nL 173.540196 -41.734219 \nL 175.048717 -41.734219 \nL 176.557239 -41.734219 \nL 178.06576 -41.734219 \nL 179.574282 -41.734219 \nL 181.082804 -41.734219 \nL 182.591325 -41.734219 \nL 184.099847 -41.734219 \nL 185.608368 -41.734219 \nL 187.11689 -41.734219 \nL 188.625411 -41.734219 \nL 190.133933 -41.734219 \nL 191.642455 -41.734219 \nL 193.150976 -41.734219 \nL 194.659498 -41.734219 \nL 196.168019 -41.734219 \nL 197.676541 -41.734219 \nL 199.185063 -41.734219 \nL 200.693584 -41.734219 \nL 202.202106 -41.734219 \nL 203.710627 -41.734219 \nL 205.219149 -41.734219 \nL 206.727671 -41.734219 \nL 208.236192 -41.734219 \nL 209.744714 -41.734219 \nL 211.253235 -41.734219 \nL 212.761757 -41.734219 \nL 214.270278 -41.734219 \nL 215.7788 -41.734219 \nL 217.287322 -41.734219 \nL 218.795843 -41.734219 \nL 220.304365 -41.734219 \nL 221.812886 -41.734219 \nL 223.321408 -41.734219 \nL 224.82993 -41.734219 \nL 226.338451 -41.734219 \nL 227.846973 -41.734219 \nL 229.355494 -41.734219 \nL 230.864016 -41.734219 \nL 232.372537 -41.734219 \nL 233.881059 -41.734219 \nL 235.389581 -41.734219 \nL 236.898102 -41.734219 \nL 238.406624 -41.734219 \nL 239.915145 -41.734219 \nL 241.423667 -41.734219 \nL 242.932189 -41.734219 \nL 244.44071 -41.734219 \nL 245.949232 -41.734219 \nL 247.457753 -41.734219 \nL 248.966275 -41.734219 \nL 250.474797 -41.734219 \nL 251.983318 -41.734219 \nL 253.49184 -41.734219 \nL 255.000361 -41.734219 \nL 256.508883 -41.734219 \nL 258.017404 -41.734219 \nL 259.525926 -41.734219 \nL 261.034448 -41.734219 \nL 262.542969 -41.734219 \nL 264.051491 -41.734219 \nL 265.560012 -41.734219 \nL 267.068534 -41.734219 \nL 268.577056 -41.734219 \nL 270.085577 -41.734219 \nL 271.594099 -41.734219 \nL 273.10262 -41.734219 \nL 274.611142 -41.734219 \nL 276.119663 -41.734219 \nL 277.628185 -41.734219 \nL 279.136707 -41.734219 \nL 280.645228 -41.734219 \nL 282.15375 -41.734219 \nL 283.662271 -41.734219 \nL 285.170793 -41.734219 \nL 286.679315 -41.734219 \nL 288.187836 -41.734219 \nL 289.696358 -41.734219 \nL 291.204879 -41.734219 \nL 292.713401 -41.734219 \nL 294.221923 -41.734219 \nL 295.730444 -41.734219 \nL 297.238966 -41.734219 \nL 298.747487 -41.734219 \nL 300.256009 -41.734219 \nL 301.76453 -41.734219 \nL 303.273052 -41.734219 \nL 304.781574 -41.734219 \nL 306.290095 -41.734219 \nL 307.798617 -41.734219 \nL 309.307138 -41.734219 \nL 310.81566 -41.734219 \nL 312.324182 -41.734219 \nL 313.832703 -41.734219 \nL 315.341225 -41.734219 \nL 316.849746 -41.734219 \nL 318.358268 -41.734219 \nL 319.86679 -41.734219 \nL 321.375311 -41.734219 \nL 322.883833 -41.734219 \nL 324.392354 -41.734219 \nL 325.900876 -41.734219 \nL 327.409397 -41.734219 \nL 328.917919 -41.734219 \nL 330.426441 -41.734219 \nL 331.934962 -41.734219 \nL 333.443484 -41.734219 \nL 334.952005 -41.734219 \nL 336.460527 -41.734219 \nL 337.969049 -41.734219 \nL 339.47757 -41.734219 \nL 340.986092 -41.734219 \nL 342.494613 -41.734219 \nL 344.003135 -41.734219 \nL 345.511656 -41.734219 \nL 347.020178 -41.734219 \nL 348.5287 -41.734219 \nL 350.037221 -41.734219 \nL 351.545743 -41.734219 \nL 353.054264 -41.734219 \nL 354.562786 -41.734219 \nL 356.071308 -41.734219 \nL 357.579829 -41.734219 \nL 359.088351 -41.734219 \nL 360.596872 -41.734219 \nL 362.105394 -41.734219 \nL 363.613916 -41.734219 \nL 365.122437 -41.734219 \nL 366.630959 -41.734219 \nL 368.13948 -41.734219 \nL 369.648002 -41.734219 \nL 371.156523 -41.734219 \nL 372.665045 -41.734219 \nL 374.173567 -41.734219 \nL 375.682088 -41.734219 \nL 377.19061 -41.734219 \nL 378.699131 -41.734219 \nL 380.207653 -41.734219 \nL 381.716175 -41.734219 \nL 383.224696 -41.734219 \nL 384.733218 -41.734219 \nL 386.241739 -41.734219 \nL 386.241739 -41.74146 \nL 386.241739 -41.74146 \nL 384.733218 -41.747592 \nL 383.224696 -41.757919 \nL 381.716175 -41.774548 \nL 380.207653 -41.80015 \nL 378.699131 -41.837847 \nL 377.19061 -41.890948 \nL 375.682088 -41.962556 \nL 374.173567 -42.055086 \nL 372.665045 -42.169814 \nL 371.156523 -42.306584 \nL 369.648002 -42.463789 \nL 368.13948 -42.638676 \nL 366.630959 -42.827913 \nL 365.122437 -43.02827 \nL 363.613916 -43.237202 \nL 362.105394 -43.453146 \nL 360.596872 -43.675447 \nL 359.088351 -43.903943 \nL 357.579829 -44.138413 \nL 356.071308 -44.378098 \nL 354.562786 -44.621554 \nL 353.054264 -44.866938 \nL 351.545743 -45.112704 \nL 350.037221 -45.358555 \nL 348.5287 -45.606377 \nL 347.020178 -45.860877 \nL 345.511656 -46.129703 \nL 344.003135 -46.422935 \nL 342.494613 -46.752017 \nL 340.986092 -47.128325 \nL 339.47757 -47.561696 \nL 337.969049 -48.059246 \nL 336.460527 -48.624723 \nL 334.952005 -49.258498 \nL 333.443484 -49.958136 \nL 331.934962 -50.71932 \nL 330.426441 -51.536889 \nL 328.917919 -52.405749 \nL 327.409397 -53.321535 \nL 325.900876 -54.280976 \nL 324.392354 -55.282008 \nL 322.883833 -56.323679 \nL 321.375311 -57.405903 \nL 319.86679 -58.529079 \nL 318.358268 -59.693636 \nL 316.849746 -60.899561 \nL 315.341225 -62.14606 \nL 313.832703 -63.43147 \nL 312.324182 -64.753524 \nL 310.81566 -66.109952 \nL 309.307138 -67.499288 \nL 307.798617 -68.921646 \nL 306.290095 -70.379242 \nL 304.781574 -71.8765 \nL 303.273052 -73.419768 \nL 301.76453 -75.016795 \nL 300.256009 -76.676234 \nL 298.747487 -78.407401 \nL 297.238966 -80.220384 \nL 295.730444 -82.126372 \nL 294.221923 -84.13792 \nL 292.713401 -86.268775 \nL 291.204879 -88.532958 \nL 289.696358 -90.943023 \nL 288.187836 -93.507701 \nL 286.679315 -96.229457 \nL 285.170793 -99.102632 \nL 283.662271 -102.112892 \nL 282.15375 -105.238441 \nL 280.645228 -108.453064 \nL 279.136707 -111.730549 \nL 277.628185 -115.049624 \nL 276.119663 -118.398286 \nL 274.611142 -121.77655 \nL 273.10262 -125.196977 \nL 271.594099 -128.683006 \nL 270.085577 -132.265675 \nL 268.577056 -135.97975 \nL 267.068534 -139.860365 \nL 265.560012 -143.940909 \nL 264.051491 -148.252144 \nL 262.542969 -152.82157 \nL 261.034448 -157.67113 \nL 259.525926 -162.811079 \nL 258.017404 -168.228512 \nL 256.508883 -173.87104 \nL 255.000361 -179.628868 \nL 253.49184 -185.321337 \nL 251.983318 -190.695224 \nL 250.474797 -195.440773 \nL 248.966275 -199.227121 \nL 247.457753 -201.752533 \nL 245.949232 -202.798853 \nL 244.44071 -202.276332 \nL 242.932189 -200.246144 \nL 241.423667 -196.913549 \nL 239.915145 -192.592832 \nL 238.406624 -187.652963 \nL 236.898102 -182.457653 \nL 235.389581 -177.313703 \nL 233.881059 -172.437694 \nL 232.372537 -167.945036 \nL 230.864016 -163.85929 \nL 229.355494 -160.135497 \nL 227.846973 -156.689519 \nL 226.338451 -153.426134 \nL 224.82993 -150.260777 \nL 223.321408 -147.132563 \nL 221.812886 -144.008698 \nL 220.304365 -140.882084 \nL 218.795843 -137.764718 \nL 217.287322 -134.679453 \nL 215.7788 -131.652023 \nL 214.270278 -128.704427 \nL 212.761757 -125.850032 \nL 211.253235 -123.090381 \nL 209.744714 -120.413676 \nL 208.236192 -117.795111 \nL 206.727671 -115.199293 \nL 205.219149 -112.584912 \nL 203.710627 -109.911306 \nL 202.202106 -107.146038 \nL 200.693584 -104.272054 \nL 199.185063 -101.292878 \nL 197.676541 -98.234591 \nL 196.168019 -95.143986 \nL 194.659498 -92.083133 \nL 193.150976 -89.121301 \nL 191.642455 -86.325714 \nL 190.133933 -83.752714 \nL 188.625411 -81.440808 \nL 187.11689 -79.406603 \nL 185.608368 -77.64412 \nL 184.099847 -76.127351 \nL 182.591325 -74.815421 \nL 181.082804 -73.659324 \nL 179.574282 -72.609058 \nL 178.06576 -71.620025 \nL 176.557239 -70.657786 \nL 175.048717 -69.7006 \nL 173.540196 -68.739593 \nL 172.031674 -67.776792 \nL 170.523152 -66.821584 \nL 169.014631 -65.886401 \nL 167.506109 -64.982508 \nL 165.997588 -64.116676 \nL 164.489066 -63.289307 \nL 162.980545 -62.494272 \nL 161.472023 -61.72036 \nL 159.963501 -60.953922 \nL 158.45498 -60.182103 \nL 156.946458 -59.395928 \nL 155.437937 -58.592609 \nL 153.929415 -57.776592 \nL 152.420893 -56.959146 \nL 150.912372 -56.156571 \nL 149.40385 -55.387371 \nL 147.895329 -54.668948 \nL 146.386807 -54.014459 \nL 144.878285 -53.43046 \nL 143.369764 -52.915851 \nL 141.861242 -52.462354 \nL 140.352721 -52.056456 \nL 138.844199 -51.682411 \nL 137.335678 -51.325644 \nL 135.827156 -50.975744 \nL 134.318634 -50.628338 \nL 132.810113 -50.285333 \nL 131.301591 -49.953456 \nL 129.79307 -49.641448 \nL 128.284548 -49.356687 \nL 126.776026 -49.102205 \nL 125.267505 -48.874982 \nL 123.758983 -48.666013 \nL 122.250462 -48.462086 \nL 120.74194 -48.248641 \nL 119.233419 -48.012755 \nL 117.724897 -47.745317 \nL 116.216375 -47.441858 \nL 114.707854 -47.102065 \nL 113.199332 -46.728488 \nL 111.690811 -46.325219 \nL 110.182289 -45.897146 \nL 108.673767 -45.450005 \nL 107.165246 -44.990992 \nL 105.656724 -44.529369 \nL 104.148203 -44.076547 \nL 102.639681 -43.64531 \nL 101.131159 -43.248321 \nL 99.622638 -42.896306 \nL 98.114116 -42.596478 \nL 96.605595 -42.351662 \nL 95.097073 -42.160295 \nL 93.588552 -42.017224 \nL 92.08003 -41.914977 \nL 90.571508 -41.845151 \nL 89.062987 -41.799592 \nL 87.554465 -41.771194 \nL 86.045944 -41.754282 \nz\n\" style=\"stroke: #55a868\"/>\n    </defs>\n    <g clip-path=\"url(#p4dc646d425)\">\n     <use xlink:href=\"#md52bb509ed\" x=\"0\" y=\"266.374219\" style=\"fill: #55a868; fill-opacity: 0.25; stroke: #55a868\"/>\n    </g>\n   </g>\n   <g id=\"PolyCollection_3\">\n    <defs>\n     <path id=\"m928f287c8b\" d=\"M 64.859545 -41.740824 \nL 64.859545 -41.734219 \nL 66.643922 -41.734219 \nL 68.428298 -41.734219 \nL 70.212675 -41.734219 \nL 71.997051 -41.734219 \nL 73.781428 -41.734219 \nL 75.565804 -41.734219 \nL 77.35018 -41.734219 \nL 79.134557 -41.734219 \nL 80.918933 -41.734219 \nL 82.70331 -41.734219 \nL 84.487686 -41.734219 \nL 86.272063 -41.734219 \nL 88.056439 -41.734219 \nL 89.840815 -41.734219 \nL 91.625192 -41.734219 \nL 93.409568 -41.734219 \nL 95.193945 -41.734219 \nL 96.978321 -41.734219 \nL 98.762698 -41.734219 \nL 100.547074 -41.734219 \nL 102.33145 -41.734219 \nL 104.115827 -41.734219 \nL 105.900203 -41.734219 \nL 107.68458 -41.734219 \nL 109.468956 -41.734219 \nL 111.253333 -41.734219 \nL 113.037709 -41.734219 \nL 114.822085 -41.734219 \nL 116.606462 -41.734219 \nL 118.390838 -41.734219 \nL 120.175215 -41.734219 \nL 121.959591 -41.734219 \nL 123.743968 -41.734219 \nL 125.528344 -41.734219 \nL 127.31272 -41.734219 \nL 129.097097 -41.734219 \nL 130.881473 -41.734219 \nL 132.66585 -41.734219 \nL 134.450226 -41.734219 \nL 136.234603 -41.734219 \nL 138.018979 -41.734219 \nL 139.803355 -41.734219 \nL 141.587732 -41.734219 \nL 143.372108 -41.734219 \nL 145.156485 -41.734219 \nL 146.940861 -41.734219 \nL 148.725238 -41.734219 \nL 150.509614 -41.734219 \nL 152.29399 -41.734219 \nL 154.078367 -41.734219 \nL 155.862743 -41.734219 \nL 157.64712 -41.734219 \nL 159.431496 -41.734219 \nL 161.215873 -41.734219 \nL 163.000249 -41.734219 \nL 164.784625 -41.734219 \nL 166.569002 -41.734219 \nL 168.353378 -41.734219 \nL 170.137755 -41.734219 \nL 171.922131 -41.734219 \nL 173.706508 -41.734219 \nL 175.490884 -41.734219 \nL 177.27526 -41.734219 \nL 179.059637 -41.734219 \nL 180.844013 -41.734219 \nL 182.62839 -41.734219 \nL 184.412766 -41.734219 \nL 186.197143 -41.734219 \nL 187.981519 -41.734219 \nL 189.765895 -41.734219 \nL 191.550272 -41.734219 \nL 193.334648 -41.734219 \nL 195.119025 -41.734219 \nL 196.903401 -41.734219 \nL 198.687778 -41.734219 \nL 200.472154 -41.734219 \nL 202.25653 -41.734219 \nL 204.040907 -41.734219 \nL 205.825283 -41.734219 \nL 207.60966 -41.734219 \nL 209.394036 -41.734219 \nL 211.178413 -41.734219 \nL 212.962789 -41.734219 \nL 214.747165 -41.734219 \nL 216.531542 -41.734219 \nL 218.315918 -41.734219 \nL 220.100295 -41.734219 \nL 221.884671 -41.734219 \nL 223.669048 -41.734219 \nL 225.453424 -41.734219 \nL 227.2378 -41.734219 \nL 229.022177 -41.734219 \nL 230.806553 -41.734219 \nL 232.59093 -41.734219 \nL 234.375306 -41.734219 \nL 236.159683 -41.734219 \nL 237.944059 -41.734219 \nL 239.728435 -41.734219 \nL 241.512812 -41.734219 \nL 243.297188 -41.734219 \nL 245.081565 -41.734219 \nL 246.865941 -41.734219 \nL 248.650317 -41.734219 \nL 250.434694 -41.734219 \nL 252.21907 -41.734219 \nL 254.003447 -41.734219 \nL 255.787823 -41.734219 \nL 257.5722 -41.734219 \nL 259.356576 -41.734219 \nL 261.140952 -41.734219 \nL 262.925329 -41.734219 \nL 264.709705 -41.734219 \nL 266.494082 -41.734219 \nL 268.278458 -41.734219 \nL 270.062835 -41.734219 \nL 271.847211 -41.734219 \nL 273.631587 -41.734219 \nL 275.415964 -41.734219 \nL 277.20034 -41.734219 \nL 278.984717 -41.734219 \nL 280.769093 -41.734219 \nL 282.55347 -41.734219 \nL 284.337846 -41.734219 \nL 286.122222 -41.734219 \nL 287.906599 -41.734219 \nL 289.690975 -41.734219 \nL 291.475352 -41.734219 \nL 293.259728 -41.734219 \nL 295.044105 -41.734219 \nL 296.828481 -41.734219 \nL 298.612857 -41.734219 \nL 300.397234 -41.734219 \nL 302.18161 -41.734219 \nL 303.965987 -41.734219 \nL 305.750363 -41.734219 \nL 307.53474 -41.734219 \nL 309.319116 -41.734219 \nL 311.103492 -41.734219 \nL 312.887869 -41.734219 \nL 314.672245 -41.734219 \nL 316.456622 -41.734219 \nL 318.240998 -41.734219 \nL 320.025375 -41.734219 \nL 321.809751 -41.734219 \nL 323.594127 -41.734219 \nL 325.378504 -41.734219 \nL 327.16288 -41.734219 \nL 328.947257 -41.734219 \nL 330.731633 -41.734219 \nL 332.51601 -41.734219 \nL 334.300386 -41.734219 \nL 336.084762 -41.734219 \nL 337.869139 -41.734219 \nL 339.653515 -41.734219 \nL 341.437892 -41.734219 \nL 343.222268 -41.734219 \nL 345.006645 -41.734219 \nL 346.791021 -41.734219 \nL 348.575397 -41.734219 \nL 350.359774 -41.734219 \nL 352.14415 -41.734219 \nL 353.928527 -41.734219 \nL 355.712903 -41.734219 \nL 357.49728 -41.734219 \nL 359.281656 -41.734219 \nL 361.066032 -41.734219 \nL 362.850409 -41.734219 \nL 364.634785 -41.734219 \nL 366.419162 -41.734219 \nL 368.203538 -41.734219 \nL 369.987915 -41.734219 \nL 371.772291 -41.734219 \nL 373.556667 -41.734219 \nL 375.341044 -41.734219 \nL 377.12542 -41.734219 \nL 378.909797 -41.734219 \nL 380.694173 -41.734219 \nL 382.47855 -41.734219 \nL 384.262926 -41.734219 \nL 386.047302 -41.734219 \nL 387.831679 -41.734219 \nL 389.616055 -41.734219 \nL 391.400432 -41.734219 \nL 393.184808 -41.734219 \nL 394.969185 -41.734219 \nL 396.753561 -41.734219 \nL 398.537937 -41.734219 \nL 400.322314 -41.734219 \nL 402.10669 -41.734219 \nL 403.891067 -41.734219 \nL 405.675443 -41.734219 \nL 407.45982 -41.734219 \nL 409.244196 -41.734219 \nL 411.028572 -41.734219 \nL 412.812949 -41.734219 \nL 414.597325 -41.734219 \nL 416.381702 -41.734219 \nL 418.166078 -41.734219 \nL 419.950455 -41.734219 \nL 419.950455 -41.745533 \nL 419.950455 -41.745533 \nL 418.166078 -41.756031 \nL 416.381702 -41.774365 \nL 414.597325 -41.804804 \nL 412.812949 -41.852836 \nL 411.028572 -41.92487 \nL 409.244196 -42.027525 \nL 407.45982 -42.166519 \nL 405.675443 -42.345275 \nL 403.891067 -42.563563 \nL 402.10669 -42.816549 \nL 400.322314 -43.094655 \nL 398.537937 -43.38445 \nL 396.753561 -43.670538 \nL 394.969185 -43.938114 \nL 393.184808 -44.175588 \nL 391.400432 -44.376648 \nL 389.616055 -44.541227 \nL 387.831679 -44.675132 \nL 386.047302 -44.788462 \nL 384.262926 -44.893232 \nL 382.47855 -45.000852 \nL 380.694173 -45.120035 \nL 378.909797 -45.255594 \nL 377.12542 -45.40829 \nL 375.341044 -45.57563 \nL 373.556667 -45.753363 \nL 371.772291 -45.937303 \nL 369.987915 -46.125148 \nL 368.203538 -46.317989 \nL 366.419162 -46.521241 \nL 364.634785 -46.744799 \nL 362.850409 -47.002296 \nL 361.066032 -47.309485 \nL 359.281656 -47.681965 \nL 357.49728 -48.132591 \nL 355.712903 -48.668982 \nL 353.928527 -49.291525 \nL 352.14415 -49.992148 \nL 350.359774 -50.754112 \nL 348.575397 -51.552995 \nL 346.791021 -52.359068 \nL 345.006645 -53.141103 \nL 343.222268 -53.871343 \nL 341.437892 -54.530912 \nL 339.653515 -55.114446 \nL 337.869139 -55.63258 \nL 336.084762 -56.111203 \nL 334.300386 -56.587167 \nL 332.51601 -57.101177 \nL 330.731633 -57.689503 \nL 328.947257 -58.376596 \nL 327.16288 -59.170521 \nL 325.378504 -60.062376 \nL 323.594127 -61.029786 \nL 321.809751 -62.043545 \nL 320.025375 -63.075734 \nL 318.240998 -64.107376 \nL 316.456622 -65.133897 \nL 314.672245 -66.167311 \nL 312.887869 -67.23488 \nL 311.103492 -68.374832 \nL 309.319116 -69.630387 \nL 307.53474 -71.043539 \nL 305.750363 -72.649871 \nL 303.965987 -74.475137 \nL 302.18161 -76.5337 \nL 300.397234 -78.828402 \nL 298.612857 -81.351279 \nL 296.828481 -84.084709 \nL 295.044105 -87.002948 \nL 293.259728 -90.074331 \nL 291.475352 -93.264413 \nL 289.690975 -96.540026 \nL 287.906599 -99.873658 \nL 286.122222 -103.24706 \nL 284.337846 -106.652866 \nL 282.55347 -110.093352 \nL 280.769093 -113.576383 \nL 278.984717 -117.109664 \nL 277.20034 -120.695323 \nL 275.415964 -124.327104 \nL 273.631587 -127.991855 \nL 271.847211 -131.675679 \nL 270.062835 -135.373469 \nL 268.278458 -139.099106 \nL 266.494082 -142.892748 \nL 264.709705 -146.82162 \nL 262.925329 -150.971445 \nL 261.140952 -155.427227 \nL 259.356576 -160.244519 \nL 257.5722 -165.415528 \nL 255.787823 -170.837853 \nL 254.003447 -176.29615 \nL 252.21907 -181.466757 \nL 250.434694 -185.951166 \nL 248.650317 -189.336181 \nL 246.865941 -191.269149 \nL 245.081565 -191.529298 \nL 243.297188 -190.07485 \nL 241.512812 -187.051544 \nL 239.728435 -182.759814 \nL 237.944059 -177.590727 \nL 236.159683 -171.949706 \nL 234.375306 -166.188947 \nL 232.59093 -160.564082 \nL 230.806553 -155.221132 \nL 229.022177 -150.210082 \nL 227.2378 -145.51494 \nL 225.453424 -141.088297 \nL 223.669048 -136.88047 \nL 221.884671 -132.857573 \nL 220.100295 -129.007357 \nL 218.315918 -125.335166 \nL 216.531542 -121.854213 \nL 214.747165 -118.574742 \nL 212.962789 -115.495805 \nL 211.178413 -112.60174 \nL 209.394036 -109.863684 \nL 207.60966 -107.244828 \nL 205.825283 -104.707282 \nL 204.040907 -102.218332 \nL 202.25653 -99.754536 \nL 200.472154 -97.303132 \nL 198.687778 -94.861137 \nL 196.903401 -92.43306 \nL 195.119025 -90.028216 \nL 193.334648 -87.658352 \nL 191.550272 -85.335918 \nL 189.765895 -83.073062 \nL 187.981519 -80.881243 \nL 186.197143 -78.771316 \nL 184.412766 -76.753869 \nL 182.62839 -74.839538 \nL 180.844013 -73.039002 \nL 179.059637 -71.362411 \nL 177.27526 -69.818214 \nL 175.490884 -68.411564 \nL 173.706508 -67.14273 \nL 171.922131 -66.005989 \nL 170.137755 -64.989404 \nL 168.353378 -64.07566 \nL 166.569002 -63.243824 \nL 164.784625 -62.471705 \nL 163.000249 -61.738312 \nL 161.215873 -61.025929 \nL 159.431496 -60.321419 \nL 157.64712 -59.61652 \nL 155.862743 -58.90718 \nL 154.078367 -58.192174 \nL 152.29399 -57.471461 \nL 150.509614 -56.744823 \nL 148.725238 -56.011206 \nL 146.940861 -55.268981 \nL 145.156485 -54.517017 \nL 143.372108 -53.756199 \nL 141.587732 -52.990861 \nL 139.803355 -52.229643 \nL 138.018979 -51.485408 \nL 136.234603 -50.774146 \nL 134.450226 -50.11301 \nL 132.66585 -49.517861 \nL 130.881473 -49.000814 \nL 129.097097 -48.56825 \nL 127.31272 -48.21966 \nL 125.528344 -47.947495 \nL 123.743968 -47.737991 \nL 121.959591 -47.572795 \nL 120.175215 -47.431108 \nL 118.390838 -47.292067 \nL 116.606462 -47.137105 \nL 114.822085 -46.952065 \nL 113.037709 -46.728844 \nL 111.253333 -46.466319 \nL 109.468956 -46.170294 \nL 107.68458 -45.852305 \nL 105.900203 -45.52729 \nL 104.115827 -45.210481 \nL 102.33145 -44.914155 \nL 100.547074 -44.645093 \nL 98.762698 -44.40345 \nL 96.978321 -44.183422 \nL 95.193945 -43.975474 \nL 93.409568 -43.769468 \nL 91.625192 -43.557693 \nL 89.840815 -43.336949 \nL 88.056439 -43.109182 \nL 86.272063 -42.880659 \nL 84.487686 -42.660136 \nL 82.70331 -42.456661 \nL 80.918933 -42.277652 \nL 79.134557 -42.127666 \nL 77.35018 -42.008025 \nL 75.565804 -41.917167 \nL 73.781428 -41.851471 \nL 71.997051 -41.806238 \nL 70.212675 -41.776581 \nL 68.428298 -41.758064 \nL 66.643922 -41.747055 \nL 64.859545 -41.740824 \nz\n\" style=\"stroke: #4c72b0\"/>\n    </defs>\n    <g clip-path=\"url(#p4dc646d425)\">\n     <use xlink:href=\"#m928f287c8b\" x=\"0\" y=\"266.374219\" style=\"fill: #4c72b0; fill-opacity: 0.25; stroke: #4c72b0\"/>\n    </g>\n   </g>\n   <g id=\"patch_3\">\n    <path d=\"M 47.105 224.64 \nL 47.105 7.2 \n\" style=\"fill: none; stroke: #ffffff; stroke-width: 1.25; stroke-linejoin: miter; stroke-linecap: square\"/>\n   </g>\n   <g id=\"patch_4\">\n    <path d=\"M 437.705 224.64 \nL 437.705 7.2 \n\" style=\"fill: none; stroke: #ffffff; stroke-width: 1.25; stroke-linejoin: miter; stroke-linecap: square\"/>\n   </g>\n   <g id=\"patch_5\">\n    <path d=\"M 47.105 224.64 \nL 437.705 224.64 \n\" style=\"fill: none; stroke: #ffffff; stroke-width: 1.25; stroke-linejoin: miter; stroke-linecap: square\"/>\n   </g>\n   <g id=\"patch_6\">\n    <path d=\"M 47.105 7.2 \nL 437.705 7.2 \n\" style=\"fill: none; stroke: #ffffff; stroke-width: 1.25; stroke-linejoin: miter; stroke-linecap: square\"/>\n   </g>\n   <g id=\"legend_1\">\n    <g id=\"patch_7\">\n     <path d=\"M 367.922031 62.679531 \nL 430.005 62.679531 \nQ 432.205 62.679531 432.205 60.479531 \nL 432.205 14.9 \nQ 432.205 12.7 430.005 12.7 \nL 367.922031 12.7 \nQ 365.722031 12.7 365.722031 14.9 \nL 365.722031 60.479531 \nQ 365.722031 62.679531 367.922031 62.679531 \nz\n\" style=\"fill: #eaeaf2; opacity: 0.8; stroke: #cccccc; stroke-linejoin: miter\"/>\n    </g>\n    <g id=\"patch_8\">\n     <path d=\"M 370.122031 24.973594 \nL 392.122031 24.973594 \nL 392.122031 17.273594 \nL 370.122031 17.273594 \nz\n\" style=\"fill: #c44e52; fill-opacity: 0.25; stroke: #c44e52; stroke-linejoin: miter\"/>\n    </g>\n    <g id=\"text_19\">\n     <!-- EAP -->\n     <g style=\"fill: #262626\" transform=\"translate(400.922031 24.973594)scale(0.11 -0.11)\">\n      <defs>\n       <path id=\"ArialMT-45\" d=\"M 506 0 \nL 506 4581 \nL 3819 4581 \nL 3819 4041 \nL 1113 4041 \nL 1113 2638 \nL 3647 2638 \nL 3647 2100 \nL 1113 2100 \nL 1113 541 \nL 3925 541 \nL 3925 0 \nL 506 0 \nz\n\" transform=\"scale(0.015625)\"/>\n       <path id=\"ArialMT-41\" d=\"M -9 0 \nL 1750 4581 \nL 2403 4581 \nL 4278 0 \nL 3588 0 \nL 3053 1388 \nL 1138 1388 \nL 634 0 \nL -9 0 \nz\nM 1313 1881 \nL 2866 1881 \nL 2388 3150 \nQ 2169 3728 2063 4100 \nQ 1975 3659 1816 3225 \nL 1313 1881 \nz\n\" transform=\"scale(0.015625)\"/>\n       <path id=\"ArialMT-50\" d=\"M 494 0 \nL 494 4581 \nL 2222 4581 \nQ 2678 4581 2919 4538 \nQ 3256 4481 3484 4323 \nQ 3713 4166 3852 3881 \nQ 3991 3597 3991 3256 \nQ 3991 2672 3619 2267 \nQ 3247 1863 2275 1863 \nL 1100 1863 \nL 1100 0 \nL 494 0 \nz\nM 1100 2403 \nL 2284 2403 \nQ 2872 2403 3119 2622 \nQ 3366 2841 3366 3238 \nQ 3366 3525 3220 3729 \nQ 3075 3934 2838 4000 \nQ 2684 4041 2272 4041 \nL 1100 4041 \nL 1100 2403 \nz\n\" transform=\"scale(0.015625)\"/>\n      </defs>\n      <use xlink:href=\"#ArialMT-45\"/>\n      <use xlink:href=\"#ArialMT-41\" x=\"66.699219\"/>\n      <use xlink:href=\"#ArialMT-50\" x=\"133.398438\"/>\n     </g>\n    </g>\n    <g id=\"patch_9\">\n     <path d=\"M 370.122031 40.533437 \nL 392.122031 40.533437 \nL 392.122031 32.833437 \nL 370.122031 32.833437 \nz\n\" style=\"fill: #55a868; fill-opacity: 0.25; stroke: #55a868; stroke-linejoin: miter\"/>\n    </g>\n    <g id=\"text_20\">\n     <!-- HPL -->\n     <g style=\"fill: #262626\" transform=\"translate(400.922031 40.533437)scale(0.11 -0.11)\">\n      <defs>\n       <path id=\"ArialMT-48\" d=\"M 513 0 \nL 513 4581 \nL 1119 4581 \nL 1119 2700 \nL 3500 2700 \nL 3500 4581 \nL 4106 4581 \nL 4106 0 \nL 3500 0 \nL 3500 2159 \nL 1119 2159 \nL 1119 0 \nL 513 0 \nz\n\" transform=\"scale(0.015625)\"/>\n       <path id=\"ArialMT-4c\" d=\"M 469 0 \nL 469 4581 \nL 1075 4581 \nL 1075 541 \nL 3331 541 \nL 3331 0 \nL 469 0 \nz\n\" transform=\"scale(0.015625)\"/>\n      </defs>\n      <use xlink:href=\"#ArialMT-48\"/>\n      <use xlink:href=\"#ArialMT-50\" x=\"72.216797\"/>\n      <use xlink:href=\"#ArialMT-4c\" x=\"138.916016\"/>\n     </g>\n    </g>\n    <g id=\"patch_10\">\n     <path d=\"M 370.122031 56.093281 \nL 392.122031 56.093281 \nL 392.122031 48.393281 \nL 370.122031 48.393281 \nz\n\" style=\"fill: #4c72b0; fill-opacity: 0.25; stroke: #4c72b0; stroke-linejoin: miter\"/>\n    </g>\n    <g id=\"text_21\">\n     <!-- MWS -->\n     <g style=\"fill: #262626\" transform=\"translate(400.922031 56.093281)scale(0.11 -0.11)\">\n      <defs>\n       <path id=\"ArialMT-4d\" d=\"M 475 0 \nL 475 4581 \nL 1388 4581 \nL 2472 1338 \nQ 2622 884 2691 659 \nQ 2769 909 2934 1394 \nL 4031 4581 \nL 4847 4581 \nL 4847 0 \nL 4263 0 \nL 4263 3834 \nL 2931 0 \nL 2384 0 \nL 1059 3900 \nL 1059 0 \nL 475 0 \nz\n\" transform=\"scale(0.015625)\"/>\n       <path id=\"ArialMT-57\" d=\"M 1294 0 \nL 78 4581 \nL 700 4581 \nL 1397 1578 \nQ 1509 1106 1591 641 \nQ 1766 1375 1797 1488 \nL 2669 4581 \nL 3400 4581 \nL 4056 2263 \nQ 4303 1400 4413 641 \nQ 4500 1075 4641 1638 \nL 5359 4581 \nL 5969 4581 \nL 4713 0 \nL 4128 0 \nL 3163 3491 \nQ 3041 3928 3019 4028 \nQ 2947 3713 2884 3491 \nL 1913 0 \nL 1294 0 \nz\n\" transform=\"scale(0.015625)\"/>\n       <path id=\"ArialMT-53\" d=\"M 288 1472 \nL 859 1522 \nQ 900 1178 1048 958 \nQ 1197 738 1509 602 \nQ 1822 466 2213 466 \nQ 2559 466 2825 569 \nQ 3091 672 3220 851 \nQ 3350 1031 3350 1244 \nQ 3350 1459 3225 1620 \nQ 3100 1781 2813 1891 \nQ 2628 1963 1997 2114 \nQ 1366 2266 1113 2400 \nQ 784 2572 623 2826 \nQ 463 3081 463 3397 \nQ 463 3744 659 4045 \nQ 856 4347 1234 4503 \nQ 1613 4659 2075 4659 \nQ 2584 4659 2973 4495 \nQ 3363 4331 3572 4012 \nQ 3781 3694 3797 3291 \nL 3216 3247 \nQ 3169 3681 2898 3903 \nQ 2628 4125 2100 4125 \nQ 1550 4125 1298 3923 \nQ 1047 3722 1047 3438 \nQ 1047 3191 1225 3031 \nQ 1400 2872 2139 2705 \nQ 2878 2538 3153 2413 \nQ 3553 2228 3743 1945 \nQ 3934 1663 3934 1294 \nQ 3934 928 3725 604 \nQ 3516 281 3123 101 \nQ 2731 -78 2241 -78 \nQ 1619 -78 1198 103 \nQ 778 284 539 648 \nQ 300 1013 288 1472 \nz\n\" transform=\"scale(0.015625)\"/>\n      </defs>\n      <use xlink:href=\"#ArialMT-4d\"/>\n      <use xlink:href=\"#ArialMT-57\" x=\"83.300781\"/>\n      <use xlink:href=\"#ArialMT-53\" x=\"177.685547\"/>\n     </g>\n    </g>\n   </g>\n  </g>\n </g>\n <defs>\n  <clipPath id=\"p4dc646d425\">\n   <rect x=\"47.105\" y=\"7.2\" width=\"390.6\" height=\"217.44\"/>\n  </clipPath>\n </defs>\n</svg>\n",
      "text/plain": [
       "<Figure size 504x288 with 1 Axes>"
      ]
     },
     "metadata": {},
     "output_type": "display_data"
    }
   ],
   "source": [
    "f, ax = plt.subplots(figsize=(7,4))\n",
    "sns.kdeplot(drop_outliers(eap.sentiment), shade=True, color=\"r\");\n",
    "sns.kdeplot(drop_outliers(hpl.sentiment), shade=True, color=\"g\");\n",
    "sns.kdeplot(drop_outliers(mws.sentiment), shade=True, color=\"b\");\n",
    "ax.legend(labels=['EAP', 'HPL', 'MWS']);"
   ]
  },
  {
   "cell_type": "markdown",
   "id": "bdc9e1f8",
   "metadata": {},
   "source": [
    "Sentiment distribution seem to be similar for all authors, with EAP slightly more neutral"
   ]
  },
  {
   "cell_type": "markdown",
   "id": "e3515af9",
   "metadata": {},
   "source": [
    "## Model Training"
   ]
  },
  {
   "cell_type": "code",
   "execution_count": 23,
   "id": "639ad9ac",
   "metadata": {},
   "outputs": [],
   "source": [
    "from sklearn.model_selection import train_test_split, cross_val_score\n",
    "from sklearn.feature_extraction.text import CountVectorizer, TfidfVectorizer\n",
    "from sklearn.preprocessing import StandardScaler\n",
    "\n",
    "from sklearn.naive_bayes import MultinomialNB\n",
    "from sklearn.linear_model import LogisticRegression\n",
    "from sklearn.svm import SVC\n",
    "from sklearn.ensemble import RandomForestClassifier"
   ]
  },
  {
   "cell_type": "code",
   "execution_count": 24,
   "id": "31ecccdb",
   "metadata": {},
   "outputs": [],
   "source": [
    "y = train_df['author']"
   ]
  },
  {
   "cell_type": "code",
   "execution_count": 25,
   "id": "7b5de810",
   "metadata": {},
   "outputs": [],
   "source": [
    "def get_log_loss(model, train, test):\n",
    "    scores = cross_val_score(model, train, test, cv=10, n_jobs=-1, scoring='neg_log_loss')\n",
    "    print('LogLoss: %.3f +- %.3f' % (-np.mean(scores), 2*np.std(scores)))"
   ]
  },
  {
   "cell_type": "markdown",
   "id": "0ce6868d",
   "metadata": {},
   "source": [
    "### Count Vectorised"
   ]
  },
  {
   "cell_type": "markdown",
   "id": "49462cba",
   "metadata": {},
   "source": [
    "#### Cleaned Text"
   ]
  },
  {
   "cell_type": "code",
   "execution_count": 26,
   "id": "ffe97db7",
   "metadata": {},
   "outputs": [
    {
     "name": "stdout",
     "output_type": "stream",
     "text": [
      "LogLoss: 0.460 +- 0.045\n"
     ]
    }
   ],
   "source": [
    "cv = CountVectorizer(ngram_range=(1, 2))\n",
    "X = cv.fit_transform(train_df.text_cleaned)\n",
    "get_log_loss(MultinomialNB(), X, y)"
   ]
  },
  {
   "cell_type": "code",
   "execution_count": 27,
   "id": "8e0050a9",
   "metadata": {
    "scrolled": false
   },
   "outputs": [
    {
     "name": "stdout",
     "output_type": "stream",
     "text": [
      "LogLoss: 0.498 +- 0.032\n"
     ]
    }
   ],
   "source": [
    "get_log_loss(LogisticRegression(max_iter=1000), X, y)"
   ]
  },
  {
   "cell_type": "markdown",
   "id": "3d95b760",
   "metadata": {},
   "source": [
    "#### Text with Entities Replaced"
   ]
  },
  {
   "cell_type": "code",
   "execution_count": 28,
   "id": "d6b5878a",
   "metadata": {},
   "outputs": [
    {
     "name": "stdout",
     "output_type": "stream",
     "text": [
      "LogLoss: 0.698 +- 0.067\n"
     ]
    }
   ],
   "source": [
    "cv = CountVectorizer(ngram_range=(1, 2))\n",
    "X = cv.fit_transform(train_df.text_ent_repl)\n",
    "get_log_loss(MultinomialNB(), X, y)"
   ]
  },
  {
   "cell_type": "code",
   "execution_count": 29,
   "id": "9294ea5f",
   "metadata": {
    "scrolled": true
   },
   "outputs": [
    {
     "name": "stdout",
     "output_type": "stream",
     "text": [
      "LogLoss: 0.489 +- 0.020\n"
     ]
    }
   ],
   "source": [
    "get_log_loss(LogisticRegression(max_iter=1000), X, y)"
   ]
  },
  {
   "cell_type": "markdown",
   "id": "0d9e915f",
   "metadata": {},
   "source": [
    "### TF-IDF"
   ]
  },
  {
   "cell_type": "markdown",
   "id": "b74856a3",
   "metadata": {},
   "source": [
    "#### Cleaned Text"
   ]
  },
  {
   "cell_type": "code",
   "execution_count": 30,
   "id": "03592287",
   "metadata": {},
   "outputs": [
    {
     "name": "stdout",
     "output_type": "stream",
     "text": [
      "LogLoss: 0.588 +- 0.015\n"
     ]
    }
   ],
   "source": [
    "tfidf_v = TfidfVectorizer(ngram_range=(1,1), sublinear_tf=True)\n",
    "X = tfidf_v.fit_transform(train_df.text_cleaned)\n",
    "get_log_loss(MultinomialNB(), X, y)"
   ]
  },
  {
   "cell_type": "code",
   "execution_count": 31,
   "id": "ec840d15",
   "metadata": {
    "scrolled": true
   },
   "outputs": [
    {
     "name": "stdout",
     "output_type": "stream",
     "text": [
      "LogLoss: 0.561 +- 0.022\n"
     ]
    }
   ],
   "source": [
    "get_log_loss(LogisticRegression(max_iter=1000), X, y)"
   ]
  },
  {
   "cell_type": "markdown",
   "id": "d45e0ca6",
   "metadata": {},
   "source": [
    "#### Text with Entities Replaced"
   ]
  },
  {
   "cell_type": "code",
   "execution_count": 32,
   "id": "53120a77",
   "metadata": {},
   "outputs": [
    {
     "name": "stdout",
     "output_type": "stream",
     "text": [
      "LogLoss: 0.638 +- 0.014\n"
     ]
    }
   ],
   "source": [
    "tfidf_v = TfidfVectorizer(ngram_range=(1,1), sublinear_tf=True)\n",
    "X = tfidf_v.fit_transform(train_df.text_ent_repl)\n",
    "get_log_loss(MultinomialNB(), X, y)"
   ]
  },
  {
   "cell_type": "code",
   "execution_count": 33,
   "id": "7889c2e2",
   "metadata": {
    "scrolled": false
   },
   "outputs": [
    {
     "name": "stdout",
     "output_type": "stream",
     "text": [
      "LogLoss: 0.561 +- 0.013\n"
     ]
    }
   ],
   "source": [
    "get_log_loss(LogisticRegression(max_iter=1000), X, y)"
   ]
  },
  {
   "cell_type": "markdown",
   "id": "69c45c5d",
   "metadata": {},
   "source": [
    "### Meta Features Only"
   ]
  },
  {
   "cell_type": "code",
   "execution_count": 34,
   "id": "f9dcbb0e",
   "metadata": {},
   "outputs": [],
   "source": [
    "import xgboost as xgb\n",
    "import lightgbm as lgb"
   ]
  },
  {
   "cell_type": "code",
   "execution_count": 35,
   "id": "2a65b5de",
   "metadata": {},
   "outputs": [],
   "source": [
    "X_meta = train_df.drop(['id', 'text', 'text_cleaned', 'text_ent_repl', 'author'], axis=1)"
   ]
  },
  {
   "cell_type": "markdown",
   "id": "d3f4875e",
   "metadata": {},
   "source": [
    "#### LGBM\n",
    "Light Gradient Boosting Machines"
   ]
  },
  {
   "cell_type": "code",
   "execution_count": 36,
   "id": "d5784042",
   "metadata": {},
   "outputs": [
    {
     "name": "stdout",
     "output_type": "stream",
     "text": [
      "LogLoss: 0.935 +- 0.017\n"
     ]
    }
   ],
   "source": [
    "lgbc = lgb.LGBMClassifier(objective='multiclass', n_estimators=100)\n",
    "get_log_loss(lgbc, X_meta, y)"
   ]
  },
  {
   "cell_type": "markdown",
   "id": "c3fde03e",
   "metadata": {},
   "source": [
    "#### XGBoost"
   ]
  },
  {
   "cell_type": "code",
   "execution_count": 37,
   "id": "8718d053",
   "metadata": {},
   "outputs": [
    {
     "name": "stdout",
     "output_type": "stream",
     "text": [
      "LogLoss: 0.986 +- 0.026\n"
     ]
    }
   ],
   "source": [
    "author_encoding = {\n",
    "    'EAP': 0,\n",
    "    'MWS': 1,\n",
    "    'HPL': 2\n",
    "}\n",
    "\n",
    "y_encoded = [author_encoding[auth] for auth in y]\n",
    "\n",
    "xgbc = xgb.XGBClassifier(objective='multi:softprob', n_estimators=200)\n",
    "get_log_loss(xgbc, X_meta, y_encoded)"
   ]
  },
  {
   "cell_type": "code",
   "execution_count": 38,
   "id": "376d3125",
   "metadata": {
    "scrolled": true
   },
   "outputs": [
    {
     "data": {
      "text/plain": [
       "<AxesSubplot:title={'center':'Feature importance'}, xlabel='F score', ylabel='Features'>"
      ]
     },
     "execution_count": 38,
     "metadata": {},
     "output_type": "execute_result"
    },
    {
     "data": {
      "image/svg+xml": "<?xml version=\"1.0\" encoding=\"utf-8\" standalone=\"no\"?>\n<!DOCTYPE svg PUBLIC \"-//W3C//DTD SVG 1.1//EN\"\n  \"http://www.w3.org/Graphics/SVG/1.1/DTD/svg11.dtd\">\n<svg xmlns:xlink=\"http://www.w3.org/1999/xlink\" width=\"460.728224pt\" height=\"280.963594pt\" viewBox=\"0 0 460.728224 280.963594\" xmlns=\"http://www.w3.org/2000/svg\" version=\"1.1\">\n <metadata>\n  <rdf:RDF xmlns:dc=\"http://purl.org/dc/elements/1.1/\" xmlns:cc=\"http://creativecommons.org/ns#\" xmlns:rdf=\"http://www.w3.org/1999/02/22-rdf-syntax-ns#\">\n   <cc:Work>\n    <dc:type rdf:resource=\"http://purl.org/dc/dcmitype/StillImage\"/>\n    <dc:date>2022-12-26T20:40:49.905117</dc:date>\n    <dc:format>image/svg+xml</dc:format>\n    <dc:creator>\n     <cc:Agent>\n      <dc:title>Matplotlib v3.5.1, https://matplotlib.org/</dc:title>\n     </cc:Agent>\n    </dc:creator>\n   </cc:Work>\n  </rdf:RDF>\n </metadata>\n <defs>\n  <style type=\"text/css\">*{stroke-linejoin: round; stroke-linecap: butt}</style>\n </defs>\n <g id=\"figure_1\">\n  <g id=\"patch_1\">\n   <path d=\"M 0 280.963594 \nL 460.728224 280.963594 \nL 460.728224 0 \nL 0 0 \nz\n\" style=\"fill: #ffffff\"/>\n  </g>\n  <g id=\"axes_1\">\n   <g id=\"patch_2\">\n    <path d=\"M 112.395469 239.229375 \nL 447.195469 239.229375 \nL 447.195469 21.789375 \nL 112.395469 21.789375 \nz\n\" style=\"fill: #eaeaf2\"/>\n   </g>\n   <g id=\"matplotlib.axis_1\">\n    <g id=\"xtick_1\">\n     <g id=\"line2d_1\">\n      <path d=\"M 112.395469 239.229375 \nL 112.395469 21.789375 \n\" clip-path=\"url(#p32006fad52)\" style=\"fill: none; stroke: #ffffff; stroke-linecap: round\"/>\n     </g>\n     <g id=\"text_1\">\n      <!-- 0 -->\n      <g style=\"fill: #262626\" transform=\"translate(109.336953 256.602969)scale(0.11 -0.11)\">\n       <defs>\n        <path id=\"ArialMT-30\" d=\"M 266 2259 \nQ 266 3072 433 3567 \nQ 600 4063 929 4331 \nQ 1259 4600 1759 4600 \nQ 2128 4600 2406 4451 \nQ 2684 4303 2865 4023 \nQ 3047 3744 3150 3342 \nQ 3253 2941 3253 2259 \nQ 3253 1453 3087 958 \nQ 2922 463 2592 192 \nQ 2263 -78 1759 -78 \nQ 1097 -78 719 397 \nQ 266 969 266 2259 \nz\nM 844 2259 \nQ 844 1131 1108 757 \nQ 1372 384 1759 384 \nQ 2147 384 2411 759 \nQ 2675 1134 2675 2259 \nQ 2675 3391 2411 3762 \nQ 2147 4134 1753 4134 \nQ 1366 4134 1134 3806 \nQ 844 3388 844 2259 \nz\n\" transform=\"scale(0.015625)\"/>\n       </defs>\n       <use xlink:href=\"#ArialMT-30\"/>\n      </g>\n     </g>\n    </g>\n    <g id=\"xtick_2\">\n     <g id=\"line2d_2\">\n      <path d=\"M 182.139657 239.229375 \nL 182.139657 21.789375 \n\" clip-path=\"url(#p32006fad52)\" style=\"fill: none; stroke: #ffffff; stroke-linecap: round\"/>\n     </g>\n     <g id=\"text_2\">\n      <!-- 1000 -->\n      <g style=\"fill: #262626\" transform=\"translate(169.905594 256.602969)scale(0.11 -0.11)\">\n       <defs>\n        <path id=\"ArialMT-31\" d=\"M 2384 0 \nL 1822 0 \nL 1822 3584 \nQ 1619 3391 1289 3197 \nQ 959 3003 697 2906 \nL 697 3450 \nQ 1169 3672 1522 3987 \nQ 1875 4303 2022 4600 \nL 2384 4600 \nL 2384 0 \nz\n\" transform=\"scale(0.015625)\"/>\n       </defs>\n       <use xlink:href=\"#ArialMT-31\"/>\n       <use xlink:href=\"#ArialMT-30\" x=\"55.615234\"/>\n       <use xlink:href=\"#ArialMT-30\" x=\"111.230469\"/>\n       <use xlink:href=\"#ArialMT-30\" x=\"166.845703\"/>\n      </g>\n     </g>\n    </g>\n    <g id=\"xtick_3\">\n     <g id=\"line2d_3\">\n      <path d=\"M 251.883845 239.229375 \nL 251.883845 21.789375 \n\" clip-path=\"url(#p32006fad52)\" style=\"fill: none; stroke: #ffffff; stroke-linecap: round\"/>\n     </g>\n     <g id=\"text_3\">\n      <!-- 2000 -->\n      <g style=\"fill: #262626\" transform=\"translate(239.649782 256.602969)scale(0.11 -0.11)\">\n       <defs>\n        <path id=\"ArialMT-32\" d=\"M 3222 541 \nL 3222 0 \nL 194 0 \nQ 188 203 259 391 \nQ 375 700 629 1000 \nQ 884 1300 1366 1694 \nQ 2113 2306 2375 2664 \nQ 2638 3022 2638 3341 \nQ 2638 3675 2398 3904 \nQ 2159 4134 1775 4134 \nQ 1369 4134 1125 3890 \nQ 881 3647 878 3216 \nL 300 3275 \nQ 359 3922 746 4261 \nQ 1134 4600 1788 4600 \nQ 2447 4600 2831 4234 \nQ 3216 3869 3216 3328 \nQ 3216 3053 3103 2787 \nQ 2991 2522 2730 2228 \nQ 2469 1934 1863 1422 \nQ 1356 997 1212 845 \nQ 1069 694 975 541 \nL 3222 541 \nz\n\" transform=\"scale(0.015625)\"/>\n       </defs>\n       <use xlink:href=\"#ArialMT-32\"/>\n       <use xlink:href=\"#ArialMT-30\" x=\"55.615234\"/>\n       <use xlink:href=\"#ArialMT-30\" x=\"111.230469\"/>\n       <use xlink:href=\"#ArialMT-30\" x=\"166.845703\"/>\n      </g>\n     </g>\n    </g>\n    <g id=\"xtick_4\">\n     <g id=\"line2d_4\">\n      <path d=\"M 321.628033 239.229375 \nL 321.628033 21.789375 \n\" clip-path=\"url(#p32006fad52)\" style=\"fill: none; stroke: #ffffff; stroke-linecap: round\"/>\n     </g>\n     <g id=\"text_4\">\n      <!-- 3000 -->\n      <g style=\"fill: #262626\" transform=\"translate(309.39397 256.602969)scale(0.11 -0.11)\">\n       <defs>\n        <path id=\"ArialMT-33\" d=\"M 269 1209 \nL 831 1284 \nQ 928 806 1161 595 \nQ 1394 384 1728 384 \nQ 2125 384 2398 659 \nQ 2672 934 2672 1341 \nQ 2672 1728 2419 1979 \nQ 2166 2231 1775 2231 \nQ 1616 2231 1378 2169 \nL 1441 2663 \nQ 1497 2656 1531 2656 \nQ 1891 2656 2178 2843 \nQ 2466 3031 2466 3422 \nQ 2466 3731 2256 3934 \nQ 2047 4138 1716 4138 \nQ 1388 4138 1169 3931 \nQ 950 3725 888 3313 \nL 325 3413 \nQ 428 3978 793 4289 \nQ 1159 4600 1703 4600 \nQ 2078 4600 2393 4439 \nQ 2709 4278 2876 4000 \nQ 3044 3722 3044 3409 \nQ 3044 3113 2884 2869 \nQ 2725 2625 2413 2481 \nQ 2819 2388 3044 2092 \nQ 3269 1797 3269 1353 \nQ 3269 753 2831 336 \nQ 2394 -81 1725 -81 \nQ 1122 -81 723 278 \nQ 325 638 269 1209 \nz\n\" transform=\"scale(0.015625)\"/>\n       </defs>\n       <use xlink:href=\"#ArialMT-33\"/>\n       <use xlink:href=\"#ArialMT-30\" x=\"55.615234\"/>\n       <use xlink:href=\"#ArialMT-30\" x=\"111.230469\"/>\n       <use xlink:href=\"#ArialMT-30\" x=\"166.845703\"/>\n      </g>\n     </g>\n    </g>\n    <g id=\"xtick_5\">\n     <g id=\"line2d_5\">\n      <path d=\"M 391.372221 239.229375 \nL 391.372221 21.789375 \n\" clip-path=\"url(#p32006fad52)\" style=\"fill: none; stroke: #ffffff; stroke-linecap: round\"/>\n     </g>\n     <g id=\"text_5\">\n      <!-- 4000 -->\n      <g style=\"fill: #262626\" transform=\"translate(379.138158 256.602969)scale(0.11 -0.11)\">\n       <defs>\n        <path id=\"ArialMT-34\" d=\"M 2069 0 \nL 2069 1097 \nL 81 1097 \nL 81 1613 \nL 2172 4581 \nL 2631 4581 \nL 2631 1613 \nL 3250 1613 \nL 3250 1097 \nL 2631 1097 \nL 2631 0 \nL 2069 0 \nz\nM 2069 1613 \nL 2069 3678 \nL 634 1613 \nL 2069 1613 \nz\n\" transform=\"scale(0.015625)\"/>\n       </defs>\n       <use xlink:href=\"#ArialMT-34\"/>\n       <use xlink:href=\"#ArialMT-30\" x=\"55.615234\"/>\n       <use xlink:href=\"#ArialMT-30\" x=\"111.230469\"/>\n       <use xlink:href=\"#ArialMT-30\" x=\"166.845703\"/>\n      </g>\n     </g>\n    </g>\n    <g id=\"text_6\">\n     <!-- F score -->\n     <g style=\"fill: #262626\" transform=\"translate(259.792969 271.378594)scale(0.12 -0.12)\">\n      <defs>\n       <path id=\"ArialMT-46\" d=\"M 525 0 \nL 525 4581 \nL 3616 4581 \nL 3616 4041 \nL 1131 4041 \nL 1131 2622 \nL 3281 2622 \nL 3281 2081 \nL 1131 2081 \nL 1131 0 \nL 525 0 \nz\n\" transform=\"scale(0.015625)\"/>\n       <path id=\"ArialMT-20\" transform=\"scale(0.015625)\"/>\n       <path id=\"ArialMT-73\" d=\"M 197 991 \nL 753 1078 \nQ 800 744 1014 566 \nQ 1228 388 1613 388 \nQ 2000 388 2187 545 \nQ 2375 703 2375 916 \nQ 2375 1106 2209 1216 \nQ 2094 1291 1634 1406 \nQ 1016 1563 777 1677 \nQ 538 1791 414 1992 \nQ 291 2194 291 2438 \nQ 291 2659 392 2848 \nQ 494 3038 669 3163 \nQ 800 3259 1026 3326 \nQ 1253 3394 1513 3394 \nQ 1903 3394 2198 3281 \nQ 2494 3169 2634 2976 \nQ 2775 2784 2828 2463 \nL 2278 2388 \nQ 2241 2644 2061 2787 \nQ 1881 2931 1553 2931 \nQ 1166 2931 1000 2803 \nQ 834 2675 834 2503 \nQ 834 2394 903 2306 \nQ 972 2216 1119 2156 \nQ 1203 2125 1616 2013 \nQ 2213 1853 2448 1751 \nQ 2684 1650 2818 1456 \nQ 2953 1263 2953 975 \nQ 2953 694 2789 445 \nQ 2625 197 2315 61 \nQ 2006 -75 1616 -75 \nQ 969 -75 630 194 \nQ 291 463 197 991 \nz\n\" transform=\"scale(0.015625)\"/>\n       <path id=\"ArialMT-63\" d=\"M 2588 1216 \nL 3141 1144 \nQ 3050 572 2676 248 \nQ 2303 -75 1759 -75 \nQ 1078 -75 664 370 \nQ 250 816 250 1647 \nQ 250 2184 428 2587 \nQ 606 2991 970 3192 \nQ 1334 3394 1763 3394 \nQ 2303 3394 2647 3120 \nQ 2991 2847 3088 2344 \nL 2541 2259 \nQ 2463 2594 2264 2762 \nQ 2066 2931 1784 2931 \nQ 1359 2931 1093 2626 \nQ 828 2322 828 1663 \nQ 828 994 1084 691 \nQ 1341 388 1753 388 \nQ 2084 388 2306 591 \nQ 2528 794 2588 1216 \nz\n\" transform=\"scale(0.015625)\"/>\n       <path id=\"ArialMT-6f\" d=\"M 213 1659 \nQ 213 2581 725 3025 \nQ 1153 3394 1769 3394 \nQ 2453 3394 2887 2945 \nQ 3322 2497 3322 1706 \nQ 3322 1066 3130 698 \nQ 2938 331 2570 128 \nQ 2203 -75 1769 -75 \nQ 1072 -75 642 372 \nQ 213 819 213 1659 \nz\nM 791 1659 \nQ 791 1022 1069 705 \nQ 1347 388 1769 388 \nQ 2188 388 2466 706 \nQ 2744 1025 2744 1678 \nQ 2744 2294 2464 2611 \nQ 2184 2928 1769 2928 \nQ 1347 2928 1069 2612 \nQ 791 2297 791 1659 \nz\n\" transform=\"scale(0.015625)\"/>\n       <path id=\"ArialMT-72\" d=\"M 416 0 \nL 416 3319 \nL 922 3319 \nL 922 2816 \nQ 1116 3169 1280 3281 \nQ 1444 3394 1641 3394 \nQ 1925 3394 2219 3213 \nL 2025 2691 \nQ 1819 2813 1613 2813 \nQ 1428 2813 1281 2702 \nQ 1134 2591 1072 2394 \nQ 978 2094 978 1738 \nL 978 0 \nL 416 0 \nz\n\" transform=\"scale(0.015625)\"/>\n       <path id=\"ArialMT-65\" d=\"M 2694 1069 \nL 3275 997 \nQ 3138 488 2766 206 \nQ 2394 -75 1816 -75 \nQ 1088 -75 661 373 \nQ 234 822 234 1631 \nQ 234 2469 665 2931 \nQ 1097 3394 1784 3394 \nQ 2450 3394 2872 2941 \nQ 3294 2488 3294 1666 \nQ 3294 1616 3291 1516 \nL 816 1516 \nQ 847 969 1125 678 \nQ 1403 388 1819 388 \nQ 2128 388 2347 550 \nQ 2566 713 2694 1069 \nz\nM 847 1978 \nL 2700 1978 \nQ 2663 2397 2488 2606 \nQ 2219 2931 1791 2931 \nQ 1403 2931 1139 2672 \nQ 875 2413 847 1978 \nz\n\" transform=\"scale(0.015625)\"/>\n      </defs>\n      <use xlink:href=\"#ArialMT-46\"/>\n      <use xlink:href=\"#ArialMT-20\" x=\"61.083984\"/>\n      <use xlink:href=\"#ArialMT-73\" x=\"88.867188\"/>\n      <use xlink:href=\"#ArialMT-63\" x=\"138.867188\"/>\n      <use xlink:href=\"#ArialMT-6f\" x=\"188.867188\"/>\n      <use xlink:href=\"#ArialMT-72\" x=\"244.482422\"/>\n      <use xlink:href=\"#ArialMT-65\" x=\"277.783203\"/>\n     </g>\n    </g>\n   </g>\n   <g id=\"matplotlib.axis_2\">\n    <g id=\"ytick_1\">\n     <g id=\"line2d_6\">\n      <path d=\"M 112.395469 219.462102 \nL 447.195469 219.462102 \n\" clip-path=\"url(#p32006fad52)\" style=\"fill: none; stroke: #ffffff; stroke-linecap: round\"/>\n     </g>\n     <g id=\"text_7\">\n      <!-- n_ents -->\n      <g style=\"fill: #262626\" transform=\"translate(69.871406 223.398899)scale(0.11 -0.11)\">\n       <defs>\n        <path id=\"ArialMT-6e\" d=\"M 422 0 \nL 422 3319 \nL 928 3319 \nL 928 2847 \nQ 1294 3394 1984 3394 \nQ 2284 3394 2536 3286 \nQ 2788 3178 2913 3003 \nQ 3038 2828 3088 2588 \nQ 3119 2431 3119 2041 \nL 3119 0 \nL 2556 0 \nL 2556 2019 \nQ 2556 2363 2490 2533 \nQ 2425 2703 2258 2804 \nQ 2091 2906 1866 2906 \nQ 1506 2906 1245 2678 \nQ 984 2450 984 1813 \nL 984 0 \nL 422 0 \nz\n\" transform=\"scale(0.015625)\"/>\n        <path id=\"ArialMT-5f\" d=\"M -97 -1272 \nL -97 -866 \nL 3631 -866 \nL 3631 -1272 \nL -97 -1272 \nz\n\" transform=\"scale(0.015625)\"/>\n        <path id=\"ArialMT-74\" d=\"M 1650 503 \nL 1731 6 \nQ 1494 -44 1306 -44 \nQ 1000 -44 831 53 \nQ 663 150 594 308 \nQ 525 466 525 972 \nL 525 2881 \nL 113 2881 \nL 113 3319 \nL 525 3319 \nL 525 4141 \nL 1084 4478 \nL 1084 3319 \nL 1650 3319 \nL 1650 2881 \nL 1084 2881 \nL 1084 941 \nQ 1084 700 1114 631 \nQ 1144 563 1211 522 \nQ 1278 481 1403 481 \nQ 1497 481 1650 503 \nz\n\" transform=\"scale(0.015625)\"/>\n       </defs>\n       <use xlink:href=\"#ArialMT-6e\"/>\n       <use xlink:href=\"#ArialMT-5f\" x=\"55.615234\"/>\n       <use xlink:href=\"#ArialMT-65\" x=\"111.230469\"/>\n       <use xlink:href=\"#ArialMT-6e\" x=\"166.845703\"/>\n       <use xlink:href=\"#ArialMT-74\" x=\"222.460938\"/>\n       <use xlink:href=\"#ArialMT-73\" x=\"250.244141\"/>\n      </g>\n     </g>\n    </g>\n    <g id=\"ytick_2\">\n     <g id=\"line2d_7\">\n      <path d=\"M 112.395469 199.69483 \nL 447.195469 199.69483 \n\" clip-path=\"url(#p32006fad52)\" style=\"fill: none; stroke: #ffffff; stroke-linecap: round\"/>\n     </g>\n     <g id=\"text_8\">\n      <!-- n_words -->\n      <g style=\"fill: #262626\" transform=\"translate(61.320625 203.631626)scale(0.11 -0.11)\">\n       <defs>\n        <path id=\"ArialMT-77\" d=\"M 1034 0 \nL 19 3319 \nL 600 3319 \nL 1128 1403 \nL 1325 691 \nQ 1338 744 1497 1375 \nL 2025 3319 \nL 2603 3319 \nL 3100 1394 \nL 3266 759 \nL 3456 1400 \nL 4025 3319 \nL 4572 3319 \nL 3534 0 \nL 2950 0 \nL 2422 1988 \nL 2294 2553 \nL 1622 0 \nL 1034 0 \nz\n\" transform=\"scale(0.015625)\"/>\n        <path id=\"ArialMT-64\" d=\"M 2575 0 \nL 2575 419 \nQ 2259 -75 1647 -75 \nQ 1250 -75 917 144 \nQ 584 363 401 755 \nQ 219 1147 219 1656 \nQ 219 2153 384 2558 \nQ 550 2963 881 3178 \nQ 1213 3394 1622 3394 \nQ 1922 3394 2156 3267 \nQ 2391 3141 2538 2938 \nL 2538 4581 \nL 3097 4581 \nL 3097 0 \nL 2575 0 \nz\nM 797 1656 \nQ 797 1019 1065 703 \nQ 1334 388 1700 388 \nQ 2069 388 2326 689 \nQ 2584 991 2584 1609 \nQ 2584 2291 2321 2609 \nQ 2059 2928 1675 2928 \nQ 1300 2928 1048 2622 \nQ 797 2316 797 1656 \nz\n\" transform=\"scale(0.015625)\"/>\n       </defs>\n       <use xlink:href=\"#ArialMT-6e\"/>\n       <use xlink:href=\"#ArialMT-5f\" x=\"55.615234\"/>\n       <use xlink:href=\"#ArialMT-77\" x=\"111.230469\"/>\n       <use xlink:href=\"#ArialMT-6f\" x=\"183.447266\"/>\n       <use xlink:href=\"#ArialMT-72\" x=\"239.0625\"/>\n       <use xlink:href=\"#ArialMT-64\" x=\"272.363281\"/>\n       <use xlink:href=\"#ArialMT-73\" x=\"327.978516\"/>\n      </g>\n     </g>\n    </g>\n    <g id=\"ytick_3\">\n     <g id=\"line2d_8\">\n      <path d=\"M 112.395469 179.927557 \nL 447.195469 179.927557 \n\" clip-path=\"url(#p32006fad52)\" style=\"fill: none; stroke: #ffffff; stroke-linecap: round\"/>\n     </g>\n     <g id=\"text_9\">\n      <!-- n_punct -->\n      <g style=\"fill: #262626\" transform=\"translate(63.754375 183.864354)scale(0.11 -0.11)\">\n       <defs>\n        <path id=\"ArialMT-70\" d=\"M 422 -1272 \nL 422 3319 \nL 934 3319 \nL 934 2888 \nQ 1116 3141 1344 3267 \nQ 1572 3394 1897 3394 \nQ 2322 3394 2647 3175 \nQ 2972 2956 3137 2557 \nQ 3303 2159 3303 1684 \nQ 3303 1175 3120 767 \nQ 2938 359 2589 142 \nQ 2241 -75 1856 -75 \nQ 1575 -75 1351 44 \nQ 1128 163 984 344 \nL 984 -1272 \nL 422 -1272 \nz\nM 931 1641 \nQ 931 1000 1190 694 \nQ 1450 388 1819 388 \nQ 2194 388 2461 705 \nQ 2728 1022 2728 1688 \nQ 2728 2322 2467 2637 \nQ 2206 2953 1844 2953 \nQ 1484 2953 1207 2617 \nQ 931 2281 931 1641 \nz\n\" transform=\"scale(0.015625)\"/>\n        <path id=\"ArialMT-75\" d=\"M 2597 0 \nL 2597 488 \nQ 2209 -75 1544 -75 \nQ 1250 -75 995 37 \nQ 741 150 617 320 \nQ 494 491 444 738 \nQ 409 903 409 1263 \nL 409 3319 \nL 972 3319 \nL 972 1478 \nQ 972 1038 1006 884 \nQ 1059 663 1231 536 \nQ 1403 409 1656 409 \nQ 1909 409 2131 539 \nQ 2353 669 2445 892 \nQ 2538 1116 2538 1541 \nL 2538 3319 \nL 3100 3319 \nL 3100 0 \nL 2597 0 \nz\n\" transform=\"scale(0.015625)\"/>\n       </defs>\n       <use xlink:href=\"#ArialMT-6e\"/>\n       <use xlink:href=\"#ArialMT-5f\" x=\"55.615234\"/>\n       <use xlink:href=\"#ArialMT-70\" x=\"111.230469\"/>\n       <use xlink:href=\"#ArialMT-75\" x=\"166.845703\"/>\n       <use xlink:href=\"#ArialMT-6e\" x=\"222.460938\"/>\n       <use xlink:href=\"#ArialMT-63\" x=\"278.076172\"/>\n       <use xlink:href=\"#ArialMT-74\" x=\"328.076172\"/>\n      </g>\n     </g>\n    </g>\n    <g id=\"ytick_4\">\n     <g id=\"line2d_9\">\n      <path d=\"M 112.395469 160.160284 \nL 447.195469 160.160284 \n\" clip-path=\"url(#p32006fad52)\" style=\"fill: none; stroke: #ffffff; stroke-linecap: round\"/>\n     </g>\n     <g id=\"text_10\">\n      <!-- n_unique_words -->\n      <g style=\"fill: #262626\" transform=\"translate(22.174375 164.097081)scale(0.11 -0.11)\">\n       <defs>\n        <path id=\"ArialMT-69\" d=\"M 425 3934 \nL 425 4581 \nL 988 4581 \nL 988 3934 \nL 425 3934 \nz\nM 425 0 \nL 425 3319 \nL 988 3319 \nL 988 0 \nL 425 0 \nz\n\" transform=\"scale(0.015625)\"/>\n        <path id=\"ArialMT-71\" d=\"M 2538 -1272 \nL 2538 353 \nQ 2406 169 2170 47 \nQ 1934 -75 1669 -75 \nQ 1078 -75 651 397 \nQ 225 869 225 1691 \nQ 225 2191 398 2587 \nQ 572 2984 901 3189 \nQ 1231 3394 1625 3394 \nQ 2241 3394 2594 2875 \nL 2594 3319 \nL 3100 3319 \nL 3100 -1272 \nL 2538 -1272 \nz\nM 803 1669 \nQ 803 1028 1072 708 \nQ 1341 388 1716 388 \nQ 2075 388 2334 692 \nQ 2594 997 2594 1619 \nQ 2594 2281 2320 2615 \nQ 2047 2950 1678 2950 \nQ 1313 2950 1058 2639 \nQ 803 2328 803 1669 \nz\n\" transform=\"scale(0.015625)\"/>\n       </defs>\n       <use xlink:href=\"#ArialMT-6e\"/>\n       <use xlink:href=\"#ArialMT-5f\" x=\"55.615234\"/>\n       <use xlink:href=\"#ArialMT-75\" x=\"111.230469\"/>\n       <use xlink:href=\"#ArialMT-6e\" x=\"166.845703\"/>\n       <use xlink:href=\"#ArialMT-69\" x=\"222.460938\"/>\n       <use xlink:href=\"#ArialMT-71\" x=\"244.677734\"/>\n       <use xlink:href=\"#ArialMT-75\" x=\"300.292969\"/>\n       <use xlink:href=\"#ArialMT-65\" x=\"355.908203\"/>\n       <use xlink:href=\"#ArialMT-5f\" x=\"411.523438\"/>\n       <use xlink:href=\"#ArialMT-77\" x=\"467.138672\"/>\n       <use xlink:href=\"#ArialMT-6f\" x=\"539.355469\"/>\n       <use xlink:href=\"#ArialMT-72\" x=\"594.970703\"/>\n       <use xlink:href=\"#ArialMT-64\" x=\"628.271484\"/>\n       <use xlink:href=\"#ArialMT-73\" x=\"683.886719\"/>\n      </g>\n     </g>\n    </g>\n    <g id=\"ytick_5\">\n     <g id=\"line2d_10\">\n      <path d=\"M 112.395469 140.393011 \nL 447.195469 140.393011 \n\" clip-path=\"url(#p32006fad52)\" style=\"fill: none; stroke: #ffffff; stroke-linecap: round\"/>\n     </g>\n     <g id=\"text_11\">\n      <!-- n_chunks -->\n      <g style=\"fill: #262626\" transform=\"translate(55.810312 144.329808)scale(0.11 -0.11)\">\n       <defs>\n        <path id=\"ArialMT-68\" d=\"M 422 0 \nL 422 4581 \nL 984 4581 \nL 984 2938 \nQ 1378 3394 1978 3394 \nQ 2347 3394 2619 3248 \nQ 2891 3103 3008 2847 \nQ 3125 2591 3125 2103 \nL 3125 0 \nL 2563 0 \nL 2563 2103 \nQ 2563 2525 2380 2717 \nQ 2197 2909 1863 2909 \nQ 1613 2909 1392 2779 \nQ 1172 2650 1078 2428 \nQ 984 2206 984 1816 \nL 984 0 \nL 422 0 \nz\n\" transform=\"scale(0.015625)\"/>\n        <path id=\"ArialMT-6b\" d=\"M 425 0 \nL 425 4581 \nL 988 4581 \nL 988 1969 \nL 2319 3319 \nL 3047 3319 \nL 1778 2088 \nL 3175 0 \nL 2481 0 \nL 1384 1697 \nL 988 1316 \nL 988 0 \nL 425 0 \nz\n\" transform=\"scale(0.015625)\"/>\n       </defs>\n       <use xlink:href=\"#ArialMT-6e\"/>\n       <use xlink:href=\"#ArialMT-5f\" x=\"55.615234\"/>\n       <use xlink:href=\"#ArialMT-63\" x=\"111.230469\"/>\n       <use xlink:href=\"#ArialMT-68\" x=\"161.230469\"/>\n       <use xlink:href=\"#ArialMT-75\" x=\"216.845703\"/>\n       <use xlink:href=\"#ArialMT-6e\" x=\"272.460938\"/>\n       <use xlink:href=\"#ArialMT-6b\" x=\"328.076172\"/>\n       <use xlink:href=\"#ArialMT-73\" x=\"378.076172\"/>\n      </g>\n     </g>\n    </g>\n    <g id=\"ytick_6\">\n     <g id=\"line2d_11\">\n      <path d=\"M 112.395469 120.625739 \nL 447.195469 120.625739 \n\" clip-path=\"url(#p32006fad52)\" style=\"fill: none; stroke: #ffffff; stroke-linecap: round\"/>\n     </g>\n     <g id=\"text_12\">\n      <!-- n_stop_words -->\n      <g style=\"fill: #262626\" transform=\"translate(34.413594 124.562536)scale(0.11 -0.11)\">\n       <use xlink:href=\"#ArialMT-6e\"/>\n       <use xlink:href=\"#ArialMT-5f\" x=\"55.615234\"/>\n       <use xlink:href=\"#ArialMT-73\" x=\"111.230469\"/>\n       <use xlink:href=\"#ArialMT-74\" x=\"161.230469\"/>\n       <use xlink:href=\"#ArialMT-6f\" x=\"189.013672\"/>\n       <use xlink:href=\"#ArialMT-70\" x=\"244.628906\"/>\n       <use xlink:href=\"#ArialMT-5f\" x=\"300.244141\"/>\n       <use xlink:href=\"#ArialMT-77\" x=\"355.859375\"/>\n       <use xlink:href=\"#ArialMT-6f\" x=\"428.076172\"/>\n       <use xlink:href=\"#ArialMT-72\" x=\"483.691406\"/>\n       <use xlink:href=\"#ArialMT-64\" x=\"516.992188\"/>\n       <use xlink:href=\"#ArialMT-73\" x=\"572.607422\"/>\n      </g>\n     </g>\n    </g>\n    <g id=\"ytick_7\">\n     <g id=\"line2d_12\">\n      <path d=\"M 112.395469 100.858466 \nL 447.195469 100.858466 \n\" clip-path=\"url(#p32006fad52)\" style=\"fill: none; stroke: #ffffff; stroke-linecap: round\"/>\n     </g>\n     <g id=\"text_13\">\n      <!-- how_current -->\n      <g style=\"fill: #262626\" transform=\"translate(42.367969 104.795263)scale(0.11 -0.11)\">\n       <use xlink:href=\"#ArialMT-68\"/>\n       <use xlink:href=\"#ArialMT-6f\" x=\"55.615234\"/>\n       <use xlink:href=\"#ArialMT-77\" x=\"111.230469\"/>\n       <use xlink:href=\"#ArialMT-5f\" x=\"183.447266\"/>\n       <use xlink:href=\"#ArialMT-63\" x=\"239.0625\"/>\n       <use xlink:href=\"#ArialMT-75\" x=\"289.0625\"/>\n       <use xlink:href=\"#ArialMT-72\" x=\"344.677734\"/>\n       <use xlink:href=\"#ArialMT-72\" x=\"377.978516\"/>\n       <use xlink:href=\"#ArialMT-65\" x=\"411.279297\"/>\n       <use xlink:href=\"#ArialMT-6e\" x=\"466.894531\"/>\n       <use xlink:href=\"#ArialMT-74\" x=\"522.509766\"/>\n      </g>\n     </g>\n    </g>\n    <g id=\"ytick_8\">\n     <g id=\"line2d_13\">\n      <path d=\"M 112.395469 81.091193 \nL 447.195469 81.091193 \n\" clip-path=\"url(#p32006fad52)\" style=\"fill: none; stroke: #ffffff; stroke-linecap: round\"/>\n     </g>\n     <g id=\"text_14\">\n      <!-- sentiment -->\n      <g style=\"fill: #262626\" transform=\"translate(55.20875 85.02799)scale(0.11 -0.11)\">\n       <defs>\n        <path id=\"ArialMT-6d\" d=\"M 422 0 \nL 422 3319 \nL 925 3319 \nL 925 2853 \nQ 1081 3097 1340 3245 \nQ 1600 3394 1931 3394 \nQ 2300 3394 2536 3241 \nQ 2772 3088 2869 2813 \nQ 3263 3394 3894 3394 \nQ 4388 3394 4653 3120 \nQ 4919 2847 4919 2278 \nL 4919 0 \nL 4359 0 \nL 4359 2091 \nQ 4359 2428 4304 2576 \nQ 4250 2725 4106 2815 \nQ 3963 2906 3769 2906 \nQ 3419 2906 3187 2673 \nQ 2956 2441 2956 1928 \nL 2956 0 \nL 2394 0 \nL 2394 2156 \nQ 2394 2531 2256 2718 \nQ 2119 2906 1806 2906 \nQ 1569 2906 1367 2781 \nQ 1166 2656 1075 2415 \nQ 984 2175 984 1722 \nL 984 0 \nL 422 0 \nz\n\" transform=\"scale(0.015625)\"/>\n       </defs>\n       <use xlink:href=\"#ArialMT-73\"/>\n       <use xlink:href=\"#ArialMT-65\" x=\"50\"/>\n       <use xlink:href=\"#ArialMT-6e\" x=\"105.615234\"/>\n       <use xlink:href=\"#ArialMT-74\" x=\"161.230469\"/>\n       <use xlink:href=\"#ArialMT-69\" x=\"189.013672\"/>\n       <use xlink:href=\"#ArialMT-6d\" x=\"211.230469\"/>\n       <use xlink:href=\"#ArialMT-65\" x=\"294.53125\"/>\n       <use xlink:href=\"#ArialMT-6e\" x=\"350.146484\"/>\n       <use xlink:href=\"#ArialMT-74\" x=\"405.761719\"/>\n      </g>\n     </g>\n    </g>\n    <g id=\"ytick_9\">\n     <g id=\"line2d_14\">\n      <path d=\"M 112.395469 61.32392 \nL 447.195469 61.32392 \n\" clip-path=\"url(#p32006fad52)\" style=\"fill: none; stroke: #ffffff; stroke-linecap: round\"/>\n     </g>\n     <g id=\"text_15\">\n      <!-- n_char -->\n      <g style=\"fill: #262626\" transform=\"translate(69.264687 65.260717)scale(0.11 -0.11)\">\n       <defs>\n        <path id=\"ArialMT-61\" d=\"M 2588 409 \nQ 2275 144 1986 34 \nQ 1697 -75 1366 -75 \nQ 819 -75 525 192 \nQ 231 459 231 875 \nQ 231 1119 342 1320 \nQ 453 1522 633 1644 \nQ 813 1766 1038 1828 \nQ 1203 1872 1538 1913 \nQ 2219 1994 2541 2106 \nQ 2544 2222 2544 2253 \nQ 2544 2597 2384 2738 \nQ 2169 2928 1744 2928 \nQ 1347 2928 1158 2789 \nQ 969 2650 878 2297 \nL 328 2372 \nQ 403 2725 575 2942 \nQ 747 3159 1072 3276 \nQ 1397 3394 1825 3394 \nQ 2250 3394 2515 3294 \nQ 2781 3194 2906 3042 \nQ 3031 2891 3081 2659 \nQ 3109 2516 3109 2141 \nL 3109 1391 \nQ 3109 606 3145 398 \nQ 3181 191 3288 0 \nL 2700 0 \nQ 2613 175 2588 409 \nz\nM 2541 1666 \nQ 2234 1541 1622 1453 \nQ 1275 1403 1131 1340 \nQ 988 1278 909 1158 \nQ 831 1038 831 891 \nQ 831 666 1001 516 \nQ 1172 366 1500 366 \nQ 1825 366 2078 508 \nQ 2331 650 2450 897 \nQ 2541 1088 2541 1459 \nL 2541 1666 \nz\n\" transform=\"scale(0.015625)\"/>\n       </defs>\n       <use xlink:href=\"#ArialMT-6e\"/>\n       <use xlink:href=\"#ArialMT-5f\" x=\"55.615234\"/>\n       <use xlink:href=\"#ArialMT-63\" x=\"111.230469\"/>\n       <use xlink:href=\"#ArialMT-68\" x=\"161.230469\"/>\n       <use xlink:href=\"#ArialMT-61\" x=\"216.845703\"/>\n       <use xlink:href=\"#ArialMT-72\" x=\"272.460938\"/>\n      </g>\n     </g>\n    </g>\n    <g id=\"ytick_10\">\n     <g id=\"line2d_15\">\n      <path d=\"M 112.395469 41.556648 \nL 447.195469 41.556648 \n\" clip-path=\"url(#p32006fad52)\" style=\"fill: none; stroke: #ffffff; stroke-linecap: round\"/>\n     </g>\n     <g id=\"text_16\">\n      <!-- char_by_word -->\n      <g style=\"fill: #262626\" transform=\"translate(33.806875 45.493445)scale(0.11 -0.11)\">\n       <defs>\n        <path id=\"ArialMT-62\" d=\"M 941 0 \nL 419 0 \nL 419 4581 \nL 981 4581 \nL 981 2947 \nQ 1338 3394 1891 3394 \nQ 2197 3394 2470 3270 \nQ 2744 3147 2920 2923 \nQ 3097 2700 3197 2384 \nQ 3297 2069 3297 1709 \nQ 3297 856 2875 390 \nQ 2453 -75 1863 -75 \nQ 1275 -75 941 416 \nL 941 0 \nz\nM 934 1684 \nQ 934 1088 1097 822 \nQ 1363 388 1816 388 \nQ 2184 388 2453 708 \nQ 2722 1028 2722 1663 \nQ 2722 2313 2464 2622 \nQ 2206 2931 1841 2931 \nQ 1472 2931 1203 2611 \nQ 934 2291 934 1684 \nz\n\" transform=\"scale(0.015625)\"/>\n        <path id=\"ArialMT-79\" d=\"M 397 -1278 \nL 334 -750 \nQ 519 -800 656 -800 \nQ 844 -800 956 -737 \nQ 1069 -675 1141 -563 \nQ 1194 -478 1313 -144 \nQ 1328 -97 1363 -6 \nL 103 3319 \nL 709 3319 \nL 1400 1397 \nQ 1534 1031 1641 628 \nQ 1738 1016 1872 1384 \nL 2581 3319 \nL 3144 3319 \nL 1881 -56 \nQ 1678 -603 1566 -809 \nQ 1416 -1088 1222 -1217 \nQ 1028 -1347 759 -1347 \nQ 597 -1347 397 -1278 \nz\n\" transform=\"scale(0.015625)\"/>\n       </defs>\n       <use xlink:href=\"#ArialMT-63\"/>\n       <use xlink:href=\"#ArialMT-68\" x=\"50\"/>\n       <use xlink:href=\"#ArialMT-61\" x=\"105.615234\"/>\n       <use xlink:href=\"#ArialMT-72\" x=\"161.230469\"/>\n       <use xlink:href=\"#ArialMT-5f\" x=\"194.53125\"/>\n       <use xlink:href=\"#ArialMT-62\" x=\"250.146484\"/>\n       <use xlink:href=\"#ArialMT-79\" x=\"305.761719\"/>\n       <use xlink:href=\"#ArialMT-5f\" x=\"355.761719\"/>\n       <use xlink:href=\"#ArialMT-77\" x=\"411.376953\"/>\n       <use xlink:href=\"#ArialMT-6f\" x=\"483.59375\"/>\n       <use xlink:href=\"#ArialMT-72\" x=\"539.208984\"/>\n       <use xlink:href=\"#ArialMT-64\" x=\"572.509766\"/>\n      </g>\n     </g>\n    </g>\n    <g id=\"text_17\">\n     <!-- Features -->\n     <g style=\"fill: #262626\" transform=\"translate(15.789375 154.185)rotate(-90)scale(0.12 -0.12)\">\n      <use xlink:href=\"#ArialMT-46\"/>\n      <use xlink:href=\"#ArialMT-65\" x=\"61.083984\"/>\n      <use xlink:href=\"#ArialMT-61\" x=\"116.699219\"/>\n      <use xlink:href=\"#ArialMT-74\" x=\"172.314453\"/>\n      <use xlink:href=\"#ArialMT-75\" x=\"200.097656\"/>\n      <use xlink:href=\"#ArialMT-72\" x=\"255.712891\"/>\n      <use xlink:href=\"#ArialMT-65\" x=\"289.013672\"/>\n      <use xlink:href=\"#ArialMT-73\" x=\"344.628906\"/>\n     </g>\n    </g>\n   </g>\n   <g id=\"patch_3\">\n    <path d=\"M 112.395469 221.43883 \nL 192.392052 221.43883 \nL 192.392052 217.485375 \nL 112.395469 217.485375 \nz\n\" clip-path=\"url(#p32006fad52)\" style=\"fill: #4c72b0; stroke: #ffffff; stroke-linejoin: miter\"/>\n   </g>\n   <g id=\"patch_4\">\n    <path d=\"M 112.395469 201.671557 \nL 200.133657 201.671557 \nL 200.133657 197.718102 \nL 112.395469 197.718102 \nz\n\" clip-path=\"url(#p32006fad52)\" style=\"fill: #4c72b0; stroke: #ffffff; stroke-linejoin: miter\"/>\n   </g>\n   <g id=\"patch_5\">\n    <path d=\"M 112.395469 181.904284 \nL 235.563705 181.904284 \nL 235.563705 177.95083 \nL 112.395469 177.95083 \nz\n\" clip-path=\"url(#p32006fad52)\" style=\"fill: #4c72b0; stroke: #ffffff; stroke-linejoin: miter\"/>\n   </g>\n   <g id=\"patch_6\">\n    <path d=\"M 112.395469 162.137011 \nL 243.584286 162.137011 \nL 243.584286 158.183557 \nL 112.395469 158.183557 \nz\n\" clip-path=\"url(#p32006fad52)\" style=\"fill: #4c72b0; stroke: #ffffff; stroke-linejoin: miter\"/>\n   </g>\n   <g id=\"patch_7\">\n    <path d=\"M 112.395469 142.369739 \nL 252.651031 142.369739 \nL 252.651031 138.416284 \nL 112.395469 138.416284 \nz\n\" clip-path=\"url(#p32006fad52)\" style=\"fill: #4c72b0; stroke: #ffffff; stroke-linejoin: miter\"/>\n   </g>\n   <g id=\"patch_8\">\n    <path d=\"M 112.395469 122.602466 \nL 274.62045 122.602466 \nL 274.62045 118.649011 \nL 112.395469 118.649011 \nz\n\" clip-path=\"url(#p32006fad52)\" style=\"fill: #4c72b0; stroke: #ffffff; stroke-linejoin: miter\"/>\n   </g>\n   <g id=\"patch_9\">\n    <path d=\"M 112.395469 102.835193 \nL 287.662613 102.835193 \nL 287.662613 98.881739 \nL 112.395469 98.881739 \nz\n\" clip-path=\"url(#p32006fad52)\" style=\"fill: #4c72b0; stroke: #ffffff; stroke-linejoin: miter\"/>\n   </g>\n   <g id=\"patch_10\">\n    <path d=\"M 112.395469 83.06792 \nL 343.527708 83.06792 \nL 343.527708 79.114466 \nL 112.395469 79.114466 \nz\n\" clip-path=\"url(#p32006fad52)\" style=\"fill: #4c72b0; stroke: #ffffff; stroke-linejoin: miter\"/>\n   </g>\n   <g id=\"patch_11\">\n    <path d=\"M 112.395469 63.300648 \nL 352.454964 63.300648 \nL 352.454964 59.347193 \nL 112.395469 59.347193 \nz\n\" clip-path=\"url(#p32006fad52)\" style=\"fill: #4c72b0; stroke: #ffffff; stroke-linejoin: miter\"/>\n   </g>\n   <g id=\"patch_12\">\n    <path d=\"M 112.395469 43.533375 \nL 416.759105 43.533375 \nL 416.759105 39.57992 \nL 112.395469 39.57992 \nz\n\" clip-path=\"url(#p32006fad52)\" style=\"fill: #4c72b0; stroke: #ffffff; stroke-linejoin: miter\"/>\n   </g>\n   <g id=\"patch_13\">\n    <path d=\"M 112.395469 239.229375 \nL 112.395469 21.789375 \n\" style=\"fill: none; stroke: #ffffff; stroke-width: 1.25; stroke-linejoin: miter; stroke-linecap: square\"/>\n   </g>\n   <g id=\"patch_14\">\n    <path d=\"M 447.195469 239.229375 \nL 447.195469 21.789375 \n\" style=\"fill: none; stroke: #ffffff; stroke-width: 1.25; stroke-linejoin: miter; stroke-linecap: square\"/>\n   </g>\n   <g id=\"patch_15\">\n    <path d=\"M 112.395469 239.229375 \nL 447.195469 239.229375 \n\" style=\"fill: none; stroke: #ffffff; stroke-width: 1.25; stroke-linejoin: miter; stroke-linecap: square\"/>\n   </g>\n   <g id=\"patch_16\">\n    <path d=\"M 112.395469 21.789375 \nL 447.195469 21.789375 \n\" style=\"fill: none; stroke: #ffffff; stroke-width: 1.25; stroke-linejoin: miter; stroke-linecap: square\"/>\n   </g>\n   <g id=\"text_18\">\n    <!-- 1147.0 -->\n    <g style=\"fill: #262626\" transform=\"translate(192.461797 222.56429)scale(0.12 -0.12)\">\n     <defs>\n      <path id=\"ArialMT-37\" d=\"M 303 3981 \nL 303 4522 \nL 3269 4522 \nL 3269 4084 \nQ 2831 3619 2401 2847 \nQ 1972 2075 1738 1259 \nQ 1569 684 1522 0 \nL 944 0 \nQ 953 541 1156 1306 \nQ 1359 2072 1739 2783 \nQ 2119 3494 2547 3981 \nL 303 3981 \nz\n\" transform=\"scale(0.015625)\"/>\n      <path id=\"ArialMT-2e\" d=\"M 581 0 \nL 581 641 \nL 1222 641 \nL 1222 0 \nL 581 0 \nz\n\" transform=\"scale(0.015625)\"/>\n     </defs>\n     <use xlink:href=\"#ArialMT-31\"/>\n     <use xlink:href=\"#ArialMT-31\" x=\"48.240234\"/>\n     <use xlink:href=\"#ArialMT-34\" x=\"103.855469\"/>\n     <use xlink:href=\"#ArialMT-37\" x=\"159.470703\"/>\n     <use xlink:href=\"#ArialMT-2e\" x=\"215.085938\"/>\n     <use xlink:href=\"#ArialMT-30\" x=\"242.869141\"/>\n    </g>\n   </g>\n   <g id=\"text_19\">\n    <!-- 1258.0 -->\n    <g style=\"fill: #262626\" transform=\"translate(200.203401 202.797017)scale(0.12 -0.12)\">\n     <defs>\n      <path id=\"ArialMT-35\" d=\"M 266 1200 \nL 856 1250 \nQ 922 819 1161 601 \nQ 1400 384 1738 384 \nQ 2144 384 2425 690 \nQ 2706 997 2706 1503 \nQ 2706 1984 2436 2262 \nQ 2166 2541 1728 2541 \nQ 1456 2541 1237 2417 \nQ 1019 2294 894 2097 \nL 366 2166 \nL 809 4519 \nL 3088 4519 \nL 3088 3981 \nL 1259 3981 \nL 1013 2750 \nQ 1425 3038 1878 3038 \nQ 2478 3038 2890 2622 \nQ 3303 2206 3303 1553 \nQ 3303 931 2941 478 \nQ 2500 -78 1738 -78 \nQ 1113 -78 717 272 \nQ 322 622 266 1200 \nz\n\" transform=\"scale(0.015625)\"/>\n      <path id=\"ArialMT-38\" d=\"M 1131 2484 \nQ 781 2613 612 2850 \nQ 444 3088 444 3419 \nQ 444 3919 803 4259 \nQ 1163 4600 1759 4600 \nQ 2359 4600 2725 4251 \nQ 3091 3903 3091 3403 \nQ 3091 3084 2923 2848 \nQ 2756 2613 2416 2484 \nQ 2838 2347 3058 2040 \nQ 3278 1734 3278 1309 \nQ 3278 722 2862 322 \nQ 2447 -78 1769 -78 \nQ 1091 -78 675 323 \nQ 259 725 259 1325 \nQ 259 1772 486 2073 \nQ 713 2375 1131 2484 \nz\nM 1019 3438 \nQ 1019 3113 1228 2906 \nQ 1438 2700 1772 2700 \nQ 2097 2700 2305 2904 \nQ 2513 3109 2513 3406 \nQ 2513 3716 2298 3927 \nQ 2084 4138 1766 4138 \nQ 1444 4138 1231 3931 \nQ 1019 3725 1019 3438 \nz\nM 838 1322 \nQ 838 1081 952 856 \nQ 1066 631 1291 507 \nQ 1516 384 1775 384 \nQ 2178 384 2440 643 \nQ 2703 903 2703 1303 \nQ 2703 1709 2433 1975 \nQ 2163 2241 1756 2241 \nQ 1359 2241 1098 1978 \nQ 838 1716 838 1322 \nz\n\" transform=\"scale(0.015625)\"/>\n     </defs>\n     <use xlink:href=\"#ArialMT-31\"/>\n     <use xlink:href=\"#ArialMT-32\" x=\"55.615234\"/>\n     <use xlink:href=\"#ArialMT-35\" x=\"111.230469\"/>\n     <use xlink:href=\"#ArialMT-38\" x=\"166.845703\"/>\n     <use xlink:href=\"#ArialMT-2e\" x=\"222.460938\"/>\n     <use xlink:href=\"#ArialMT-30\" x=\"250.244141\"/>\n    </g>\n   </g>\n   <g id=\"text_20\">\n    <!-- 1766.0 -->\n    <g style=\"fill: #262626\" transform=\"translate(235.633449 183.029744)scale(0.12 -0.12)\">\n     <defs>\n      <path id=\"ArialMT-36\" d=\"M 3184 3459 \nL 2625 3416 \nQ 2550 3747 2413 3897 \nQ 2184 4138 1850 4138 \nQ 1581 4138 1378 3988 \nQ 1113 3794 959 3422 \nQ 806 3050 800 2363 \nQ 1003 2672 1297 2822 \nQ 1591 2972 1913 2972 \nQ 2475 2972 2870 2558 \nQ 3266 2144 3266 1488 \nQ 3266 1056 3080 686 \nQ 2894 316 2569 119 \nQ 2244 -78 1831 -78 \nQ 1128 -78 684 439 \nQ 241 956 241 2144 \nQ 241 3472 731 4075 \nQ 1159 4600 1884 4600 \nQ 2425 4600 2770 4297 \nQ 3116 3994 3184 3459 \nz\nM 888 1484 \nQ 888 1194 1011 928 \nQ 1134 663 1356 523 \nQ 1578 384 1822 384 \nQ 2178 384 2434 671 \nQ 2691 959 2691 1453 \nQ 2691 1928 2437 2201 \nQ 2184 2475 1800 2475 \nQ 1419 2475 1153 2201 \nQ 888 1928 888 1484 \nz\n\" transform=\"scale(0.015625)\"/>\n     </defs>\n     <use xlink:href=\"#ArialMT-31\"/>\n     <use xlink:href=\"#ArialMT-37\" x=\"55.615234\"/>\n     <use xlink:href=\"#ArialMT-36\" x=\"111.230469\"/>\n     <use xlink:href=\"#ArialMT-36\" x=\"166.845703\"/>\n     <use xlink:href=\"#ArialMT-2e\" x=\"222.460938\"/>\n     <use xlink:href=\"#ArialMT-30\" x=\"250.244141\"/>\n    </g>\n   </g>\n   <g id=\"text_21\">\n    <!-- 1881.0 -->\n    <g style=\"fill: #262626\" transform=\"translate(243.654031 163.262472)scale(0.12 -0.12)\">\n     <use xlink:href=\"#ArialMT-31\"/>\n     <use xlink:href=\"#ArialMT-38\" x=\"55.615234\"/>\n     <use xlink:href=\"#ArialMT-38\" x=\"111.230469\"/>\n     <use xlink:href=\"#ArialMT-31\" x=\"166.845703\"/>\n     <use xlink:href=\"#ArialMT-2e\" x=\"222.460938\"/>\n     <use xlink:href=\"#ArialMT-30\" x=\"250.244141\"/>\n    </g>\n   </g>\n   <g id=\"text_22\">\n    <!-- 2011.0 -->\n    <g style=\"fill: #262626\" transform=\"translate(252.720775 143.495199)scale(0.12 -0.12)\">\n     <use xlink:href=\"#ArialMT-32\"/>\n     <use xlink:href=\"#ArialMT-30\" x=\"55.615234\"/>\n     <use xlink:href=\"#ArialMT-31\" x=\"111.230469\"/>\n     <use xlink:href=\"#ArialMT-31\" x=\"159.470703\"/>\n     <use xlink:href=\"#ArialMT-2e\" x=\"215.085938\"/>\n     <use xlink:href=\"#ArialMT-30\" x=\"242.869141\"/>\n    </g>\n   </g>\n   <g id=\"text_23\">\n    <!-- 2326.0 -->\n    <g style=\"fill: #262626\" transform=\"translate(274.690194 123.727926)scale(0.12 -0.12)\">\n     <use xlink:href=\"#ArialMT-32\"/>\n     <use xlink:href=\"#ArialMT-33\" x=\"55.615234\"/>\n     <use xlink:href=\"#ArialMT-32\" x=\"111.230469\"/>\n     <use xlink:href=\"#ArialMT-36\" x=\"166.845703\"/>\n     <use xlink:href=\"#ArialMT-2e\" x=\"222.460938\"/>\n     <use xlink:href=\"#ArialMT-30\" x=\"250.244141\"/>\n    </g>\n   </g>\n   <g id=\"text_24\">\n    <!-- 2513.0 -->\n    <g style=\"fill: #262626\" transform=\"translate(287.732357 103.960653)scale(0.12 -0.12)\">\n     <use xlink:href=\"#ArialMT-32\"/>\n     <use xlink:href=\"#ArialMT-35\" x=\"55.615234\"/>\n     <use xlink:href=\"#ArialMT-31\" x=\"111.230469\"/>\n     <use xlink:href=\"#ArialMT-33\" x=\"166.845703\"/>\n     <use xlink:href=\"#ArialMT-2e\" x=\"222.460938\"/>\n     <use xlink:href=\"#ArialMT-30\" x=\"250.244141\"/>\n    </g>\n   </g>\n   <g id=\"text_25\">\n    <!-- 3314.0 -->\n    <g style=\"fill: #262626\" transform=\"translate(343.597452 84.193381)scale(0.12 -0.12)\">\n     <use xlink:href=\"#ArialMT-33\"/>\n     <use xlink:href=\"#ArialMT-33\" x=\"55.615234\"/>\n     <use xlink:href=\"#ArialMT-31\" x=\"111.230469\"/>\n     <use xlink:href=\"#ArialMT-34\" x=\"166.845703\"/>\n     <use xlink:href=\"#ArialMT-2e\" x=\"222.460938\"/>\n     <use xlink:href=\"#ArialMT-30\" x=\"250.244141\"/>\n    </g>\n   </g>\n   <g id=\"text_26\">\n    <!-- 3442.0 -->\n    <g style=\"fill: #262626\" transform=\"translate(352.524708 64.426108)scale(0.12 -0.12)\">\n     <use xlink:href=\"#ArialMT-33\"/>\n     <use xlink:href=\"#ArialMT-34\" x=\"55.615234\"/>\n     <use xlink:href=\"#ArialMT-34\" x=\"111.230469\"/>\n     <use xlink:href=\"#ArialMT-32\" x=\"166.845703\"/>\n     <use xlink:href=\"#ArialMT-2e\" x=\"222.460938\"/>\n     <use xlink:href=\"#ArialMT-30\" x=\"250.244141\"/>\n    </g>\n   </g>\n   <g id=\"text_27\">\n    <!-- 4364.0 -->\n    <g style=\"fill: #262626\" transform=\"translate(416.828849 44.658835)scale(0.12 -0.12)\">\n     <use xlink:href=\"#ArialMT-34\"/>\n     <use xlink:href=\"#ArialMT-33\" x=\"55.615234\"/>\n     <use xlink:href=\"#ArialMT-36\" x=\"111.230469\"/>\n     <use xlink:href=\"#ArialMT-34\" x=\"166.845703\"/>\n     <use xlink:href=\"#ArialMT-2e\" x=\"222.460938\"/>\n     <use xlink:href=\"#ArialMT-30\" x=\"250.244141\"/>\n    </g>\n   </g>\n   <g id=\"text_28\">\n    <!-- Feature importance -->\n    <g style=\"fill: #262626\" transform=\"translate(227.774531 15.789375)scale(0.12 -0.12)\">\n     <use xlink:href=\"#ArialMT-46\"/>\n     <use xlink:href=\"#ArialMT-65\" x=\"61.083984\"/>\n     <use xlink:href=\"#ArialMT-61\" x=\"116.699219\"/>\n     <use xlink:href=\"#ArialMT-74\" x=\"172.314453\"/>\n     <use xlink:href=\"#ArialMT-75\" x=\"200.097656\"/>\n     <use xlink:href=\"#ArialMT-72\" x=\"255.712891\"/>\n     <use xlink:href=\"#ArialMT-65\" x=\"289.013672\"/>\n     <use xlink:href=\"#ArialMT-20\" x=\"344.628906\"/>\n     <use xlink:href=\"#ArialMT-69\" x=\"372.412109\"/>\n     <use xlink:href=\"#ArialMT-6d\" x=\"394.628906\"/>\n     <use xlink:href=\"#ArialMT-70\" x=\"477.929688\"/>\n     <use xlink:href=\"#ArialMT-6f\" x=\"533.544922\"/>\n     <use xlink:href=\"#ArialMT-72\" x=\"589.160156\"/>\n     <use xlink:href=\"#ArialMT-74\" x=\"622.460938\"/>\n     <use xlink:href=\"#ArialMT-61\" x=\"650.244141\"/>\n     <use xlink:href=\"#ArialMT-6e\" x=\"705.859375\"/>\n     <use xlink:href=\"#ArialMT-63\" x=\"761.474609\"/>\n     <use xlink:href=\"#ArialMT-65\" x=\"811.474609\"/>\n    </g>\n   </g>\n  </g>\n </g>\n <defs>\n  <clipPath id=\"p32006fad52\">\n   <rect x=\"112.395469\" y=\"21.789375\" width=\"334.8\" height=\"217.44\"/>\n  </clipPath>\n </defs>\n</svg>\n",
      "text/plain": [
       "<Figure size 432x288 with 1 Axes>"
      ]
     },
     "metadata": {},
     "output_type": "display_data"
    }
   ],
   "source": [
    "xgbc.fit(X_meta, y_encoded)\n",
    "xgb.plot_importance(xgbc)"
   ]
  },
  {
   "cell_type": "markdown",
   "id": "8833c631",
   "metadata": {},
   "source": [
    "### Stacking Features\n",
    "We select the most important features and use our base model (NB) to make classifications. We then use these classifications as features for our LGBM and XGBoost classifiers."
   ]
  },
  {
   "cell_type": "code",
   "execution_count": 39,
   "id": "5f001147",
   "metadata": {},
   "outputs": [],
   "source": [
    "from sklearn.model_selection import StratifiedKFold\n",
    "from sklearn import metrics"
   ]
  },
  {
   "cell_type": "code",
   "execution_count": 40,
   "id": "56379096",
   "metadata": {},
   "outputs": [],
   "source": [
    "def add_prob_features(vectorizer, col, model, prefix, cv=5):\n",
    "    vectorizer.fit(pd.concat([train_df[col], test_df[col]]))\n",
    "    X = vectorizer.transform(train_df[col])\n",
    "    X_test = vectorizer.transform(test_df[col])\n",
    "    \n",
    "    cv_scores = []\n",
    "    pred_test = 0\n",
    "    pred_train = np.zeros([train_df.shape[0], 3])\n",
    "    kf = StratifiedKFold(n_splits=cv, shuffle=True, random_state=123)\n",
    "    \n",
    "    print('CV started')\n",
    "    for train_index, dev_index in kf.split(X, y):\n",
    "        X_train, X_dev = X[train_index], X[dev_index]\n",
    "        y_train, y_dev = y[train_index], y[dev_index]\n",
    "        \n",
    "        model.fit(X_train, y_train)\n",
    "        pred_dev   = model.predict_proba(X_dev)\n",
    "        pred_test += model.predict_proba(X_test)\n",
    "    \n",
    "        pred_train[dev_index, :] = pred_dev\n",
    "        cv_scores.append(metrics.log_loss(y_dev, pred_dev))\n",
    "        print('.', end='')\n",
    "        \n",
    "    print('')\n",
    "    print(\"Mean CV LogLoss: %.3f\" % (np.mean(cv_scores)))\n",
    "    pred_test /= cv\n",
    "\n",
    "    train_df[prefix+'eap'] = pred_train[:, 0]\n",
    "    train_df[prefix+'hpl'] = pred_train[:, 1]\n",
    "    train_df[prefix+'mws'] = pred_train[:, 2]\n",
    "    \n",
    "    test_df[prefix+'eap'] = pred_test[:, 0]\n",
    "    test_df[prefix+'hpl'] = pred_test[:, 1]\n",
    "    test_df[prefix+'mws'] = pred_test[:, 2]"
   ]
  },
  {
   "cell_type": "code",
   "execution_count": 41,
   "id": "5301fcec",
   "metadata": {
    "scrolled": true
   },
   "outputs": [
    {
     "name": "stdout",
     "output_type": "stream",
     "text": [
      "CV started\n",
      "........................................\n",
      "Mean CV LogLoss: 0.434\n"
     ]
    }
   ],
   "source": [
    "vectorizer = CountVectorizer(\n",
    "    token_pattern=r'\\w{1,}',\n",
    "    ngram_range=(1, 2), stop_words='english'\n",
    ")\n",
    "add_prob_features(vectorizer, 'text', MultinomialNB(), 'nb_ctv_', cv=40)"
   ]
  },
  {
   "cell_type": "code",
   "execution_count": 42,
   "id": "9aba99a9",
   "metadata": {},
   "outputs": [
    {
     "name": "stdout",
     "output_type": "stream",
     "text": [
      "CV started\n",
      "........................................\n",
      "Mean CV LogLoss: 0.578\n"
     ]
    }
   ],
   "source": [
    "vectorizer = TfidfVectorizer(\n",
    "    token_pattern=r'\\w{1,}', ngram_range=(1, 1), \n",
    "    use_idf=True, smooth_idf=True, sublinear_tf=True,\n",
    ")\n",
    "add_prob_features(vectorizer, 'text_cleaned', MultinomialNB(), 'nb_tfv_', cv=40)"
   ]
  },
  {
   "cell_type": "code",
   "execution_count": 43,
   "id": "dfa82f5e",
   "metadata": {},
   "outputs": [
    {
     "name": "stdout",
     "output_type": "stream",
     "text": [
      "CV started\n",
      "........................................\n",
      "Mean CV LogLoss: 0.733\n"
     ]
    }
   ],
   "source": [
    "vectorizer = TfidfVectorizer(\n",
    "    ngram_range=(1, 5), analyzer='char'\n",
    ")\n",
    "add_prob_features(vectorizer, 'text', MultinomialNB(), 'nb_char_', cv=40)"
   ]
  },
  {
   "cell_type": "code",
   "execution_count": 44,
   "id": "2319c3b5",
   "metadata": {},
   "outputs": [
    {
     "name": "stdout",
     "output_type": "stream",
     "text": [
      "CV started\n",
      "........................................\n",
      "Mean CV LogLoss: 0.517\n"
     ]
    }
   ],
   "source": [
    "vectorizer = CountVectorizer(\n",
    "    token_pattern=r'\\w{1,}',\n",
    "    ngram_range=(1, 2), stop_words='english'\n",
    ")\n",
    "add_prob_features(vectorizer, 'text_ent_repl', MultinomialNB(), 'nb_ent_', cv=40)"
   ]
  },
  {
   "cell_type": "code",
   "execution_count": 45,
   "id": "8cd801a4",
   "metadata": {},
   "outputs": [],
   "source": [
    "X = train_df.drop(['id', 'text', 'text_cleaned', 'text_ent_repl', 'author'], axis=1)"
   ]
  },
  {
   "cell_type": "code",
   "execution_count": null,
   "id": "668488da",
   "metadata": {
    "scrolled": true
   },
   "outputs": [],
   "source": [
    "lgbc = lgb.LGBMClassifier(objective='multiclass', n_estimators=150, num_leaves=10)\n",
    "scores = cross_val_score(lgbc, X, y, cv=4, n_jobs=1, scoring='neg_log_loss')\n",
    "print('LogLoss: %.3f +- %.3f' % (-np.mean(scores), 2*np.std(scores)))"
   ]
  },
  {
   "cell_type": "code",
   "execution_count": 48,
   "id": "2487a21d",
   "metadata": {},
   "outputs": [
    {
     "name": "stdout",
     "output_type": "stream",
     "text": [
      "LogLoss: 0.395 +- 0.032\n"
     ]
    }
   ],
   "source": [
    "xgbc = xgb.XGBClassifier(objective='multi:softprob', n_estimators=150)\n",
    "scores = cross_val_score(xgbc, X, y_encoded, cv=4, n_jobs=1, scoring='neg_log_loss')\n",
    "print('LogLoss: %.3f +- %.3f' % (-np.mean(scores), 2*np.std(scores)))"
   ]
  },
  {
   "cell_type": "markdown",
   "id": "fc5f364d",
   "metadata": {},
   "source": [
    "## Evaluation"
   ]
  }
 ],
 "metadata": {
  "kernelspec": {
   "display_name": "Python 3",
   "language": "python",
   "name": "python3"
  },
  "language_info": {
   "codemirror_mode": {
    "name": "ipython",
    "version": 3
   },
   "file_extension": ".py",
   "mimetype": "text/x-python",
   "name": "python",
   "nbconvert_exporter": "python",
   "pygments_lexer": "ipython3",
   "version": "3.10.4 (v3.10.4:9d38120e33, Mar 23 2022, 17:29:05) [Clang 13.0.0 (clang-1300.0.29.30)]"
  },
  "vscode": {
   "interpreter": {
    "hash": "949777d72b0d2535278d3dc13498b2535136f6dfe0678499012e853ee9abcab1"
   }
  }
 },
 "nbformat": 4,
 "nbformat_minor": 5
}
